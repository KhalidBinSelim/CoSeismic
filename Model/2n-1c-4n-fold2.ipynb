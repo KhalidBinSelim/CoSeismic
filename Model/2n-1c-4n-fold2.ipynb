{
 "cells": [
  {
   "cell_type": "code",
   "execution_count": 1,
   "id": "772442f4",
   "metadata": {
    "execution": {
     "iopub.execute_input": "2024-10-04T16:55:34.044771Z",
     "iopub.status.busy": "2024-10-04T16:55:34.044476Z",
     "iopub.status.idle": "2024-10-04T16:56:31.314777Z",
     "shell.execute_reply": "2024-10-04T16:56:31.313739Z"
    },
    "id": "2a4fdd0f",
    "outputId": "d758fb02-8b42-4705-d4bd-bcaa6df69ea7",
    "papermill": {
     "duration": 57.293331,
     "end_time": "2024-10-04T16:56:31.327097",
     "exception": false,
     "start_time": "2024-10-04T16:55:34.033766",
     "status": "completed"
    },
    "tags": []
   },
   "outputs": [
    {
     "data": {
      "text/html": [
       "<div>\n",
       "<style scoped>\n",
       "    .dataframe tbody tr th:only-of-type {\n",
       "        vertical-align: middle;\n",
       "    }\n",
       "\n",
       "    .dataframe tbody tr th {\n",
       "        vertical-align: top;\n",
       "    }\n",
       "\n",
       "    .dataframe thead th {\n",
       "        text-align: right;\n",
       "    }\n",
       "</style>\n",
       "<table border=\"1\" class=\"dataframe\">\n",
       "  <thead>\n",
       "    <tr style=\"text-align: right;\">\n",
       "      <th></th>\n",
       "      <th>data</th>\n",
       "      <th>p_wave_arrival</th>\n",
       "      <th>time</th>\n",
       "    </tr>\n",
       "  </thead>\n",
       "  <tbody>\n",
       "    <tr>\n",
       "      <th>0</th>\n",
       "      <td>0.011564</td>\n",
       "      <td>300.0</td>\n",
       "      <td>0.00</td>\n",
       "    </tr>\n",
       "    <tr>\n",
       "      <th>1</th>\n",
       "      <td>0.012698</td>\n",
       "      <td>300.0</td>\n",
       "      <td>0.25</td>\n",
       "    </tr>\n",
       "    <tr>\n",
       "      <th>2</th>\n",
       "      <td>0.012159</td>\n",
       "      <td>300.0</td>\n",
       "      <td>0.50</td>\n",
       "    </tr>\n",
       "    <tr>\n",
       "      <th>3</th>\n",
       "      <td>0.013744</td>\n",
       "      <td>300.0</td>\n",
       "      <td>0.75</td>\n",
       "    </tr>\n",
       "    <tr>\n",
       "      <th>4</th>\n",
       "      <td>0.013187</td>\n",
       "      <td>300.0</td>\n",
       "      <td>1.00</td>\n",
       "    </tr>\n",
       "    <tr>\n",
       "      <th>...</th>\n",
       "      <td>...</td>\n",
       "      <td>...</td>\n",
       "      <td>...</td>\n",
       "    </tr>\n",
       "    <tr>\n",
       "      <th>59698396</th>\n",
       "      <td>0.005810</td>\n",
       "      <td>0.0</td>\n",
       "      <td>14924599.00</td>\n",
       "    </tr>\n",
       "    <tr>\n",
       "      <th>59698397</th>\n",
       "      <td>0.009254</td>\n",
       "      <td>0.0</td>\n",
       "      <td>14924599.25</td>\n",
       "    </tr>\n",
       "    <tr>\n",
       "      <th>59698398</th>\n",
       "      <td>0.005633</td>\n",
       "      <td>0.0</td>\n",
       "      <td>14924599.50</td>\n",
       "    </tr>\n",
       "    <tr>\n",
       "      <th>59698399</th>\n",
       "      <td>0.008816</td>\n",
       "      <td>0.0</td>\n",
       "      <td>14924599.75</td>\n",
       "    </tr>\n",
       "    <tr>\n",
       "      <th>59698400</th>\n",
       "      <td>0.005421</td>\n",
       "      <td>0.0</td>\n",
       "      <td>14924600.00</td>\n",
       "    </tr>\n",
       "  </tbody>\n",
       "</table>\n",
       "<p>59698401 rows × 3 columns</p>\n",
       "</div>"
      ],
      "text/plain": [
       "              data  p_wave_arrival         time\n",
       "0         0.011564           300.0         0.00\n",
       "1         0.012698           300.0         0.25\n",
       "2         0.012159           300.0         0.50\n",
       "3         0.013744           300.0         0.75\n",
       "4         0.013187           300.0         1.00\n",
       "...            ...             ...          ...\n",
       "59698396  0.005810             0.0  14924599.00\n",
       "59698397  0.009254             0.0  14924599.25\n",
       "59698398  0.005633             0.0  14924599.50\n",
       "59698399  0.008816             0.0  14924599.75\n",
       "59698400  0.005421             0.0  14924600.00\n",
       "\n",
       "[59698401 rows x 3 columns]"
      ]
     },
     "execution_count": 1,
     "metadata": {},
     "output_type": "execute_result"
    }
   ],
   "source": [
    "import pandas as pd\n",
    "import numpy as np\n",
    "import matplotlib.pyplot as plt\n",
    "\n",
    "import torch\n",
    "import torch.nn as nn\n",
    "\n",
    "from tqdm import tqdm\n",
    "\n",
    "data = pd.read_csv('/kaggle/input/earthquake-time-vs-velocity-dataset/space_app_not_continuous.csv')\n",
    "\n",
    "data"
   ]
  },
  {
   "cell_type": "code",
   "execution_count": 2,
   "id": "fb063f35",
   "metadata": {
    "execution": {
     "iopub.execute_input": "2024-10-04T16:56:31.347662Z",
     "iopub.status.busy": "2024-10-04T16:56:31.346823Z",
     "iopub.status.idle": "2024-10-04T16:56:31.407627Z",
     "shell.execute_reply": "2024-10-04T16:56:31.406794Z"
    },
    "id": "9akB333XcFJ6",
    "outputId": "2e8630de-1369-4281-d87c-9634ed90ba97",
    "papermill": {
     "duration": 0.07294,
     "end_time": "2024-10-04T16:56:31.409544",
     "exception": false,
     "start_time": "2024-10-04T16:56:31.336604",
     "status": "completed"
    },
    "tags": []
   },
   "outputs": [
    {
     "data": {
      "text/plain": [
       "'cuda:0'"
      ]
     },
     "execution_count": 2,
     "metadata": {},
     "output_type": "execute_result"
    }
   ],
   "source": [
    "device = 'cuda:0' if torch.cuda.is_available() else 'cpu'\n",
    "device"
   ]
  },
  {
   "cell_type": "code",
   "execution_count": 3,
   "id": "62cbfa6d",
   "metadata": {
    "execution": {
     "iopub.execute_input": "2024-10-04T16:56:31.429375Z",
     "iopub.status.busy": "2024-10-04T16:56:31.429087Z",
     "iopub.status.idle": "2024-10-04T16:56:31.868579Z",
     "shell.execute_reply": "2024-10-04T16:56:31.867551Z"
    },
    "papermill": {
     "duration": 0.451844,
     "end_time": "2024-10-04T16:56:31.870789",
     "exception": false,
     "start_time": "2024-10-04T16:56:31.418945",
     "status": "completed"
    },
    "tags": []
   },
   "outputs": [
    {
     "data": {
      "text/html": [
       "<div>\n",
       "<style scoped>\n",
       "    .dataframe tbody tr th:only-of-type {\n",
       "        vertical-align: middle;\n",
       "    }\n",
       "\n",
       "    .dataframe tbody tr th {\n",
       "        vertical-align: top;\n",
       "    }\n",
       "\n",
       "    .dataframe thead th {\n",
       "        text-align: right;\n",
       "    }\n",
       "</style>\n",
       "<table border=\"1\" class=\"dataframe\">\n",
       "  <thead>\n",
       "    <tr style=\"text-align: right;\">\n",
       "      <th></th>\n",
       "      <th>p_wave_arrival</th>\n",
       "      <th>time</th>\n",
       "      <th>data</th>\n",
       "    </tr>\n",
       "  </thead>\n",
       "  <tbody>\n",
       "    <tr>\n",
       "      <th>0</th>\n",
       "      <td>300.0</td>\n",
       "      <td>0.00</td>\n",
       "      <td>0.011564</td>\n",
       "    </tr>\n",
       "    <tr>\n",
       "      <th>1</th>\n",
       "      <td>300.0</td>\n",
       "      <td>0.25</td>\n",
       "      <td>0.012698</td>\n",
       "    </tr>\n",
       "    <tr>\n",
       "      <th>2</th>\n",
       "      <td>300.0</td>\n",
       "      <td>0.50</td>\n",
       "      <td>0.012159</td>\n",
       "    </tr>\n",
       "    <tr>\n",
       "      <th>3</th>\n",
       "      <td>300.0</td>\n",
       "      <td>0.75</td>\n",
       "      <td>0.013744</td>\n",
       "    </tr>\n",
       "    <tr>\n",
       "      <th>4</th>\n",
       "      <td>300.0</td>\n",
       "      <td>1.00</td>\n",
       "      <td>0.013187</td>\n",
       "    </tr>\n",
       "    <tr>\n",
       "      <th>...</th>\n",
       "      <td>...</td>\n",
       "      <td>...</td>\n",
       "      <td>...</td>\n",
       "    </tr>\n",
       "    <tr>\n",
       "      <th>59698396</th>\n",
       "      <td>0.0</td>\n",
       "      <td>14924599.00</td>\n",
       "      <td>0.005810</td>\n",
       "    </tr>\n",
       "    <tr>\n",
       "      <th>59698397</th>\n",
       "      <td>0.0</td>\n",
       "      <td>14924599.25</td>\n",
       "      <td>0.009254</td>\n",
       "    </tr>\n",
       "    <tr>\n",
       "      <th>59698398</th>\n",
       "      <td>0.0</td>\n",
       "      <td>14924599.50</td>\n",
       "      <td>0.005633</td>\n",
       "    </tr>\n",
       "    <tr>\n",
       "      <th>59698399</th>\n",
       "      <td>0.0</td>\n",
       "      <td>14924599.75</td>\n",
       "      <td>0.008816</td>\n",
       "    </tr>\n",
       "    <tr>\n",
       "      <th>59698400</th>\n",
       "      <td>0.0</td>\n",
       "      <td>14924600.00</td>\n",
       "      <td>0.005421</td>\n",
       "    </tr>\n",
       "  </tbody>\n",
       "</table>\n",
       "<p>59698401 rows × 3 columns</p>\n",
       "</div>"
      ],
      "text/plain": [
       "          p_wave_arrival         time      data\n",
       "0                  300.0         0.00  0.011564\n",
       "1                  300.0         0.25  0.012698\n",
       "2                  300.0         0.50  0.012159\n",
       "3                  300.0         0.75  0.013744\n",
       "4                  300.0         1.00  0.013187\n",
       "...                  ...          ...       ...\n",
       "59698396             0.0  14924599.00  0.005810\n",
       "59698397             0.0  14924599.25  0.009254\n",
       "59698398             0.0  14924599.50  0.005633\n",
       "59698399             0.0  14924599.75  0.008816\n",
       "59698400             0.0  14924600.00  0.005421\n",
       "\n",
       "[59698401 rows x 3 columns]"
      ]
     },
     "execution_count": 3,
     "metadata": {},
     "output_type": "execute_result"
    }
   ],
   "source": [
    "data = data[['p_wave_arrival','time','data']]\n",
    "data"
   ]
  },
  {
   "cell_type": "code",
   "execution_count": 4,
   "id": "db2db66b",
   "metadata": {
    "execution": {
     "iopub.execute_input": "2024-10-04T16:56:31.892099Z",
     "iopub.status.busy": "2024-10-04T16:56:31.891356Z",
     "iopub.status.idle": "2024-10-04T16:56:31.896970Z",
     "shell.execute_reply": "2024-10-04T16:56:31.896162Z"
    },
    "papermill": {
     "duration": 0.018087,
     "end_time": "2024-10-04T16:56:31.898964",
     "exception": false,
     "start_time": "2024-10-04T16:56:31.880877",
     "status": "completed"
    },
    "tags": []
   },
   "outputs": [
    {
     "data": {
      "text/plain": [
       "11939680"
      ]
     },
     "execution_count": 4,
     "metadata": {},
     "output_type": "execute_result"
    }
   ],
   "source": [
    "idx = int(59698401/5)\n",
    "idx"
   ]
  },
  {
   "cell_type": "code",
   "execution_count": 5,
   "id": "3e9e08cd",
   "metadata": {
    "execution": {
     "iopub.execute_input": "2024-10-04T16:56:31.919212Z",
     "iopub.status.busy": "2024-10-04T16:56:31.918909Z",
     "iopub.status.idle": "2024-10-04T16:56:31.922961Z",
     "shell.execute_reply": "2024-10-04T16:56:31.922272Z"
    },
    "papermill": {
     "duration": 0.016298,
     "end_time": "2024-10-04T16:56:31.924763",
     "exception": false,
     "start_time": "2024-10-04T16:56:31.908465",
     "status": "completed"
    },
    "tags": []
   },
   "outputs": [],
   "source": [
    "shifted_df = data[:idx]"
   ]
  },
  {
   "cell_type": "code",
   "execution_count": 6,
   "id": "3c1f0f49",
   "metadata": {
    "execution": {
     "iopub.execute_input": "2024-10-04T16:56:31.945033Z",
     "iopub.status.busy": "2024-10-04T16:56:31.944717Z",
     "iopub.status.idle": "2024-10-04T16:56:31.956969Z",
     "shell.execute_reply": "2024-10-04T16:56:31.956092Z"
    },
    "papermill": {
     "duration": 0.024475,
     "end_time": "2024-10-04T16:56:31.958801",
     "exception": false,
     "start_time": "2024-10-04T16:56:31.934326",
     "status": "completed"
    },
    "tags": []
   },
   "outputs": [
    {
     "data": {
      "text/html": [
       "<div>\n",
       "<style scoped>\n",
       "    .dataframe tbody tr th:only-of-type {\n",
       "        vertical-align: middle;\n",
       "    }\n",
       "\n",
       "    .dataframe tbody tr th {\n",
       "        vertical-align: top;\n",
       "    }\n",
       "\n",
       "    .dataframe thead th {\n",
       "        text-align: right;\n",
       "    }\n",
       "</style>\n",
       "<table border=\"1\" class=\"dataframe\">\n",
       "  <thead>\n",
       "    <tr style=\"text-align: right;\">\n",
       "      <th></th>\n",
       "      <th>p_wave_arrival</th>\n",
       "      <th>time</th>\n",
       "      <th>data</th>\n",
       "    </tr>\n",
       "  </thead>\n",
       "  <tbody>\n",
       "    <tr>\n",
       "      <th>11879680</th>\n",
       "      <td>2971066.75</td>\n",
       "      <td>2969920.00</td>\n",
       "      <td>0.418395</td>\n",
       "    </tr>\n",
       "    <tr>\n",
       "      <th>11879681</th>\n",
       "      <td>2971066.75</td>\n",
       "      <td>2969920.25</td>\n",
       "      <td>0.421770</td>\n",
       "    </tr>\n",
       "    <tr>\n",
       "      <th>11879682</th>\n",
       "      <td>2971066.75</td>\n",
       "      <td>2969920.50</td>\n",
       "      <td>0.420537</td>\n",
       "    </tr>\n",
       "    <tr>\n",
       "      <th>11879683</th>\n",
       "      <td>2971066.75</td>\n",
       "      <td>2969920.75</td>\n",
       "      <td>0.423720</td>\n",
       "    </tr>\n",
       "    <tr>\n",
       "      <th>11879684</th>\n",
       "      <td>2971066.75</td>\n",
       "      <td>2969921.00</td>\n",
       "      <td>0.422458</td>\n",
       "    </tr>\n",
       "    <tr>\n",
       "      <th>...</th>\n",
       "      <td>...</td>\n",
       "      <td>...</td>\n",
       "      <td>...</td>\n",
       "    </tr>\n",
       "    <tr>\n",
       "      <th>11939675</th>\n",
       "      <td>2985266.75</td>\n",
       "      <td>2984918.75</td>\n",
       "      <td>-0.060091</td>\n",
       "    </tr>\n",
       "    <tr>\n",
       "      <th>11939676</th>\n",
       "      <td>2985266.75</td>\n",
       "      <td>2984919.00</td>\n",
       "      <td>-0.059706</td>\n",
       "    </tr>\n",
       "    <tr>\n",
       "      <th>11939677</th>\n",
       "      <td>2985266.75</td>\n",
       "      <td>2984919.25</td>\n",
       "      <td>-0.060011</td>\n",
       "    </tr>\n",
       "    <tr>\n",
       "      <th>11939678</th>\n",
       "      <td>2985266.75</td>\n",
       "      <td>2984919.50</td>\n",
       "      <td>-0.059657</td>\n",
       "    </tr>\n",
       "    <tr>\n",
       "      <th>11939679</th>\n",
       "      <td>2985266.75</td>\n",
       "      <td>2984919.75</td>\n",
       "      <td>-0.060080</td>\n",
       "    </tr>\n",
       "  </tbody>\n",
       "</table>\n",
       "<p>60000 rows × 3 columns</p>\n",
       "</div>"
      ],
      "text/plain": [
       "          p_wave_arrival        time      data\n",
       "11879680      2971066.75  2969920.00  0.418395\n",
       "11879681      2971066.75  2969920.25  0.421770\n",
       "11879682      2971066.75  2969920.50  0.420537\n",
       "11879683      2971066.75  2969920.75  0.423720\n",
       "11879684      2971066.75  2969921.00  0.422458\n",
       "...                  ...         ...       ...\n",
       "11939675      2985266.75  2984918.75 -0.060091\n",
       "11939676      2985266.75  2984919.00 -0.059706\n",
       "11939677      2985266.75  2984919.25 -0.060011\n",
       "11939678      2985266.75  2984919.50 -0.059657\n",
       "11939679      2985266.75  2984919.75 -0.060080\n",
       "\n",
       "[60000 rows x 3 columns]"
      ]
     },
     "execution_count": 6,
     "metadata": {},
     "output_type": "execute_result"
    }
   ],
   "source": [
    "shifted_df[-60000:]"
   ]
  },
  {
   "cell_type": "code",
   "execution_count": 7,
   "id": "6e23e2f4",
   "metadata": {
    "execution": {
     "iopub.execute_input": "2024-10-04T16:56:31.979574Z",
     "iopub.status.busy": "2024-10-04T16:56:31.979290Z",
     "iopub.status.idle": "2024-10-04T16:56:32.227498Z",
     "shell.execute_reply": "2024-10-04T16:56:32.226646Z"
    },
    "papermill": {
     "duration": 0.26115,
     "end_time": "2024-10-04T16:56:32.229793",
     "exception": false,
     "start_time": "2024-10-04T16:56:31.968643",
     "status": "completed"
    },
    "tags": []
   },
   "outputs": [
    {
     "data": {
      "text/plain": [
       "[<matplotlib.lines.Line2D at 0x794551334970>]"
      ]
     },
     "execution_count": 7,
     "metadata": {},
     "output_type": "execute_result"
    },
    {
     "data": {
      "image/png": "[encoded data removed]",
      "text/plain": [
       "<Figure size 640x480 with 1 Axes>"
      ]
     },
     "metadata": {},
     "output_type": "display_data"
    }
   ],
   "source": [
    "import matplotlib.pyplot as plt\n",
    "plt.plot(shifted_df[-90000:].time,shifted_df[-90000:].data)"
   ]
  },
  {
   "cell_type": "code",
   "execution_count": 8,
   "id": "16c7656b",
   "metadata": {
    "execution": {
     "iopub.execute_input": "2024-10-04T16:56:32.252456Z",
     "iopub.status.busy": "2024-10-04T16:56:32.252139Z",
     "iopub.status.idle": "2024-10-04T16:56:32.258668Z",
     "shell.execute_reply": "2024-10-04T16:56:32.257837Z"
    },
    "id": "yWcD1tHjfAU-",
    "outputId": "e10f8cdf-7b44-4c1a-d0a2-9007aac1685c",
    "papermill": {
     "duration": 0.020072,
     "end_time": "2024-10-04T16:56:32.260506",
     "exception": false,
     "start_time": "2024-10-04T16:56:32.240434",
     "status": "completed"
    },
    "tags": []
   },
   "outputs": [
    {
     "data": {
      "text/plain": [
       "array([[ 3.00000000e+02,  0.00000000e+00,  1.15641236e-02],\n",
       "       [ 3.00000000e+02,  2.50000000e-01,  1.26982391e-02],\n",
       "       [ 3.00000000e+02,  5.00000000e-01,  1.21591066e-02],\n",
       "       ...,\n",
       "       [ 2.98526675e+06,  2.98491925e+06, -6.00114964e-02],\n",
       "       [ 2.98526675e+06,  2.98491950e+06, -5.96572625e-02],\n",
       "       [ 2.98526675e+06,  2.98491975e+06, -6.00802073e-02]])"
      ]
     },
     "execution_count": 8,
     "metadata": {},
     "output_type": "execute_result"
    }
   ],
   "source": [
    "shifted_df_as_np = shifted_df.to_numpy()\n",
    "\n",
    "shifted_df_as_np"
   ]
  },
  {
   "cell_type": "code",
   "execution_count": 9,
   "id": "04e3b5a2",
   "metadata": {
    "execution": {
     "iopub.execute_input": "2024-10-04T16:56:32.282611Z",
     "iopub.status.busy": "2024-10-04T16:56:32.282314Z",
     "iopub.status.idle": "2024-10-04T16:56:32.287727Z",
     "shell.execute_reply": "2024-10-04T16:56:32.286858Z"
    },
    "id": "Pq2p3opGELA_",
    "outputId": "5cb2ff07-5d8f-4117-eafd-6a3c5663c6ff",
    "papermill": {
     "duration": 0.018833,
     "end_time": "2024-10-04T16:56:32.289699",
     "exception": false,
     "start_time": "2024-10-04T16:56:32.270866",
     "status": "completed"
    },
    "tags": []
   },
   "outputs": [
    {
     "data": {
      "text/plain": [
       "(11939680, 3)"
      ]
     },
     "execution_count": 9,
     "metadata": {},
     "output_type": "execute_result"
    }
   ],
   "source": [
    "shifted_df_as_np.shape"
   ]
  },
  {
   "cell_type": "code",
   "execution_count": 10,
   "id": "2cdce6d7",
   "metadata": {
    "execution": {
     "iopub.execute_input": "2024-10-04T16:56:32.312379Z",
     "iopub.status.busy": "2024-10-04T16:56:32.312084Z",
     "iopub.status.idle": "2024-10-04T16:56:32.317976Z",
     "shell.execute_reply": "2024-10-04T16:56:32.317156Z"
    },
    "id": "Iui9unuTfxOe",
    "outputId": "642f093d-5071-43ef-fb9c-4c54061aec3e",
    "papermill": {
     "duration": 0.019406,
     "end_time": "2024-10-04T16:56:32.319867",
     "exception": false,
     "start_time": "2024-10-04T16:56:32.300461",
     "status": "completed"
    },
    "tags": []
   },
   "outputs": [
    {
     "data": {
      "text/plain": [
       "((11939680, 2), (11939680,))"
      ]
     },
     "execution_count": 10,
     "metadata": {},
     "output_type": "execute_result"
    }
   ],
   "source": [
    "X = shifted_df_as_np[:, 1:]\n",
    "y = shifted_df_as_np[:, 0]\n",
    "\n",
    "X.shape, y.shape"
   ]
  },
  {
   "cell_type": "code",
   "execution_count": 11,
   "id": "f46d7238",
   "metadata": {
    "execution": {
     "iopub.execute_input": "2024-10-04T16:56:32.342457Z",
     "iopub.status.busy": "2024-10-04T16:56:32.342162Z",
     "iopub.status.idle": "2024-10-04T16:56:32.374178Z",
     "shell.execute_reply": "2024-10-04T16:56:32.373260Z"
    },
    "papermill": {
     "duration": 0.045591,
     "end_time": "2024-10-04T16:56:32.376162",
     "exception": false,
     "start_time": "2024-10-04T16:56:32.330571",
     "status": "completed"
    },
    "tags": []
   },
   "outputs": [
    {
     "data": {
      "text/plain": [
       "-0.0029941329537829693"
      ]
     },
     "execution_count": 11,
     "metadata": {},
     "output_type": "execute_result"
    }
   ],
   "source": [
    "shifted_df.data.mean()"
   ]
  },
  {
   "cell_type": "code",
   "execution_count": 12,
   "id": "d85194c6",
   "metadata": {
    "execution": {
     "iopub.execute_input": "2024-10-04T16:56:32.399863Z",
     "iopub.status.busy": "2024-10-04T16:56:32.399596Z",
     "iopub.status.idle": "2024-10-04T17:04:33.900338Z",
     "shell.execute_reply": "2024-10-04T17:04:33.899251Z"
    },
    "papermill": {
     "duration": 481.51586,
     "end_time": "2024-10-04T17:04:33.903122",
     "exception": false,
     "start_time": "2024-10-04T16:56:32.387262",
     "status": "completed"
    },
    "tags": []
   },
   "outputs": [
    {
     "name": "stderr",
     "output_type": "stream",
     "text": [
      "100%|██████████| 11939680/11939680 [08:01<00:00, 24797.48it/s]\n"
     ]
    }
   ],
   "source": [
    "prev = 5\n",
    "nxt = 20\n",
    "mul = 10\n",
    "ln = len(X)\n",
    "ls = []\n",
    "for i in tqdm(range(len(X))):\n",
    "    tem = []\n",
    "    for j in range(1,prev+1):\n",
    "        vl = i-mul*j\n",
    "        if(vl>-1):\n",
    "            tem.append(X[vl])\n",
    "        else:\n",
    "            tem.append([shifted_df.time.mean(),shifted_df.data.mean()])\n",
    "    tem = tem[::-1]\n",
    "    tem.append(X[i])\n",
    "    for j in range(1,nxt+1):\n",
    "        vl = i+mul*j\n",
    "        if(vl<ln):\n",
    "            tem.append(X[vl])\n",
    "        else:\n",
    "            tem.append([shifted_df.time.mean(),shifted_df.data.mean()])\n",
    "    ls.append(np.array(tem))\n",
    "    ls[:2]"
   ]
  },
  {
   "cell_type": "code",
   "execution_count": 13,
   "id": "91d27e3c",
   "metadata": {
    "execution": {
     "iopub.execute_input": "2024-10-04T17:04:34.541815Z",
     "iopub.status.busy": "2024-10-04T17:04:34.541441Z",
     "iopub.status.idle": "2024-10-04T17:04:43.031497Z",
     "shell.execute_reply": "2024-10-04T17:04:43.030552Z"
    },
    "id": "XmbIqwj-E0cv",
    "outputId": "48ccc3a1-1b5c-49fd-ae2f-3f8b143fbb4c",
    "papermill": {
     "duration": 8.792208,
     "end_time": "2024-10-04T17:04:43.033746",
     "exception": false,
     "start_time": "2024-10-04T17:04:34.241538",
     "status": "completed"
    },
    "tags": []
   },
   "outputs": [
    {
     "data": {
      "text/plain": [
       "array([300., 300., 300., 300., 300., 300., 300., 300., 300., 300.])"
      ]
     },
     "execution_count": 13,
     "metadata": {},
     "output_type": "execute_result"
    }
   ],
   "source": [
    "from copy import deepcopy as dc\n",
    "# X = dc(np.flip(X, axis=1))\n",
    "X = np.array(ls)\n",
    "y[:10]"
   ]
  },
  {
   "cell_type": "code",
   "execution_count": 14,
   "id": "e7e66016",
   "metadata": {
    "execution": {
     "iopub.execute_input": "2024-10-04T17:04:43.636070Z",
     "iopub.status.busy": "2024-10-04T17:04:43.635688Z",
     "iopub.status.idle": "2024-10-04T17:04:43.641549Z",
     "shell.execute_reply": "2024-10-04T17:04:43.640703Z"
    },
    "id": "GCHslawXgE21",
    "outputId": "a2e50719-a1fb-460e-9ce4-9dd873642765",
    "papermill": {
     "duration": 0.309414,
     "end_time": "2024-10-04T17:04:43.643540",
     "exception": false,
     "start_time": "2024-10-04T17:04:43.334126",
     "status": "completed"
    },
    "tags": []
   },
   "outputs": [
    {
     "data": {
      "text/plain": [
       "11342696"
      ]
     },
     "execution_count": 14,
     "metadata": {},
     "output_type": "execute_result"
    }
   ],
   "source": [
    "split_index = int(len(X) * 0.95)\n",
    "\n",
    "split_index"
   ]
  },
  {
   "cell_type": "code",
   "execution_count": 15,
   "id": "7be2a3e7",
   "metadata": {
    "execution": {
     "iopub.execute_input": "2024-10-04T17:04:44.241918Z",
     "iopub.status.busy": "2024-10-04T17:04:44.241534Z",
     "iopub.status.idle": "2024-10-04T17:04:44.248625Z",
     "shell.execute_reply": "2024-10-04T17:04:44.247770Z"
    },
    "id": "hhGMh_nAgiST",
    "outputId": "aeb231ef-e124-4821-f4ee-dbb2275c0f98",
    "papermill": {
     "duration": 0.309335,
     "end_time": "2024-10-04T17:04:44.250573",
     "exception": false,
     "start_time": "2024-10-04T17:04:43.941238",
     "status": "completed"
    },
    "tags": []
   },
   "outputs": [
    {
     "data": {
      "text/plain": [
       "((11342696, 26, 2), (596984, 26, 2), (11342696,), (596984,))"
      ]
     },
     "execution_count": 15,
     "metadata": {},
     "output_type": "execute_result"
    }
   ],
   "source": [
    "X_train = X[:split_index]\n",
    "X_test = X[split_index:]\n",
    "\n",
    "y_train = y[:split_index]\n",
    "y_test = y[split_index:]\n",
    "\n",
    "X_train.shape, X_test.shape, y_train.shape, y_test.shape"
   ]
  },
  {
   "cell_type": "code",
   "execution_count": 16,
   "id": "1fdaf9df",
   "metadata": {
    "execution": {
     "iopub.execute_input": "2024-10-04T17:04:44.890757Z",
     "iopub.status.busy": "2024-10-04T17:04:44.889903Z",
     "iopub.status.idle": "2024-10-04T17:04:44.897045Z",
     "shell.execute_reply": "2024-10-04T17:04:44.896206Z"
    },
    "id": "Muqs9hKYhMUS",
    "outputId": "d35136a0-5855-4bfb-b66b-b8f7a1a8ea96",
    "papermill": {
     "duration": 0.348696,
     "end_time": "2024-10-04T17:04:44.898911",
     "exception": false,
     "start_time": "2024-10-04T17:04:44.550215",
     "status": "completed"
    },
    "tags": []
   },
   "outputs": [
    {
     "data": {
      "text/plain": [
       "((11342696, 26, 2), (596984, 26, 2), (11342696, 1), (596984, 1))"
      ]
     },
     "execution_count": 16,
     "metadata": {},
     "output_type": "execute_result"
    }
   ],
   "source": [
    "# lookback=2\n",
    "# X_train = X_train.reshape((-1, lookback, 1))\n",
    "# X_test = X_test.reshape((-1, lookback, 1))\n",
    "\n",
    "y_train = y_train.reshape((-1, 1))\n",
    "y_test = y_test.reshape((-1, 1))\n",
    "\n",
    "X_train.shape, X_test.shape, y_train.shape, y_test.shape"
   ]
  },
  {
   "cell_type": "code",
   "execution_count": 17,
   "id": "30f77c45",
   "metadata": {
    "execution": {
     "iopub.execute_input": "2024-10-04T17:04:45.504372Z",
     "iopub.status.busy": "2024-10-04T17:04:45.504023Z",
     "iopub.status.idle": "2024-10-04T17:04:48.438020Z",
     "shell.execute_reply": "2024-10-04T17:04:48.437025Z"
    },
    "id": "i7-PBcrMhR7z",
    "outputId": "b01a297a-75d6-4573-e450-a3545360112e",
    "papermill": {
     "duration": 3.240746,
     "end_time": "2024-10-04T17:04:48.440157",
     "exception": false,
     "start_time": "2024-10-04T17:04:45.199411",
     "status": "completed"
    },
    "tags": []
   },
   "outputs": [
    {
     "data": {
      "text/plain": [
       "(torch.Size([11342696, 26, 2]),\n",
       " torch.Size([596984, 26, 2]),\n",
       " torch.Size([11342696, 1]),\n",
       " torch.Size([596984, 1]))"
      ]
     },
     "execution_count": 17,
     "metadata": {},
     "output_type": "execute_result"
    }
   ],
   "source": [
    "X_train = torch.tensor(X_train).float()\n",
    "y_train = torch.tensor(y_train).float()\n",
    "X_test = torch.tensor(X_test).float()\n",
    "y_test = torch.tensor(y_test).float()\n",
    "\n",
    "X_train.shape, X_test.shape, y_train.shape, y_test.shape"
   ]
  },
  {
   "cell_type": "code",
   "execution_count": 18,
   "id": "dc67bdfc",
   "metadata": {
    "execution": {
     "iopub.execute_input": "2024-10-04T17:04:49.068498Z",
     "iopub.status.busy": "2024-10-04T17:04:49.068118Z",
     "iopub.status.idle": "2024-10-04T17:04:49.074399Z",
     "shell.execute_reply": "2024-10-04T17:04:49.073476Z"
    },
    "id": "DWutCAGKhdqU",
    "papermill": {
     "duration": 0.309053,
     "end_time": "2024-10-04T17:04:49.076203",
     "exception": false,
     "start_time": "2024-10-04T17:04:48.767150",
     "status": "completed"
    },
    "tags": []
   },
   "outputs": [],
   "source": [
    "from torch.utils.data import Dataset\n",
    "\n",
    "class TimeSeriesDataset(Dataset):\n",
    "    def __init__(self, X, y):\n",
    "        self.X = X\n",
    "        self.y = y\n",
    "\n",
    "    def __len__(self):\n",
    "        return len(self.X)\n",
    "\n",
    "    def __getitem__(self, i):\n",
    "        return self.X[i], self.y[i]\n",
    "\n",
    "train_dataset = TimeSeriesDataset(X_train, y_train)\n",
    "test_dataset = TimeSeriesDataset(X_test, y_test)"
   ]
  },
  {
   "cell_type": "code",
   "execution_count": 19,
   "id": "0a60d96a",
   "metadata": {
    "execution": {
     "iopub.execute_input": "2024-10-04T17:04:49.685006Z",
     "iopub.status.busy": "2024-10-04T17:04:49.684588Z",
     "iopub.status.idle": "2024-10-04T17:04:49.690932Z",
     "shell.execute_reply": "2024-10-04T17:04:49.690017Z"
    },
    "id": "12OWUTa5ijoq",
    "outputId": "0928d3c2-d181-4035-cc57-a2ac6ce38075",
    "papermill": {
     "duration": 0.319053,
     "end_time": "2024-10-04T17:04:49.692918",
     "exception": false,
     "start_time": "2024-10-04T17:04:49.373865",
     "status": "completed"
    },
    "tags": []
   },
   "outputs": [
    {
     "data": {
      "text/plain": [
       "<__main__.TimeSeriesDataset at 0x7945513a7a90>"
      ]
     },
     "execution_count": 19,
     "metadata": {},
     "output_type": "execute_result"
    }
   ],
   "source": [
    "train_dataset"
   ]
  },
  {
   "cell_type": "code",
   "execution_count": 20,
   "id": "afb09f0a",
   "metadata": {
    "execution": {
     "iopub.execute_input": "2024-10-04T17:04:50.330290Z",
     "iopub.status.busy": "2024-10-04T17:04:50.329674Z",
     "iopub.status.idle": "2024-10-04T17:04:50.335133Z",
     "shell.execute_reply": "2024-10-04T17:04:50.334220Z"
    },
    "id": "XYsUmPl3ik46",
    "papermill": {
     "duration": 0.306623,
     "end_time": "2024-10-04T17:04:50.337025",
     "exception": false,
     "start_time": "2024-10-04T17:04:50.030402",
     "status": "completed"
    },
    "tags": []
   },
   "outputs": [],
   "source": [
    "from torch.utils.data import DataLoader\n",
    "\n",
    "batch_size = 128\n",
    "\n",
    "train_loader = DataLoader(train_dataset, batch_size=batch_size, shuffle=True)\n",
    "test_loader = DataLoader(test_dataset, batch_size=batch_size, shuffle=False)"
   ]
  },
  {
   "cell_type": "code",
   "execution_count": 21,
   "id": "62ace104",
   "metadata": {
    "execution": {
     "iopub.execute_input": "2024-10-04T17:04:50.981873Z",
     "iopub.status.busy": "2024-10-04T17:04:50.980730Z",
     "iopub.status.idle": "2024-10-04T17:04:52.810048Z",
     "shell.execute_reply": "2024-10-04T17:04:52.808950Z"
    },
    "id": "TJTnbgBDjOSK",
    "outputId": "51226616-d4de-4a22-f4d9-576fd3e8bfba",
    "papermill": {
     "duration": 2.155251,
     "end_time": "2024-10-04T17:04:52.812248",
     "exception": false,
     "start_time": "2024-10-04T17:04:50.656997",
     "status": "completed"
    },
    "tags": []
   },
   "outputs": [
    {
     "name": "stdout",
     "output_type": "stream",
     "text": [
      "torch.Size([128, 26, 2]) torch.Size([128, 1])\n"
     ]
    }
   ],
   "source": [
    "for _, batch in enumerate(train_loader):\n",
    "    x_batch, y_batch = batch[0].to(device), batch[1].to(device)\n",
    "    print(x_batch.shape, y_batch.shape)\n",
    "    break"
   ]
  },
  {
   "cell_type": "code",
   "execution_count": 22,
   "id": "188fe249",
   "metadata": {
    "execution": {
     "iopub.execute_input": "2024-10-04T17:04:53.411328Z",
     "iopub.status.busy": "2024-10-04T17:04:53.410947Z",
     "iopub.status.idle": "2024-10-04T17:04:54.072258Z",
     "shell.execute_reply": "2024-10-04T17:04:54.071191Z"
    },
    "papermill": {
     "duration": 0.96275,
     "end_time": "2024-10-04T17:04:54.074357",
     "exception": false,
     "start_time": "2024-10-04T17:04:53.111607",
     "status": "completed"
    },
    "tags": []
   },
   "outputs": [
    {
     "name": "stdout",
     "output_type": "stream",
     "text": [
      "torch.Size([128, 1])\n"
     ]
    }
   ],
   "source": [
    "import torch\n",
    "import torch.nn as nn\n",
    "\n",
    "class FullyConnectedNNWithCNN(nn.Module):\n",
    "    def __init__(self, timessteps):\n",
    "        super(FullyConnectedNNWithCNN, self).__init__()\n",
    "        \n",
    "        self.timessteps = timessteps\n",
    "        # Dropout layer with 0.1 probability\n",
    "        self.dropout = nn.Dropout(p=0.1)\n",
    "        \n",
    "        # Define the fully connected layers\n",
    "        self.fc1 = nn.Linear(self.timessteps * 2, 256)  # Flatten input: 26 timesteps * 2 features = 52\n",
    "        self.fc2 = nn.Linear(256, 512 * self.timessteps)  # Ensure output has the correct size for reshaping\n",
    "        \n",
    "        # 1D Convolutional Layer with kernel size = 5, input channels = 512, output channels = 256\n",
    "        self.conv1d = nn.Conv1d(in_channels=512, out_channels=256, kernel_size=5, padding=2)\n",
    "        \n",
    "        # Continue with fully connected layers\n",
    "        self.fc3 = nn.Linear(256 * self.timessteps, 256)  # After Conv1d, we flatten it again\n",
    "        self.fc4 = nn.Linear(256, 64)\n",
    "        self.fc5 = nn.Linear(64, 8)\n",
    "        self.fc6 = nn.Linear(8, 1)  # Output layer for regression\n",
    "        \n",
    "        # Activation function\n",
    "        self.relu = nn.ReLU()\n",
    "\n",
    "    def forward(self, x):\n",
    "        # Flatten the input from (batch_size, 26, 2) to (batch_size, 52)\n",
    "        x = x.view(x.size(0), -1)\n",
    "        \n",
    "        # Pass through the first two fully connected layers with ReLU activations\n",
    "        x = self.relu(self.fc1(x))  # Input -> 256 neurons\n",
    "        x = self.relu(self.fc2(x))  # 256 -> 512*26 neurons\n",
    "        \n",
    "        # Reshape for 1D convolution: (batch_size, 512, 26) for time dimension\n",
    "        x = x.view(x.size(0), 512, self.timessteps)\n",
    "        \n",
    "        # Pass through the Conv1d layer\n",
    "        x = self.conv1d(x)  # Apply 1D CNN\n",
    "        x = self.relu(x)\n",
    "        \n",
    "        # Flatten again after Conv1d to pass to fully connected layers\n",
    "        x = x.view(x.size(0), -1)  # (batch_size, 256 * 26)\n",
    "        \n",
    "        # Continue through the rest of the fully connected layers\n",
    "        x = self.relu(self.fc3(x))  # 256*26 -> 256 neurons\n",
    "        x = self.relu(self.fc4(x))  # 256 -> 64 neurons\n",
    "        x = self.relu(self.fc5(x))  # 64 -> 8 neurons\n",
    "        x = self.fc6(x)  # 8 -> 1 neuron (output layer, no activation for regression)\n",
    "        \n",
    "        return x\n",
    "\n",
    "\n",
    "# Example usage\n",
    "timessteps = 26\n",
    "device = torch.device(\"cuda\" if torch.cuda.is_available() else \"cpu\")\n",
    "model = FullyConnectedNNWithCNN(timessteps).to(device)\n",
    "\n",
    "# Input: Batch of 128 samples, each with 26 timesteps, 2 features\n",
    "input_data = torch.randn(128, 26, 2).to(device)\n",
    "output = model(input_data)\n",
    "print(output.size())  # Expected output size: [128, 1]"
   ]
  },
  {
   "cell_type": "code",
   "execution_count": 23,
   "id": "04b320c4",
   "metadata": {
    "execution": {
     "iopub.execute_input": "2024-10-04T17:04:54.713029Z",
     "iopub.status.busy": "2024-10-04T17:04:54.712652Z",
     "iopub.status.idle": "2024-10-04T17:04:54.718165Z",
     "shell.execute_reply": "2024-10-04T17:04:54.717340Z"
    },
    "papermill": {
     "duration": 0.346207,
     "end_time": "2024-10-04T17:04:54.720088",
     "exception": false,
     "start_time": "2024-10-04T17:04:54.373881",
     "status": "completed"
    },
    "tags": []
   },
   "outputs": [],
   "source": [
    "def save_checkpoint(checkpoint,filename):\n",
    "    print(f\"=> Saving checkpoint {filename}\")\n",
    "    print('')\n",
    "    torch.save(checkpoint,filename)\n",
    "    \n",
    "\n",
    "def load_model(checkpoint):\n",
    "    print(\"=> Loading checkpoint\")\n",
    "    print('')\n",
    "    model.load_state_dict(checkpoint['state_dict'])\n",
    "    optimizer.load_state_dict(checkpoint['optimizer'])"
   ]
  },
  {
   "cell_type": "code",
   "execution_count": 24,
   "id": "aa395f76",
   "metadata": {
    "execution": {
     "iopub.execute_input": "2024-10-04T17:04:55.319392Z",
     "iopub.status.busy": "2024-10-04T17:04:55.319012Z",
     "iopub.status.idle": "2024-10-04T17:04:55.325387Z",
     "shell.execute_reply": "2024-10-04T17:04:55.324492Z"
    },
    "id": "iue5WvTxmVKB",
    "papermill": {
     "duration": 0.309302,
     "end_time": "2024-10-04T17:04:55.327236",
     "exception": false,
     "start_time": "2024-10-04T17:04:55.017934",
     "status": "completed"
    },
    "tags": []
   },
   "outputs": [],
   "source": [
    "def train_one_epoch():\n",
    "    model.train(True)\n",
    "    print(f'Epoch: {epoch + 1}')\n",
    "    running_loss = 0.0\n",
    "    for batch_index, batch in tqdm(enumerate(train_loader)):\n",
    "        x_batch, y_batch = batch[0].to(device), batch[1].to(device)\n",
    "\n",
    "        output = model(x_batch)\n",
    "        loss = loss_function(output, y_batch)\n",
    "        running_loss += loss.item()\n",
    "\n",
    "        optimizer.zero_grad()\n",
    "        loss.backward()\n",
    "        optimizer.step()\n",
    "\n",
    "    print(f'Loss : {running_loss/len(train_loader)}')\n",
    "    print()"
   ]
  },
  {
   "cell_type": "code",
   "execution_count": 25,
   "id": "47330994",
   "metadata": {
    "execution": {
     "iopub.execute_input": "2024-10-04T17:04:55.944748Z",
     "iopub.status.busy": "2024-10-04T17:04:55.944374Z",
     "iopub.status.idle": "2024-10-04T17:04:55.950748Z",
     "shell.execute_reply": "2024-10-04T17:04:55.949941Z"
    },
    "id": "gRmNuV3cmy-t",
    "papermill": {
     "duration": 0.324463,
     "end_time": "2024-10-04T17:04:55.952628",
     "exception": false,
     "start_time": "2024-10-04T17:04:55.628165",
     "status": "completed"
    },
    "tags": []
   },
   "outputs": [],
   "source": [
    "def validate_one_epoch():\n",
    "    model.train(False)\n",
    "    running_loss = 0.0\n",
    "\n",
    "    for batch_index, batch in tqdm(enumerate(test_loader)):\n",
    "        x_batch, y_batch = batch[0].to(device), batch[1].to(device)\n",
    "\n",
    "        with torch.no_grad():\n",
    "            output = model(x_batch)\n",
    "            loss = loss_function(output, y_batch)\n",
    "            running_loss += loss.item()\n",
    "\n",
    "    avg_loss_across_batches = running_loss / len(test_loader)\n",
    "\n",
    "    print('Val Loss: {0:.3f}'.format(avg_loss_across_batches))\n",
    "    print('***************************************************')\n",
    "    print()"
   ]
  },
  {
   "cell_type": "code",
   "execution_count": 26,
   "id": "29c941f8",
   "metadata": {
    "execution": {
     "iopub.execute_input": "2024-10-04T17:04:56.549854Z",
     "iopub.status.busy": "2024-10-04T17:04:56.549488Z",
     "iopub.status.idle": "2024-10-04T17:04:58.282566Z",
     "shell.execute_reply": "2024-10-04T17:04:58.281577Z"
    },
    "papermill": {
     "duration": 2.034692,
     "end_time": "2024-10-04T17:04:58.284927",
     "exception": false,
     "start_time": "2024-10-04T17:04:56.250235",
     "status": "completed"
    },
    "tags": []
   },
   "outputs": [],
   "source": [
    "learning_rate = 0.001\n",
    "num_epochs = 50\n",
    "loss_function = nn.MSELoss()\n",
    "optimizer = torch.optim.Adam(model.parameters(), lr=learning_rate)"
   ]
  },
  {
   "cell_type": "code",
   "execution_count": 27,
   "id": "8cab5bf3",
   "metadata": {
    "execution": {
     "iopub.execute_input": "2024-10-04T17:04:58.943881Z",
     "iopub.status.busy": "2024-10-04T17:04:58.943367Z",
     "iopub.status.idle": "2024-10-04T17:04:59.489223Z",
     "shell.execute_reply": "2024-10-04T17:04:59.488238Z"
    },
    "papermill": {
     "duration": 0.847488,
     "end_time": "2024-10-04T17:04:59.491449",
     "exception": false,
     "start_time": "2024-10-04T17:04:58.643961",
     "status": "completed"
    },
    "tags": []
   },
   "outputs": [
    {
     "name": "stdout",
     "output_type": "stream",
     "text": [
      "Loading The Model form : /kaggle/input/2n-1c-4n-fold1-epoch10/checkpoint10\n"
     ]
    },
    {
     "name": "stderr",
     "output_type": "stream",
     "text": [
      "/tmp/ipykernel_23/451241615.py:6: FutureWarning: You are using `torch.load` with `weights_only=False` (the current default value), which uses the default pickle module implicitly. It is possible to construct malicious pickle data which will execute arbitrary code during unpickling (See https://github.com/pytorch/pytorch/blob/main/SECURITY.md#untrusted-models for more details). In a future release, the default value for `weights_only` will be flipped to `True`. This limits the functions that could be executed during unpickling. Arbitrary objects will no longer be allowed to be loaded via this mode unless they are explicitly allowlisted by the user via `torch.serialization.add_safe_globals`. We recommend you start setting `weights_only=True` for any use case where you don't have full control of the loaded file. Please open an issue on GitHub for any issues related to this experimental feature.\n",
      "  checkpoint = torch.load(checkpointpath)\n"
     ]
    },
    {
     "name": "stdout",
     "output_type": "stream",
     "text": [
      "=> Loading checkpoint\n",
      "\n"
     ]
    }
   ],
   "source": [
    "load_model_from_prev = True\n",
    "checkpointpath = '/kaggle/input/2n-1c-4n-fold1-epoch10/checkpoint10'\n",
    "\n",
    "if(load_model_from_prev):\n",
    "    print(f'Loading The Model form : {checkpointpath}')\n",
    "    checkpoint = torch.load(checkpointpath)\n",
    "    load_model(checkpoint)"
   ]
  },
  {
   "cell_type": "code",
   "execution_count": 28,
   "id": "c0b2221f",
   "metadata": {
    "execution": {
     "iopub.execute_input": "2024-10-04T17:05:00.099249Z",
     "iopub.status.busy": "2024-10-04T17:05:00.098415Z",
     "iopub.status.idle": "2024-10-05T00:54:37.628725Z",
     "shell.execute_reply": "2024-10-05T00:54:37.627717Z"
    },
    "id": "1jgb1aJ3lxlQ",
    "outputId": "2a25db36-4872-44e4-feca-4d26bad49f96",
    "papermill": {
     "duration": 28177.838531,
     "end_time": "2024-10-05T00:54:37.630700",
     "exception": false,
     "start_time": "2024-10-04T17:04:59.792169",
     "status": "completed"
    },
    "tags": []
   },
   "outputs": [
    {
     "name": "stdout",
     "output_type": "stream",
     "text": [
      "Epoch: 1\n"
     ]
    },
    {
     "name": "stderr",
     "output_type": "stream",
     "text": [
      "88615it [09:13, 160.07it/s]\n"
     ]
    },
    {
     "name": "stdout",
     "output_type": "stream",
     "text": [
      "Loss : 13702690.028211929\n",
      "\n"
     ]
    },
    {
     "name": "stderr",
     "output_type": "stream",
     "text": [
      "4664it [00:10, 456.22it/s]\n"
     ]
    },
    {
     "name": "stdout",
     "output_type": "stream",
     "text": [
      "Val Loss: 190418775.692\n",
      "***************************************************\n",
      "\n",
      "Epoch: 2\n"
     ]
    },
    {
     "name": "stderr",
     "output_type": "stream",
     "text": [
      "88615it [09:15, 159.52it/s]\n"
     ]
    },
    {
     "name": "stdout",
     "output_type": "stream",
     "text": [
      "Loss : 13853823.530855386\n",
      "\n"
     ]
    },
    {
     "name": "stderr",
     "output_type": "stream",
     "text": [
      "4664it [00:10, 444.25it/s]\n"
     ]
    },
    {
     "name": "stdout",
     "output_type": "stream",
     "text": [
      "Val Loss: 187415796.571\n",
      "***************************************************\n",
      "\n",
      "Epoch: 3\n"
     ]
    },
    {
     "name": "stderr",
     "output_type": "stream",
     "text": [
      "88615it [09:16, 159.36it/s]\n"
     ]
    },
    {
     "name": "stdout",
     "output_type": "stream",
     "text": [
      "Loss : 13313293.915936919\n",
      "\n"
     ]
    },
    {
     "name": "stderr",
     "output_type": "stream",
     "text": [
      "4664it [00:10, 451.95it/s]\n"
     ]
    },
    {
     "name": "stdout",
     "output_type": "stream",
     "text": [
      "Val Loss: 198874345.645\n",
      "***************************************************\n",
      "\n",
      "Epoch: 4\n"
     ]
    },
    {
     "name": "stderr",
     "output_type": "stream",
     "text": [
      "88615it [09:14, 159.94it/s]\n"
     ]
    },
    {
     "name": "stdout",
     "output_type": "stream",
     "text": [
      "Loss : 12380396.783360604\n",
      "\n"
     ]
    },
    {
     "name": "stderr",
     "output_type": "stream",
     "text": [
      "4664it [00:10, 458.54it/s]\n"
     ]
    },
    {
     "name": "stdout",
     "output_type": "stream",
     "text": [
      "Val Loss: 164169243.312\n",
      "***************************************************\n",
      "\n",
      "Epoch: 5\n"
     ]
    },
    {
     "name": "stderr",
     "output_type": "stream",
     "text": [
      "88615it [09:13, 160.00it/s]\n"
     ]
    },
    {
     "name": "stdout",
     "output_type": "stream",
     "text": [
      "Loss : 12295468.04536478\n",
      "\n"
     ]
    },
    {
     "name": "stderr",
     "output_type": "stream",
     "text": [
      "4664it [00:10, 456.74it/s]\n"
     ]
    },
    {
     "name": "stdout",
     "output_type": "stream",
     "text": [
      "Val Loss: 157926160.311\n",
      "***************************************************\n",
      "\n",
      "=> Saving checkpoint checkpoint5\n",
      "\n",
      "Epoch: 6\n"
     ]
    },
    {
     "name": "stderr",
     "output_type": "stream",
     "text": [
      "88615it [09:14, 159.70it/s]\n"
     ]
    },
    {
     "name": "stdout",
     "output_type": "stream",
     "text": [
      "Loss : 18148138.551616542\n",
      "\n"
     ]
    },
    {
     "name": "stderr",
     "output_type": "stream",
     "text": [
      "4664it [00:10, 455.33it/s]\n"
     ]
    },
    {
     "name": "stdout",
     "output_type": "stream",
     "text": [
      "Val Loss: 262590879.574\n",
      "***************************************************\n",
      "\n",
      "Epoch: 7\n"
     ]
    },
    {
     "name": "stderr",
     "output_type": "stream",
     "text": [
      "88615it [09:14, 159.88it/s]\n"
     ]
    },
    {
     "name": "stdout",
     "output_type": "stream",
     "text": [
      "Loss : 13166605.16835468\n",
      "\n"
     ]
    },
    {
     "name": "stderr",
     "output_type": "stream",
     "text": [
      "4664it [00:10, 457.21it/s]\n"
     ]
    },
    {
     "name": "stdout",
     "output_type": "stream",
     "text": [
      "Val Loss: 218078580.459\n",
      "***************************************************\n",
      "\n",
      "Epoch: 8\n"
     ]
    },
    {
     "name": "stderr",
     "output_type": "stream",
     "text": [
      "88615it [09:14, 159.73it/s]\n"
     ]
    },
    {
     "name": "stdout",
     "output_type": "stream",
     "text": [
      "Loss : 14609352.184963042\n",
      "\n"
     ]
    },
    {
     "name": "stderr",
     "output_type": "stream",
     "text": [
      "4664it [00:10, 456.36it/s]\n"
     ]
    },
    {
     "name": "stdout",
     "output_type": "stream",
     "text": [
      "Val Loss: 194397449.982\n",
      "***************************************************\n",
      "\n",
      "Epoch: 9\n"
     ]
    },
    {
     "name": "stderr",
     "output_type": "stream",
     "text": [
      "88615it [09:14, 159.93it/s]\n"
     ]
    },
    {
     "name": "stdout",
     "output_type": "stream",
     "text": [
      "Loss : 13504630.960105512\n",
      "\n"
     ]
    },
    {
     "name": "stderr",
     "output_type": "stream",
     "text": [
      "4664it [00:10, 454.00it/s]\n"
     ]
    },
    {
     "name": "stdout",
     "output_type": "stream",
     "text": [
      "Val Loss: 174676530.150\n",
      "***************************************************\n",
      "\n",
      "Epoch: 10\n"
     ]
    },
    {
     "name": "stderr",
     "output_type": "stream",
     "text": [
      "88615it [09:13, 159.97it/s]\n"
     ]
    },
    {
     "name": "stdout",
     "output_type": "stream",
     "text": [
      "Loss : 12138865.482587598\n",
      "\n"
     ]
    },
    {
     "name": "stderr",
     "output_type": "stream",
     "text": [
      "4664it [00:10, 456.50it/s]\n"
     ]
    },
    {
     "name": "stdout",
     "output_type": "stream",
     "text": [
      "Val Loss: 190480671.891\n",
      "***************************************************\n",
      "\n",
      "=> Saving checkpoint checkpoint10\n",
      "\n",
      "Epoch: 11\n"
     ]
    },
    {
     "name": "stderr",
     "output_type": "stream",
     "text": [
      "88615it [09:14, 159.92it/s]\n"
     ]
    },
    {
     "name": "stdout",
     "output_type": "stream",
     "text": [
      "Loss : 18796063.500962026\n",
      "\n"
     ]
    },
    {
     "name": "stderr",
     "output_type": "stream",
     "text": [
      "4664it [00:10, 457.11it/s]\n"
     ]
    },
    {
     "name": "stdout",
     "output_type": "stream",
     "text": [
      "Val Loss: 215576766.384\n",
      "***************************************************\n",
      "\n",
      "Epoch: 12\n"
     ]
    },
    {
     "name": "stderr",
     "output_type": "stream",
     "text": [
      "88615it [09:13, 160.11it/s]\n"
     ]
    },
    {
     "name": "stdout",
     "output_type": "stream",
     "text": [
      "Loss : 10462079.152493935\n",
      "\n"
     ]
    },
    {
     "name": "stderr",
     "output_type": "stream",
     "text": [
      "4664it [00:10, 458.86it/s]\n"
     ]
    },
    {
     "name": "stdout",
     "output_type": "stream",
     "text": [
      "Val Loss: 168694410.374\n",
      "***************************************************\n",
      "\n",
      "Epoch: 13\n"
     ]
    },
    {
     "name": "stderr",
     "output_type": "stream",
     "text": [
      "88615it [09:13, 160.12it/s]\n"
     ]
    },
    {
     "name": "stdout",
     "output_type": "stream",
     "text": [
      "Loss : 10012380.200998703\n",
      "\n"
     ]
    },
    {
     "name": "stderr",
     "output_type": "stream",
     "text": [
      "4664it [00:10, 458.55it/s]\n"
     ]
    },
    {
     "name": "stdout",
     "output_type": "stream",
     "text": [
      "Val Loss: 160588487.520\n",
      "***************************************************\n",
      "\n",
      "Epoch: 14\n"
     ]
    },
    {
     "name": "stderr",
     "output_type": "stream",
     "text": [
      "88615it [09:13, 160.09it/s]\n"
     ]
    },
    {
     "name": "stdout",
     "output_type": "stream",
     "text": [
      "Loss : 15513491.84699543\n",
      "\n"
     ]
    },
    {
     "name": "stderr",
     "output_type": "stream",
     "text": [
      "4664it [00:10, 458.52it/s]\n"
     ]
    },
    {
     "name": "stdout",
     "output_type": "stream",
     "text": [
      "Val Loss: 159968111.167\n",
      "***************************************************\n",
      "\n",
      "Epoch: 15\n"
     ]
    },
    {
     "name": "stderr",
     "output_type": "stream",
     "text": [
      "88615it [09:13, 160.18it/s]\n"
     ]
    },
    {
     "name": "stdout",
     "output_type": "stream",
     "text": [
      "Loss : 18513213.641621057\n",
      "\n"
     ]
    },
    {
     "name": "stderr",
     "output_type": "stream",
     "text": [
      "4664it [00:10, 458.26it/s]\n"
     ]
    },
    {
     "name": "stdout",
     "output_type": "stream",
     "text": [
      "Val Loss: 318981457.157\n",
      "***************************************************\n",
      "\n",
      "=> Saving checkpoint checkpoint15\n",
      "\n",
      "Epoch: 16\n"
     ]
    },
    {
     "name": "stderr",
     "output_type": "stream",
     "text": [
      "88615it [09:13, 160.04it/s]\n"
     ]
    },
    {
     "name": "stdout",
     "output_type": "stream",
     "text": [
      "Loss : 26639368.487547256\n",
      "\n"
     ]
    },
    {
     "name": "stderr",
     "output_type": "stream",
     "text": [
      "4664it [00:10, 455.94it/s]\n"
     ]
    },
    {
     "name": "stdout",
     "output_type": "stream",
     "text": [
      "Val Loss: 215283718.171\n",
      "***************************************************\n",
      "\n",
      "Epoch: 17\n"
     ]
    },
    {
     "name": "stderr",
     "output_type": "stream",
     "text": [
      "88615it [09:13, 160.03it/s]\n"
     ]
    },
    {
     "name": "stdout",
     "output_type": "stream",
     "text": [
      "Loss : 21357131.517942786\n",
      "\n"
     ]
    },
    {
     "name": "stderr",
     "output_type": "stream",
     "text": [
      "4664it [00:10, 457.97it/s]\n"
     ]
    },
    {
     "name": "stdout",
     "output_type": "stream",
     "text": [
      "Val Loss: 242528843.142\n",
      "***************************************************\n",
      "\n",
      "Epoch: 18\n"
     ]
    },
    {
     "name": "stderr",
     "output_type": "stream",
     "text": [
      "88615it [09:13, 160.17it/s]\n"
     ]
    },
    {
     "name": "stdout",
     "output_type": "stream",
     "text": [
      "Loss : 15161548.471920667\n",
      "\n"
     ]
    },
    {
     "name": "stderr",
     "output_type": "stream",
     "text": [
      "4664it [00:10, 459.48it/s]\n"
     ]
    },
    {
     "name": "stdout",
     "output_type": "stream",
     "text": [
      "Val Loss: 209528471.232\n",
      "***************************************************\n",
      "\n",
      "Epoch: 19\n"
     ]
    },
    {
     "name": "stderr",
     "output_type": "stream",
     "text": [
      "88615it [09:13, 160.15it/s]\n"
     ]
    },
    {
     "name": "stdout",
     "output_type": "stream",
     "text": [
      "Loss : 13070326.271697793\n",
      "\n"
     ]
    },
    {
     "name": "stderr",
     "output_type": "stream",
     "text": [
      "4664it [00:10, 459.38it/s]\n"
     ]
    },
    {
     "name": "stdout",
     "output_type": "stream",
     "text": [
      "Val Loss: 214222413.252\n",
      "***************************************************\n",
      "\n",
      "Epoch: 20\n"
     ]
    },
    {
     "name": "stderr",
     "output_type": "stream",
     "text": [
      "88615it [09:12, 160.29it/s]\n"
     ]
    },
    {
     "name": "stdout",
     "output_type": "stream",
     "text": [
      "Loss : 12963616.571703436\n",
      "\n"
     ]
    },
    {
     "name": "stderr",
     "output_type": "stream",
     "text": [
      "4664it [00:10, 458.26it/s]\n"
     ]
    },
    {
     "name": "stdout",
     "output_type": "stream",
     "text": [
      "Val Loss: 248135781.253\n",
      "***************************************************\n",
      "\n",
      "=> Saving checkpoint checkpoint20\n",
      "\n",
      "Epoch: 21\n"
     ]
    },
    {
     "name": "stderr",
     "output_type": "stream",
     "text": [
      "88615it [09:13, 160.23it/s]\n"
     ]
    },
    {
     "name": "stdout",
     "output_type": "stream",
     "text": [
      "Loss : 12508429.363476839\n",
      "\n"
     ]
    },
    {
     "name": "stderr",
     "output_type": "stream",
     "text": [
      "4664it [00:10, 458.27it/s]\n"
     ]
    },
    {
     "name": "stdout",
     "output_type": "stream",
     "text": [
      "Val Loss: 305712845.121\n",
      "***************************************************\n",
      "\n",
      "Epoch: 22\n"
     ]
    },
    {
     "name": "stderr",
     "output_type": "stream",
     "text": [
      "88615it [09:12, 160.34it/s]\n"
     ]
    },
    {
     "name": "stdout",
     "output_type": "stream",
     "text": [
      "Loss : 15303532.688904248\n",
      "\n"
     ]
    },
    {
     "name": "stderr",
     "output_type": "stream",
     "text": [
      "4664it [00:10, 458.11it/s]\n"
     ]
    },
    {
     "name": "stdout",
     "output_type": "stream",
     "text": [
      "Val Loss: 200793462.230\n",
      "***************************************************\n",
      "\n",
      "Epoch: 23\n"
     ]
    },
    {
     "name": "stderr",
     "output_type": "stream",
     "text": [
      "88615it [09:12, 160.25it/s]\n"
     ]
    },
    {
     "name": "stdout",
     "output_type": "stream",
     "text": [
      "Loss : 11957755.511290414\n",
      "\n"
     ]
    },
    {
     "name": "stderr",
     "output_type": "stream",
     "text": [
      "4664it [00:10, 456.49it/s]\n"
     ]
    },
    {
     "name": "stdout",
     "output_type": "stream",
     "text": [
      "Val Loss: 188146381.371\n",
      "***************************************************\n",
      "\n",
      "Epoch: 24\n"
     ]
    },
    {
     "name": "stderr",
     "output_type": "stream",
     "text": [
      "88615it [09:13, 160.19it/s]\n"
     ]
    },
    {
     "name": "stdout",
     "output_type": "stream",
     "text": [
      "Loss : 11649720.39605033\n",
      "\n"
     ]
    },
    {
     "name": "stderr",
     "output_type": "stream",
     "text": [
      "4664it [00:10, 458.71it/s]\n"
     ]
    },
    {
     "name": "stdout",
     "output_type": "stream",
     "text": [
      "Val Loss: 194219276.559\n",
      "***************************************************\n",
      "\n",
      "Epoch: 25\n"
     ]
    },
    {
     "name": "stderr",
     "output_type": "stream",
     "text": [
      "88615it [09:13, 160.23it/s]\n"
     ]
    },
    {
     "name": "stdout",
     "output_type": "stream",
     "text": [
      "Loss : 11508570.973088643\n",
      "\n"
     ]
    },
    {
     "name": "stderr",
     "output_type": "stream",
     "text": [
      "4664it [00:10, 458.06it/s]\n"
     ]
    },
    {
     "name": "stdout",
     "output_type": "stream",
     "text": [
      "Val Loss: 316751941.530\n",
      "***************************************************\n",
      "\n",
      "=> Saving checkpoint checkpoint25\n",
      "\n",
      "Epoch: 26\n"
     ]
    },
    {
     "name": "stderr",
     "output_type": "stream",
     "text": [
      "88615it [09:12, 160.36it/s]\n"
     ]
    },
    {
     "name": "stdout",
     "output_type": "stream",
     "text": [
      "Loss : 11214525.566331886\n",
      "\n"
     ]
    },
    {
     "name": "stderr",
     "output_type": "stream",
     "text": [
      "4664it [00:10, 458.48it/s]\n"
     ]
    },
    {
     "name": "stdout",
     "output_type": "stream",
     "text": [
      "Val Loss: 178304770.961\n",
      "***************************************************\n",
      "\n",
      "Epoch: 27\n"
     ]
    },
    {
     "name": "stderr",
     "output_type": "stream",
     "text": [
      "88615it [09:12, 160.27it/s]\n"
     ]
    },
    {
     "name": "stdout",
     "output_type": "stream",
     "text": [
      "Loss : 11009346.264797157\n",
      "\n"
     ]
    },
    {
     "name": "stderr",
     "output_type": "stream",
     "text": [
      "4664it [00:10, 456.52it/s]\n"
     ]
    },
    {
     "name": "stdout",
     "output_type": "stream",
     "text": [
      "Val Loss: 178920840.002\n",
      "***************************************************\n",
      "\n",
      "Epoch: 28\n"
     ]
    },
    {
     "name": "stderr",
     "output_type": "stream",
     "text": [
      "88615it [09:13, 160.15it/s]\n"
     ]
    },
    {
     "name": "stdout",
     "output_type": "stream",
     "text": [
      "Loss : 10723294.89389776\n",
      "\n"
     ]
    },
    {
     "name": "stderr",
     "output_type": "stream",
     "text": [
      "4664it [00:10, 459.36it/s]\n"
     ]
    },
    {
     "name": "stdout",
     "output_type": "stream",
     "text": [
      "Val Loss: 171978723.465\n",
      "***************************************************\n",
      "\n",
      "Epoch: 29\n"
     ]
    },
    {
     "name": "stderr",
     "output_type": "stream",
     "text": [
      "88615it [09:13, 160.21it/s]\n"
     ]
    },
    {
     "name": "stdout",
     "output_type": "stream",
     "text": [
      "Loss : 10583914.325932404\n",
      "\n"
     ]
    },
    {
     "name": "stderr",
     "output_type": "stream",
     "text": [
      "4664it [00:10, 456.44it/s]\n"
     ]
    },
    {
     "name": "stdout",
     "output_type": "stream",
     "text": [
      "Val Loss: 181433238.272\n",
      "***************************************************\n",
      "\n",
      "Epoch: 30\n"
     ]
    },
    {
     "name": "stderr",
     "output_type": "stream",
     "text": [
      "88615it [09:13, 160.21it/s]\n"
     ]
    },
    {
     "name": "stdout",
     "output_type": "stream",
     "text": [
      "Loss : 10361132.057340743\n",
      "\n"
     ]
    },
    {
     "name": "stderr",
     "output_type": "stream",
     "text": [
      "4664it [00:10, 456.01it/s]\n"
     ]
    },
    {
     "name": "stdout",
     "output_type": "stream",
     "text": [
      "Val Loss: 171597092.288\n",
      "***************************************************\n",
      "\n",
      "=> Saving checkpoint checkpoint30\n",
      "\n",
      "Epoch: 31\n"
     ]
    },
    {
     "name": "stderr",
     "output_type": "stream",
     "text": [
      "88615it [09:13, 160.09it/s]\n"
     ]
    },
    {
     "name": "stdout",
     "output_type": "stream",
     "text": [
      "Loss : 10378591.532271624\n",
      "\n"
     ]
    },
    {
     "name": "stderr",
     "output_type": "stream",
     "text": [
      "4664it [00:10, 455.05it/s]\n"
     ]
    },
    {
     "name": "stdout",
     "output_type": "stream",
     "text": [
      "Val Loss: 201455745.073\n",
      "***************************************************\n",
      "\n",
      "Epoch: 32\n"
     ]
    },
    {
     "name": "stderr",
     "output_type": "stream",
     "text": [
      "88615it [09:12, 160.29it/s]\n"
     ]
    },
    {
     "name": "stdout",
     "output_type": "stream",
     "text": [
      "Loss : 10492107.29886588\n",
      "\n"
     ]
    },
    {
     "name": "stderr",
     "output_type": "stream",
     "text": [
      "4664it [00:10, 456.21it/s]\n"
     ]
    },
    {
     "name": "stdout",
     "output_type": "stream",
     "text": [
      "Val Loss: 202474677.923\n",
      "***************************************************\n",
      "\n",
      "Epoch: 33\n"
     ]
    },
    {
     "name": "stderr",
     "output_type": "stream",
     "text": [
      "88615it [09:12, 160.41it/s]\n"
     ]
    },
    {
     "name": "stdout",
     "output_type": "stream",
     "text": [
      "Loss : 11043928.272676747\n",
      "\n"
     ]
    },
    {
     "name": "stderr",
     "output_type": "stream",
     "text": [
      "4664it [00:10, 458.09it/s]\n"
     ]
    },
    {
     "name": "stdout",
     "output_type": "stream",
     "text": [
      "Val Loss: 213376172.672\n",
      "***************************************************\n",
      "\n",
      "Epoch: 34\n"
     ]
    },
    {
     "name": "stderr",
     "output_type": "stream",
     "text": [
      "88615it [09:12, 160.31it/s]\n"
     ]
    },
    {
     "name": "stdout",
     "output_type": "stream",
     "text": [
      "Loss : 10376773.155806014\n",
      "\n"
     ]
    },
    {
     "name": "stderr",
     "output_type": "stream",
     "text": [
      "4664it [00:10, 458.35it/s]\n"
     ]
    },
    {
     "name": "stdout",
     "output_type": "stream",
     "text": [
      "Val Loss: 202968237.689\n",
      "***************************************************\n",
      "\n",
      "Epoch: 35\n"
     ]
    },
    {
     "name": "stderr",
     "output_type": "stream",
     "text": [
      "88615it [09:12, 160.34it/s]\n"
     ]
    },
    {
     "name": "stdout",
     "output_type": "stream",
     "text": [
      "Loss : 9966375.51847599\n",
      "\n"
     ]
    },
    {
     "name": "stderr",
     "output_type": "stream",
     "text": [
      "4664it [00:10, 457.87it/s]\n"
     ]
    },
    {
     "name": "stdout",
     "output_type": "stream",
     "text": [
      "Val Loss: 243774568.958\n",
      "***************************************************\n",
      "\n",
      "=> Saving checkpoint checkpoint35\n",
      "\n",
      "Epoch: 36\n"
     ]
    },
    {
     "name": "stderr",
     "output_type": "stream",
     "text": [
      "88615it [09:13, 160.23it/s]\n"
     ]
    },
    {
     "name": "stdout",
     "output_type": "stream",
     "text": [
      "Loss : 10260848.5246939\n",
      "\n"
     ]
    },
    {
     "name": "stderr",
     "output_type": "stream",
     "text": [
      "4664it [00:10, 456.66it/s]\n"
     ]
    },
    {
     "name": "stdout",
     "output_type": "stream",
     "text": [
      "Val Loss: 205563351.245\n",
      "***************************************************\n",
      "\n",
      "Epoch: 37\n"
     ]
    },
    {
     "name": "stderr",
     "output_type": "stream",
     "text": [
      "88615it [09:13, 160.12it/s]\n"
     ]
    },
    {
     "name": "stdout",
     "output_type": "stream",
     "text": [
      "Loss : 10774668.446442476\n",
      "\n"
     ]
    },
    {
     "name": "stderr",
     "output_type": "stream",
     "text": [
      "4664it [00:10, 447.49it/s]\n"
     ]
    },
    {
     "name": "stdout",
     "output_type": "stream",
     "text": [
      "Val Loss: 204731470.059\n",
      "***************************************************\n",
      "\n",
      "Epoch: 38\n"
     ]
    },
    {
     "name": "stderr",
     "output_type": "stream",
     "text": [
      "88615it [09:13, 160.19it/s]\n"
     ]
    },
    {
     "name": "stdout",
     "output_type": "stream",
     "text": [
      "Loss : 10016167.57535406\n",
      "\n"
     ]
    },
    {
     "name": "stderr",
     "output_type": "stream",
     "text": [
      "4664it [00:10, 458.81it/s]\n"
     ]
    },
    {
     "name": "stdout",
     "output_type": "stream",
     "text": [
      "Val Loss: 239885796.930\n",
      "***************************************************\n",
      "\n",
      "Epoch: 39\n"
     ]
    },
    {
     "name": "stderr",
     "output_type": "stream",
     "text": [
      "88615it [09:12, 160.34it/s]\n"
     ]
    },
    {
     "name": "stdout",
     "output_type": "stream",
     "text": [
      "Loss : 9564728.154147154\n",
      "\n"
     ]
    },
    {
     "name": "stderr",
     "output_type": "stream",
     "text": [
      "4664it [00:10, 459.01it/s]\n"
     ]
    },
    {
     "name": "stdout",
     "output_type": "stream",
     "text": [
      "Val Loss: 203815775.375\n",
      "***************************************************\n",
      "\n",
      "Epoch: 40\n"
     ]
    },
    {
     "name": "stderr",
     "output_type": "stream",
     "text": [
      "88615it [09:12, 160.40it/s]\n"
     ]
    },
    {
     "name": "stdout",
     "output_type": "stream",
     "text": [
      "Loss : 9622960.904508267\n",
      "\n"
     ]
    },
    {
     "name": "stderr",
     "output_type": "stream",
     "text": [
      "4664it [00:10, 457.53it/s]\n"
     ]
    },
    {
     "name": "stdout",
     "output_type": "stream",
     "text": [
      "Val Loss: 215638711.963\n",
      "***************************************************\n",
      "\n",
      "=> Saving checkpoint checkpoint40\n",
      "\n",
      "Epoch: 41\n"
     ]
    },
    {
     "name": "stderr",
     "output_type": "stream",
     "text": [
      "88615it [09:12, 160.31it/s]\n"
     ]
    },
    {
     "name": "stdout",
     "output_type": "stream",
     "text": [
      "Loss : 9700016.63091181\n",
      "\n"
     ]
    },
    {
     "name": "stderr",
     "output_type": "stream",
     "text": [
      "4664it [00:10, 458.92it/s]\n"
     ]
    },
    {
     "name": "stdout",
     "output_type": "stream",
     "text": [
      "Val Loss: 204371643.497\n",
      "***************************************************\n",
      "\n",
      "Epoch: 42\n"
     ]
    },
    {
     "name": "stderr",
     "output_type": "stream",
     "text": [
      "88615it [09:13, 160.18it/s]\n"
     ]
    },
    {
     "name": "stdout",
     "output_type": "stream",
     "text": [
      "Loss : 9414961.379247306\n",
      "\n"
     ]
    },
    {
     "name": "stderr",
     "output_type": "stream",
     "text": [
      "4664it [00:10, 458.19it/s]\n"
     ]
    },
    {
     "name": "stdout",
     "output_type": "stream",
     "text": [
      "Val Loss: 206520207.243\n",
      "***************************************************\n",
      "\n",
      "Epoch: 43\n"
     ]
    },
    {
     "name": "stderr",
     "output_type": "stream",
     "text": [
      "88615it [09:12, 160.42it/s]\n"
     ]
    },
    {
     "name": "stdout",
     "output_type": "stream",
     "text": [
      "Loss : 9866788.268241832\n",
      "\n"
     ]
    },
    {
     "name": "stderr",
     "output_type": "stream",
     "text": [
      "4664it [00:10, 456.67it/s]\n"
     ]
    },
    {
     "name": "stdout",
     "output_type": "stream",
     "text": [
      "Val Loss: 206974122.298\n",
      "***************************************************\n",
      "\n",
      "Epoch: 44\n"
     ]
    },
    {
     "name": "stderr",
     "output_type": "stream",
     "text": [
      "88615it [09:12, 160.36it/s]\n"
     ]
    },
    {
     "name": "stdout",
     "output_type": "stream",
     "text": [
      "Loss : 9345023.812799752\n",
      "\n"
     ]
    },
    {
     "name": "stderr",
     "output_type": "stream",
     "text": [
      "4664it [00:10, 455.93it/s]\n"
     ]
    },
    {
     "name": "stdout",
     "output_type": "stream",
     "text": [
      "Val Loss: 222791761.845\n",
      "***************************************************\n",
      "\n",
      "Epoch: 45\n"
     ]
    },
    {
     "name": "stderr",
     "output_type": "stream",
     "text": [
      "88615it [09:12, 160.40it/s]\n"
     ]
    },
    {
     "name": "stdout",
     "output_type": "stream",
     "text": [
      "Loss : 9345889.039953733\n",
      "\n"
     ]
    },
    {
     "name": "stderr",
     "output_type": "stream",
     "text": [
      "4664it [00:10, 457.45it/s]\n"
     ]
    },
    {
     "name": "stdout",
     "output_type": "stream",
     "text": [
      "Val Loss: 225248274.974\n",
      "***************************************************\n",
      "\n",
      "=> Saving checkpoint checkpoint45\n",
      "\n",
      "Epoch: 46\n"
     ]
    },
    {
     "name": "stderr",
     "output_type": "stream",
     "text": [
      "88615it [09:12, 160.29it/s]\n"
     ]
    },
    {
     "name": "stdout",
     "output_type": "stream",
     "text": [
      "Loss : 9444220.681473227\n",
      "\n"
     ]
    },
    {
     "name": "stderr",
     "output_type": "stream",
     "text": [
      "4664it [00:10, 456.55it/s]\n"
     ]
    },
    {
     "name": "stdout",
     "output_type": "stream",
     "text": [
      "Val Loss: 217157823.984\n",
      "***************************************************\n",
      "\n",
      "Epoch: 47\n"
     ]
    },
    {
     "name": "stderr",
     "output_type": "stream",
     "text": [
      "88615it [09:13, 160.21it/s]\n"
     ]
    },
    {
     "name": "stdout",
     "output_type": "stream",
     "text": [
      "Loss : 9216336.02970434\n",
      "\n"
     ]
    },
    {
     "name": "stderr",
     "output_type": "stream",
     "text": [
      "4664it [00:10, 458.35it/s]\n"
     ]
    },
    {
     "name": "stdout",
     "output_type": "stream",
     "text": [
      "Val Loss: 211384394.514\n",
      "***************************************************\n",
      "\n",
      "Epoch: 48\n"
     ]
    },
    {
     "name": "stderr",
     "output_type": "stream",
     "text": [
      "88615it [09:12, 160.30it/s]\n"
     ]
    },
    {
     "name": "stdout",
     "output_type": "stream",
     "text": [
      "Loss : 9238128.835659876\n",
      "\n"
     ]
    },
    {
     "name": "stderr",
     "output_type": "stream",
     "text": [
      "4664it [00:10, 458.92it/s]\n"
     ]
    },
    {
     "name": "stdout",
     "output_type": "stream",
     "text": [
      "Val Loss: 212015239.845\n",
      "***************************************************\n",
      "\n",
      "Epoch: 49\n"
     ]
    },
    {
     "name": "stderr",
     "output_type": "stream",
     "text": [
      "88615it [09:12, 160.40it/s]\n"
     ]
    },
    {
     "name": "stdout",
     "output_type": "stream",
     "text": [
      "Loss : 9130947.718461886\n",
      "\n"
     ]
    },
    {
     "name": "stderr",
     "output_type": "stream",
     "text": [
      "4664it [00:10, 457.84it/s]\n"
     ]
    },
    {
     "name": "stdout",
     "output_type": "stream",
     "text": [
      "Val Loss: 211100043.974\n",
      "***************************************************\n",
      "\n",
      "Epoch: 50\n"
     ]
    },
    {
     "name": "stderr",
     "output_type": "stream",
     "text": [
      "88615it [09:12, 160.41it/s]\n"
     ]
    },
    {
     "name": "stdout",
     "output_type": "stream",
     "text": [
      "Loss : 9380186.438509282\n",
      "\n"
     ]
    },
    {
     "name": "stderr",
     "output_type": "stream",
     "text": [
      "4664it [00:10, 457.58it/s]\n"
     ]
    },
    {
     "name": "stdout",
     "output_type": "stream",
     "text": [
      "Val Loss: 214161405.619\n",
      "***************************************************\n",
      "\n",
      "=> Saving checkpoint checkpoint50\n",
      "\n"
     ]
    }
   ],
   "source": [
    "for epoch in range(num_epochs):\n",
    "    \n",
    "    train_one_epoch()\n",
    "    validate_one_epoch()\n",
    "    \n",
    "    if((epoch+1)%5==0):\n",
    "        checkpoint = {'state_dict' : model.state_dict(), 'optimizer' : optimizer.state_dict()}\n",
    "        save_checkpoint(checkpoint,f'checkpoint{epoch+1}')"
   ]
  },
  {
   "cell_type": "code",
   "execution_count": null,
   "id": "6404211c",
   "metadata": {
    "papermill": {
     "duration": 21.639927,
     "end_time": "2024-10-05T00:55:21.137009",
     "exception": false,
     "start_time": "2024-10-05T00:54:59.497082",
     "status": "completed"
    },
    "tags": []
   },
   "outputs": [],
   "source": []
  },
  {
   "cell_type": "code",
   "execution_count": 29,
   "id": "04739cbe",
   "metadata": {
    "execution": {
     "iopub.execute_input": "2024-10-05T00:56:04.690364Z",
     "iopub.status.busy": "2024-10-05T00:56:04.690003Z",
     "iopub.status.idle": "2024-10-05T00:56:04.701084Z",
     "shell.execute_reply": "2024-10-05T00:56:04.700192Z"
    },
    "id": "-CuelDg2seDP",
    "papermill": {
     "duration": 21.912717,
     "end_time": "2024-10-05T00:56:04.702994",
     "exception": false,
     "start_time": "2024-10-05T00:55:42.790277",
     "status": "completed"
    },
    "tags": []
   },
   "outputs": [],
   "source": [
    "import pandas as pd\n",
    "import torch\n",
    "from tqdm import tqdm\n",
    "\n",
    "# Test function with DataFrame creation\n",
    "def evaluate_model(loader, model):\n",
    "    model.train(False)  # Set model to evaluation mode\n",
    "    running_loss = 0.0\n",
    "\n",
    "    # Lists to store the test data, actual, and predicted p_wave_arrival\n",
    "    time_list = []\n",
    "    velocity_list = []\n",
    "    actual_p_wave_arrival_list = []\n",
    "    predicted_p_wave_arrival_list = []\n",
    "\n",
    "    with torch.no_grad():\n",
    "        for batch_index, batch in tqdm(enumerate(loader)):\n",
    "            data, targets = batch[0].to(device), batch[1].to(device)\n",
    "\n",
    "            # Reshape input for LSTM (batch_size, sequence_length, input_size)\n",
    "            data = data.squeeze(1)  # Remove extra dimensions if any\n",
    "\n",
    "            if data.dim() == 2:  # Add sequence length dimension if it's missing\n",
    "                data = data.unsqueeze(1)\n",
    "\n",
    "            # Forward pass\n",
    "            outputs = model(data)\n",
    "\n",
    "            # Calculate loss\n",
    "            loss = loss_function(outputs.squeeze(), targets)\n",
    "            running_loss += loss.item()\n",
    "\n",
    "            # Move data back to CPU and convert to numpy\n",
    "            data_cpu = data.squeeze().cpu().numpy()  # Get the time and velocity data\n",
    "            targets_cpu = targets.cpu().numpy()  # Actual p_wave_arrival\n",
    "            preds_cpu = outputs.squeeze().cpu().numpy()  # Predicted p_wave_arrival\n",
    "\n",
    "            # Append data to lists\n",
    "            time_list.extend(data_cpu[:, 0])  # Extract the 'time' column\n",
    "            velocity_list.extend(data_cpu[:, 1])  # Extract the 'velocity' column\n",
    "            actual_p_wave_arrival_list.extend(targets_cpu)\n",
    "            predicted_p_wave_arrival_list.extend(preds_cpu)\n",
    "\n",
    "    # Create DataFrame\n",
    "    df_results = pd.DataFrame({\n",
    "        'Time': time_list,\n",
    "        'Velocity': velocity_list,\n",
    "        'Actual_p_wave_arrival': actual_p_wave_arrival_list,\n",
    "        'Predicted_p_wave_arrival': predicted_p_wave_arrival_list\n",
    "    })\n",
    "\n",
    "    # Calculate average loss across all batches\n",
    "    avg_loss_across_batches = running_loss / len(loader)\n",
    "\n",
    "    # Print results\n",
    "    print(f'Average Test Loss: {avg_loss_across_batches:.4f}')\n",
    "    print('***************************************************')\n",
    "\n",
    "    return df_results\n"
   ]
  },
  {
   "cell_type": "code",
   "execution_count": 30,
   "id": "4bbd5e14",
   "metadata": {
    "execution": {
     "iopub.execute_input": "2024-10-05T00:56:48.038786Z",
     "iopub.status.busy": "2024-10-05T00:56:48.038412Z",
     "iopub.status.idle": "2024-10-05T00:56:59.984034Z",
     "shell.execute_reply": "2024-10-05T00:56:59.982938Z"
    },
    "papermill": {
     "duration": 33.542642,
     "end_time": "2024-10-05T00:56:59.986219",
     "exception": false,
     "start_time": "2024-10-05T00:56:26.443577",
     "status": "completed"
    },
    "tags": []
   },
   "outputs": [
    {
     "name": "stderr",
     "output_type": "stream",
     "text": [
      "0it [00:00, ?it/s]/opt/conda/lib/python3.10/site-packages/torch/nn/modules/loss.py:538: UserWarning: Using a target size (torch.Size([128, 1])) that is different to the input size (torch.Size([128])). This will likely lead to incorrect results due to broadcasting. Please ensure they have the same size.\n",
      "  return F.mse_loss(input, target, reduction=self.reduction)\n",
      "4654it [00:11, 415.68it/s]/opt/conda/lib/python3.10/site-packages/torch/nn/modules/loss.py:538: UserWarning: Using a target size (torch.Size([120, 1])) that is different to the input size (torch.Size([120])). This will likely lead to incorrect results due to broadcasting. Please ensure they have the same size.\n",
      "  return F.mse_loss(input, target, reduction=self.reduction)\n",
      "4664it [00:11, 408.90it/s]\n"
     ]
    },
    {
     "name": "stdout",
     "output_type": "stream",
     "text": [
      "Average Test Loss: 214161569.6653\n",
      "***************************************************\n"
     ]
    }
   ],
   "source": [
    "# Evaluate the model on the test set\n",
    "tem = evaluate_model(test_loader, model)"
   ]
  },
  {
   "cell_type": "code",
   "execution_count": 31,
   "id": "87478937",
   "metadata": {
    "execution": {
     "iopub.execute_input": "2024-10-05T00:57:43.114787Z",
     "iopub.status.busy": "2024-10-05T00:57:43.114438Z",
     "iopub.status.idle": "2024-10-05T00:57:43.137800Z",
     "shell.execute_reply": "2024-10-05T00:57:43.137012Z"
    },
    "papermill": {
     "duration": 21.696799,
     "end_time": "2024-10-05T00:57:43.139749",
     "exception": false,
     "start_time": "2024-10-05T00:57:21.442950",
     "status": "completed"
    },
    "tags": []
   },
   "outputs": [
    {
     "data": {
      "text/html": [
       "<div>\n",
       "<style scoped>\n",
       "    .dataframe tbody tr th:only-of-type {\n",
       "        vertical-align: middle;\n",
       "    }\n",
       "\n",
       "    .dataframe tbody tr th {\n",
       "        vertical-align: top;\n",
       "    }\n",
       "\n",
       "    .dataframe thead th {\n",
       "        text-align: right;\n",
       "    }\n",
       "</style>\n",
       "<table border=\"1\" class=\"dataframe\">\n",
       "  <thead>\n",
       "    <tr style=\"text-align: right;\">\n",
       "      <th></th>\n",
       "      <th>Time</th>\n",
       "      <th>Velocity</th>\n",
       "      <th>Actual_p_wave_arrival</th>\n",
       "      <th>Predicted_p_wave_arrival</th>\n",
       "    </tr>\n",
       "  </thead>\n",
       "  <tbody>\n",
       "    <tr>\n",
       "      <th>0</th>\n",
       "      <td>[2835661.5, 0.46060288]</td>\n",
       "      <td>[2835664.0, -1.1068829]</td>\n",
       "      <td>[2841766.8]</td>\n",
       "      <td>2840968.50</td>\n",
       "    </tr>\n",
       "    <tr>\n",
       "      <th>1</th>\n",
       "      <td>[2835661.8, 1.1317414]</td>\n",
       "      <td>[2835664.2, -0.69407684]</td>\n",
       "      <td>[2841766.8]</td>\n",
       "      <td>2840971.75</td>\n",
       "    </tr>\n",
       "    <tr>\n",
       "      <th>2</th>\n",
       "      <td>[2835662.0, 1.7190607]</td>\n",
       "      <td>[2835664.5, -0.9319031]</td>\n",
       "      <td>[2841766.8]</td>\n",
       "      <td>2840972.50</td>\n",
       "    </tr>\n",
       "    <tr>\n",
       "      <th>3</th>\n",
       "      <td>[2835662.2, 2.3524396]</td>\n",
       "      <td>[2835664.8, -1.572397]</td>\n",
       "      <td>[2841766.8]</td>\n",
       "      <td>2840972.75</td>\n",
       "    </tr>\n",
       "    <tr>\n",
       "      <th>4</th>\n",
       "      <td>[2835662.5, 2.2955623]</td>\n",
       "      <td>[2835665.0, -1.342719]</td>\n",
       "      <td>[2841766.8]</td>\n",
       "      <td>2840970.25</td>\n",
       "    </tr>\n",
       "    <tr>\n",
       "      <th>...</th>\n",
       "      <td>...</td>\n",
       "      <td>...</td>\n",
       "      <td>...</td>\n",
       "      <td>...</td>\n",
       "    </tr>\n",
       "    <tr>\n",
       "      <th>586979</th>\n",
       "      <td>[2982406.2, -0.022730248]</td>\n",
       "      <td>[2982408.8, -0.023669202]</td>\n",
       "      <td>[2985266.8]</td>\n",
       "      <td>2987788.75</td>\n",
       "    </tr>\n",
       "    <tr>\n",
       "      <th>586980</th>\n",
       "      <td>[2982406.5, -0.022859408]</td>\n",
       "      <td>[2982409.0, -0.02379741]</td>\n",
       "      <td>[2985266.8]</td>\n",
       "      <td>2987789.00</td>\n",
       "    </tr>\n",
       "    <tr>\n",
       "      <th>586981</th>\n",
       "      <td>[2982406.8, -0.022911113]</td>\n",
       "      <td>[2982409.2, -0.023850145]</td>\n",
       "      <td>[2985266.8]</td>\n",
       "      <td>2987789.00</td>\n",
       "    </tr>\n",
       "    <tr>\n",
       "      <th>586982</th>\n",
       "      <td>[2982407.0, -0.023048576]</td>\n",
       "      <td>[2982409.5, -0.023976495]</td>\n",
       "      <td>[2985266.8]</td>\n",
       "      <td>2987789.25</td>\n",
       "    </tr>\n",
       "    <tr>\n",
       "      <th>586983</th>\n",
       "      <td>[2982407.2, -0.02308515]</td>\n",
       "      <td>[2982409.8, -0.024033826]</td>\n",
       "      <td>[2985266.8]</td>\n",
       "      <td>2987789.75</td>\n",
       "    </tr>\n",
       "  </tbody>\n",
       "</table>\n",
       "<p>586984 rows × 4 columns</p>\n",
       "</div>"
      ],
      "text/plain": [
       "                             Time                   Velocity  \\\n",
       "0         [2835661.5, 0.46060288]    [2835664.0, -1.1068829]   \n",
       "1          [2835661.8, 1.1317414]   [2835664.2, -0.69407684]   \n",
       "2          [2835662.0, 1.7190607]    [2835664.5, -0.9319031]   \n",
       "3          [2835662.2, 2.3524396]     [2835664.8, -1.572397]   \n",
       "4          [2835662.5, 2.2955623]     [2835665.0, -1.342719]   \n",
       "...                           ...                        ...   \n",
       "586979  [2982406.2, -0.022730248]  [2982408.8, -0.023669202]   \n",
       "586980  [2982406.5, -0.022859408]   [2982409.0, -0.02379741]   \n",
       "586981  [2982406.8, -0.022911113]  [2982409.2, -0.023850145]   \n",
       "586982  [2982407.0, -0.023048576]  [2982409.5, -0.023976495]   \n",
       "586983   [2982407.2, -0.02308515]  [2982409.8, -0.024033826]   \n",
       "\n",
       "       Actual_p_wave_arrival  Predicted_p_wave_arrival  \n",
       "0                [2841766.8]                2840968.50  \n",
       "1                [2841766.8]                2840971.75  \n",
       "2                [2841766.8]                2840972.50  \n",
       "3                [2841766.8]                2840972.75  \n",
       "4                [2841766.8]                2840970.25  \n",
       "...                      ...                       ...  \n",
       "586979           [2985266.8]                2987788.75  \n",
       "586980           [2985266.8]                2987789.00  \n",
       "586981           [2985266.8]                2987789.00  \n",
       "586982           [2985266.8]                2987789.25  \n",
       "586983           [2985266.8]                2987789.75  \n",
       "\n",
       "[586984 rows x 4 columns]"
      ]
     },
     "execution_count": 31,
     "metadata": {},
     "output_type": "execute_result"
    }
   ],
   "source": [
    "# x = tem.Time.values\n",
    "# y = tem.Velocity.values\n",
    "# p = tem.Actual_p_wave_arrival.unique()\n",
    "# z = tem.Predicted_p_wave_arrival.unique()\n",
    "# print(len(p),len(z))\n",
    "tem[:-10000]"
   ]
  },
  {
   "cell_type": "code",
   "execution_count": null,
   "id": "cc217738",
   "metadata": {
    "papermill": {
     "duration": 21.532982,
     "end_time": "2024-10-05T00:58:26.480783",
     "exception": false,
     "start_time": "2024-10-05T00:58:04.947801",
     "status": "completed"
    },
    "tags": []
   },
   "outputs": [],
   "source": []
  }
 ],
 "metadata": {
  "colab": {
   "gpuType": "T4",
   "provenance": []
  },
  "gpuClass": "standard",
  "kaggle": {
   "accelerator": "gpu",
   "dataSources": [
    {
     "datasetId": 5796911,
     "sourceId": 9521064,
     "sourceType": "datasetVersion"
    },
    {
     "datasetId": 5797144,
     "sourceId": 9521353,
     "sourceType": "datasetVersion"
    },
    {
     "datasetId": 5814873,
     "sourceId": 9544784,
     "sourceType": "datasetVersion"
    },
    {
     "datasetId": 5817642,
     "sourceId": 9548506,
     "sourceType": "datasetVersion"
    }
   ],
   "isGpuEnabled": true,
   "isInternetEnabled": true,
   "language": "python",
   "sourceType": "notebook"
  },
  "kernelspec": {
   "display_name": "Python 3",
   "language": "python",
   "name": "python3"
  },
  "language_info": {
   "codemirror_mode": {
    "name": "ipython",
    "version": 3
   },
   "file_extension": ".py",
   "mimetype": "text/x-python",
   "name": "python",
   "nbconvert_exporter": "python",
   "pygments_lexer": "ipython3",
   "version": "3.10.14"
  },
  "papermill": {
   "default_parameters": {},
   "duration": 29000.032085,
   "end_time": "2024-10-05T00:58:51.356729",
   "environment_variables": {},
   "exception": null,
   "input_path": "__notebook__.ipynb",
   "output_path": "__notebook__.ipynb",
   "parameters": {},
   "start_time": "2024-10-04T16:55:31.324644",
   "version": "2.6.0"
  }
 },
 "nbformat": 4,
 "nbformat_minor": 5
}
