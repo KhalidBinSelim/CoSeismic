{
 "cells": [
  {
   "cell_type": "code",
   "execution_count": 1,
   "id": "305660d1",
   "metadata": {
    "execution": {
     "iopub.execute_input": "2024-10-04T16:54:38.251264Z",
     "iopub.status.busy": "2024-10-04T16:54:38.250834Z",
     "iopub.status.idle": "2024-10-04T16:55:39.677985Z",
     "shell.execute_reply": "2024-10-04T16:55:39.676869Z"
    },
    "id": "2a4fdd0f",
    "outputId": "d758fb02-8b42-4705-d4bd-bcaa6df69ea7",
    "papermill": {
     "duration": 61.455718,
     "end_time": "2024-10-04T16:55:39.693604",
     "exception": false,
     "start_time": "2024-10-04T16:54:38.237886",
     "status": "completed"
    },
    "tags": []
   },
   "outputs": [
    {
     "data": {
      "text/html": [
       "<div>\n",
       "<style scoped>\n",
       "    .dataframe tbody tr th:only-of-type {\n",
       "        vertical-align: middle;\n",
       "    }\n",
       "\n",
       "    .dataframe tbody tr th {\n",
       "        vertical-align: top;\n",
       "    }\n",
       "\n",
       "    .dataframe thead th {\n",
       "        text-align: right;\n",
       "    }\n",
       "</style>\n",
       "<table border=\"1\" class=\"dataframe\">\n",
       "  <thead>\n",
       "    <tr style=\"text-align: right;\">\n",
       "      <th></th>\n",
       "      <th>data</th>\n",
       "      <th>p_wave_arrival</th>\n",
       "      <th>time</th>\n",
       "    </tr>\n",
       "  </thead>\n",
       "  <tbody>\n",
       "    <tr>\n",
       "      <th>0</th>\n",
       "      <td>0.011564</td>\n",
       "      <td>300.0</td>\n",
       "      <td>0.00</td>\n",
       "    </tr>\n",
       "    <tr>\n",
       "      <th>1</th>\n",
       "      <td>0.012698</td>\n",
       "      <td>300.0</td>\n",
       "      <td>0.25</td>\n",
       "    </tr>\n",
       "    <tr>\n",
       "      <th>2</th>\n",
       "      <td>0.012159</td>\n",
       "      <td>300.0</td>\n",
       "      <td>0.50</td>\n",
       "    </tr>\n",
       "    <tr>\n",
       "      <th>3</th>\n",
       "      <td>0.013744</td>\n",
       "      <td>300.0</td>\n",
       "      <td>0.75</td>\n",
       "    </tr>\n",
       "    <tr>\n",
       "      <th>4</th>\n",
       "      <td>0.013187</td>\n",
       "      <td>300.0</td>\n",
       "      <td>1.00</td>\n",
       "    </tr>\n",
       "    <tr>\n",
       "      <th>...</th>\n",
       "      <td>...</td>\n",
       "      <td>...</td>\n",
       "      <td>...</td>\n",
       "    </tr>\n",
       "    <tr>\n",
       "      <th>59698396</th>\n",
       "      <td>0.005810</td>\n",
       "      <td>0.0</td>\n",
       "      <td>14924599.00</td>\n",
       "    </tr>\n",
       "    <tr>\n",
       "      <th>59698397</th>\n",
       "      <td>0.009254</td>\n",
       "      <td>0.0</td>\n",
       "      <td>14924599.25</td>\n",
       "    </tr>\n",
       "    <tr>\n",
       "      <th>59698398</th>\n",
       "      <td>0.005633</td>\n",
       "      <td>0.0</td>\n",
       "      <td>14924599.50</td>\n",
       "    </tr>\n",
       "    <tr>\n",
       "      <th>59698399</th>\n",
       "      <td>0.008816</td>\n",
       "      <td>0.0</td>\n",
       "      <td>14924599.75</td>\n",
       "    </tr>\n",
       "    <tr>\n",
       "      <th>59698400</th>\n",
       "      <td>0.005421</td>\n",
       "      <td>0.0</td>\n",
       "      <td>14924600.00</td>\n",
       "    </tr>\n",
       "  </tbody>\n",
       "</table>\n",
       "<p>59698401 rows × 3 columns</p>\n",
       "</div>"
      ],
      "text/plain": [
       "              data  p_wave_arrival         time\n",
       "0         0.011564           300.0         0.00\n",
       "1         0.012698           300.0         0.25\n",
       "2         0.012159           300.0         0.50\n",
       "3         0.013744           300.0         0.75\n",
       "4         0.013187           300.0         1.00\n",
       "...            ...             ...          ...\n",
       "59698396  0.005810             0.0  14924599.00\n",
       "59698397  0.009254             0.0  14924599.25\n",
       "59698398  0.005633             0.0  14924599.50\n",
       "59698399  0.008816             0.0  14924599.75\n",
       "59698400  0.005421             0.0  14924600.00\n",
       "\n",
       "[59698401 rows x 3 columns]"
      ]
     },
     "execution_count": 1,
     "metadata": {},
     "output_type": "execute_result"
    }
   ],
   "source": [
    "import pandas as pd\n",
    "import numpy as np\n",
    "import matplotlib.pyplot as plt\n",
    "\n",
    "import torch\n",
    "import torch.nn as nn\n",
    "\n",
    "from tqdm import tqdm\n",
    "\n",
    "data = pd.read_csv('/kaggle/input/earthquake-time-vs-velocity-dataset/space_app_not_continuous.csv')\n",
    "\n",
    "data"
   ]
  },
  {
   "cell_type": "code",
   "execution_count": 2,
   "id": "212784c9",
   "metadata": {
    "execution": {
     "iopub.execute_input": "2024-10-04T16:55:39.720308Z",
     "iopub.status.busy": "2024-10-04T16:55:39.719858Z",
     "iopub.status.idle": "2024-10-04T16:55:39.792335Z",
     "shell.execute_reply": "2024-10-04T16:55:39.791275Z"
    },
    "id": "9akB333XcFJ6",
    "outputId": "2e8630de-1369-4281-d87c-9634ed90ba97",
    "papermill": {
     "duration": 0.088518,
     "end_time": "2024-10-04T16:55:39.794735",
     "exception": false,
     "start_time": "2024-10-04T16:55:39.706217",
     "status": "completed"
    },
    "tags": []
   },
   "outputs": [
    {
     "data": {
      "text/plain": [
       "'cuda:0'"
      ]
     },
     "execution_count": 2,
     "metadata": {},
     "output_type": "execute_result"
    }
   ],
   "source": [
    "device = 'cuda:0' if torch.cuda.is_available() else 'cpu'\n",
    "device"
   ]
  },
  {
   "cell_type": "code",
   "execution_count": 3,
   "id": "b220afc7",
   "metadata": {
    "execution": {
     "iopub.execute_input": "2024-10-04T16:55:39.818937Z",
     "iopub.status.busy": "2024-10-04T16:55:39.818293Z",
     "iopub.status.idle": "2024-10-04T16:55:40.277692Z",
     "shell.execute_reply": "2024-10-04T16:55:40.276589Z"
    },
    "papermill": {
     "duration": 0.474349,
     "end_time": "2024-10-04T16:55:40.280479",
     "exception": false,
     "start_time": "2024-10-04T16:55:39.806130",
     "status": "completed"
    },
    "tags": []
   },
   "outputs": [
    {
     "data": {
      "text/html": [
       "<div>\n",
       "<style scoped>\n",
       "    .dataframe tbody tr th:only-of-type {\n",
       "        vertical-align: middle;\n",
       "    }\n",
       "\n",
       "    .dataframe tbody tr th {\n",
       "        vertical-align: top;\n",
       "    }\n",
       "\n",
       "    .dataframe thead th {\n",
       "        text-align: right;\n",
       "    }\n",
       "</style>\n",
       "<table border=\"1\" class=\"dataframe\">\n",
       "  <thead>\n",
       "    <tr style=\"text-align: right;\">\n",
       "      <th></th>\n",
       "      <th>p_wave_arrival</th>\n",
       "      <th>time</th>\n",
       "      <th>data</th>\n",
       "    </tr>\n",
       "  </thead>\n",
       "  <tbody>\n",
       "    <tr>\n",
       "      <th>0</th>\n",
       "      <td>300.0</td>\n",
       "      <td>0.00</td>\n",
       "      <td>0.011564</td>\n",
       "    </tr>\n",
       "    <tr>\n",
       "      <th>1</th>\n",
       "      <td>300.0</td>\n",
       "      <td>0.25</td>\n",
       "      <td>0.012698</td>\n",
       "    </tr>\n",
       "    <tr>\n",
       "      <th>2</th>\n",
       "      <td>300.0</td>\n",
       "      <td>0.50</td>\n",
       "      <td>0.012159</td>\n",
       "    </tr>\n",
       "    <tr>\n",
       "      <th>3</th>\n",
       "      <td>300.0</td>\n",
       "      <td>0.75</td>\n",
       "      <td>0.013744</td>\n",
       "    </tr>\n",
       "    <tr>\n",
       "      <th>4</th>\n",
       "      <td>300.0</td>\n",
       "      <td>1.00</td>\n",
       "      <td>0.013187</td>\n",
       "    </tr>\n",
       "    <tr>\n",
       "      <th>...</th>\n",
       "      <td>...</td>\n",
       "      <td>...</td>\n",
       "      <td>...</td>\n",
       "    </tr>\n",
       "    <tr>\n",
       "      <th>59698396</th>\n",
       "      <td>0.0</td>\n",
       "      <td>14924599.00</td>\n",
       "      <td>0.005810</td>\n",
       "    </tr>\n",
       "    <tr>\n",
       "      <th>59698397</th>\n",
       "      <td>0.0</td>\n",
       "      <td>14924599.25</td>\n",
       "      <td>0.009254</td>\n",
       "    </tr>\n",
       "    <tr>\n",
       "      <th>59698398</th>\n",
       "      <td>0.0</td>\n",
       "      <td>14924599.50</td>\n",
       "      <td>0.005633</td>\n",
       "    </tr>\n",
       "    <tr>\n",
       "      <th>59698399</th>\n",
       "      <td>0.0</td>\n",
       "      <td>14924599.75</td>\n",
       "      <td>0.008816</td>\n",
       "    </tr>\n",
       "    <tr>\n",
       "      <th>59698400</th>\n",
       "      <td>0.0</td>\n",
       "      <td>14924600.00</td>\n",
       "      <td>0.005421</td>\n",
       "    </tr>\n",
       "  </tbody>\n",
       "</table>\n",
       "<p>59698401 rows × 3 columns</p>\n",
       "</div>"
      ],
      "text/plain": [
       "          p_wave_arrival         time      data\n",
       "0                  300.0         0.00  0.011564\n",
       "1                  300.0         0.25  0.012698\n",
       "2                  300.0         0.50  0.012159\n",
       "3                  300.0         0.75  0.013744\n",
       "4                  300.0         1.00  0.013187\n",
       "...                  ...          ...       ...\n",
       "59698396             0.0  14924599.00  0.005810\n",
       "59698397             0.0  14924599.25  0.009254\n",
       "59698398             0.0  14924599.50  0.005633\n",
       "59698399             0.0  14924599.75  0.008816\n",
       "59698400             0.0  14924600.00  0.005421\n",
       "\n",
       "[59698401 rows x 3 columns]"
      ]
     },
     "execution_count": 3,
     "metadata": {},
     "output_type": "execute_result"
    }
   ],
   "source": [
    "data = data[['p_wave_arrival','time','data']]\n",
    "data"
   ]
  },
  {
   "cell_type": "code",
   "execution_count": 4,
   "id": "a0137289",
   "metadata": {
    "execution": {
     "iopub.execute_input": "2024-10-04T16:55:40.305502Z",
     "iopub.status.busy": "2024-10-04T16:55:40.305086Z",
     "iopub.status.idle": "2024-10-04T16:55:40.311380Z",
     "shell.execute_reply": "2024-10-04T16:55:40.310484Z"
    },
    "papermill": {
     "duration": 0.020959,
     "end_time": "2024-10-04T16:55:40.313630",
     "exception": false,
     "start_time": "2024-10-04T16:55:40.292671",
     "status": "completed"
    },
    "tags": []
   },
   "outputs": [
    {
     "data": {
      "text/plain": [
       "11939680"
      ]
     },
     "execution_count": 4,
     "metadata": {},
     "output_type": "execute_result"
    }
   ],
   "source": [
    "idx = int(59698401/5)\n",
    "idx"
   ]
  },
  {
   "cell_type": "code",
   "execution_count": 5,
   "id": "6eee3442",
   "metadata": {
    "execution": {
     "iopub.execute_input": "2024-10-04T16:55:40.337781Z",
     "iopub.status.busy": "2024-10-04T16:55:40.337439Z",
     "iopub.status.idle": "2024-10-04T16:55:40.342491Z",
     "shell.execute_reply": "2024-10-04T16:55:40.341476Z"
    },
    "papermill": {
     "duration": 0.019632,
     "end_time": "2024-10-04T16:55:40.344692",
     "exception": false,
     "start_time": "2024-10-04T16:55:40.325060",
     "status": "completed"
    },
    "tags": []
   },
   "outputs": [],
   "source": [
    "shifted_df = data[:idx]"
   ]
  },
  {
   "cell_type": "code",
   "execution_count": 6,
   "id": "f0c2a6b6",
   "metadata": {
    "execution": {
     "iopub.execute_input": "2024-10-04T16:55:40.369841Z",
     "iopub.status.busy": "2024-10-04T16:55:40.369000Z",
     "iopub.status.idle": "2024-10-04T16:55:40.384244Z",
     "shell.execute_reply": "2024-10-04T16:55:40.383195Z"
    },
    "papermill": {
     "duration": 0.029883,
     "end_time": "2024-10-04T16:55:40.386748",
     "exception": false,
     "start_time": "2024-10-04T16:55:40.356865",
     "status": "completed"
    },
    "tags": []
   },
   "outputs": [
    {
     "data": {
      "text/html": [
       "<div>\n",
       "<style scoped>\n",
       "    .dataframe tbody tr th:only-of-type {\n",
       "        vertical-align: middle;\n",
       "    }\n",
       "\n",
       "    .dataframe tbody tr th {\n",
       "        vertical-align: top;\n",
       "    }\n",
       "\n",
       "    .dataframe thead th {\n",
       "        text-align: right;\n",
       "    }\n",
       "</style>\n",
       "<table border=\"1\" class=\"dataframe\">\n",
       "  <thead>\n",
       "    <tr style=\"text-align: right;\">\n",
       "      <th></th>\n",
       "      <th>p_wave_arrival</th>\n",
       "      <th>time</th>\n",
       "      <th>data</th>\n",
       "    </tr>\n",
       "  </thead>\n",
       "  <tbody>\n",
       "    <tr>\n",
       "      <th>11879680</th>\n",
       "      <td>2971066.75</td>\n",
       "      <td>2969920.00</td>\n",
       "      <td>0.418395</td>\n",
       "    </tr>\n",
       "    <tr>\n",
       "      <th>11879681</th>\n",
       "      <td>2971066.75</td>\n",
       "      <td>2969920.25</td>\n",
       "      <td>0.421770</td>\n",
       "    </tr>\n",
       "    <tr>\n",
       "      <th>11879682</th>\n",
       "      <td>2971066.75</td>\n",
       "      <td>2969920.50</td>\n",
       "      <td>0.420537</td>\n",
       "    </tr>\n",
       "    <tr>\n",
       "      <th>11879683</th>\n",
       "      <td>2971066.75</td>\n",
       "      <td>2969920.75</td>\n",
       "      <td>0.423720</td>\n",
       "    </tr>\n",
       "    <tr>\n",
       "      <th>11879684</th>\n",
       "      <td>2971066.75</td>\n",
       "      <td>2969921.00</td>\n",
       "      <td>0.422458</td>\n",
       "    </tr>\n",
       "    <tr>\n",
       "      <th>...</th>\n",
       "      <td>...</td>\n",
       "      <td>...</td>\n",
       "      <td>...</td>\n",
       "    </tr>\n",
       "    <tr>\n",
       "      <th>11939675</th>\n",
       "      <td>2985266.75</td>\n",
       "      <td>2984918.75</td>\n",
       "      <td>-0.060091</td>\n",
       "    </tr>\n",
       "    <tr>\n",
       "      <th>11939676</th>\n",
       "      <td>2985266.75</td>\n",
       "      <td>2984919.00</td>\n",
       "      <td>-0.059706</td>\n",
       "    </tr>\n",
       "    <tr>\n",
       "      <th>11939677</th>\n",
       "      <td>2985266.75</td>\n",
       "      <td>2984919.25</td>\n",
       "      <td>-0.060011</td>\n",
       "    </tr>\n",
       "    <tr>\n",
       "      <th>11939678</th>\n",
       "      <td>2985266.75</td>\n",
       "      <td>2984919.50</td>\n",
       "      <td>-0.059657</td>\n",
       "    </tr>\n",
       "    <tr>\n",
       "      <th>11939679</th>\n",
       "      <td>2985266.75</td>\n",
       "      <td>2984919.75</td>\n",
       "      <td>-0.060080</td>\n",
       "    </tr>\n",
       "  </tbody>\n",
       "</table>\n",
       "<p>60000 rows × 3 columns</p>\n",
       "</div>"
      ],
      "text/plain": [
       "          p_wave_arrival        time      data\n",
       "11879680      2971066.75  2969920.00  0.418395\n",
       "11879681      2971066.75  2969920.25  0.421770\n",
       "11879682      2971066.75  2969920.50  0.420537\n",
       "11879683      2971066.75  2969920.75  0.423720\n",
       "11879684      2971066.75  2969921.00  0.422458\n",
       "...                  ...         ...       ...\n",
       "11939675      2985266.75  2984918.75 -0.060091\n",
       "11939676      2985266.75  2984919.00 -0.059706\n",
       "11939677      2985266.75  2984919.25 -0.060011\n",
       "11939678      2985266.75  2984919.50 -0.059657\n",
       "11939679      2985266.75  2984919.75 -0.060080\n",
       "\n",
       "[60000 rows x 3 columns]"
      ]
     },
     "execution_count": 6,
     "metadata": {},
     "output_type": "execute_result"
    }
   ],
   "source": [
    "shifted_df[-60000:]"
   ]
  },
  {
   "cell_type": "code",
   "execution_count": 7,
   "id": "ae26add7",
   "metadata": {
    "execution": {
     "iopub.execute_input": "2024-10-04T16:55:40.412808Z",
     "iopub.status.busy": "2024-10-04T16:55:40.412455Z",
     "iopub.status.idle": "2024-10-04T16:55:40.763048Z",
     "shell.execute_reply": "2024-10-04T16:55:40.762112Z"
    },
    "papermill": {
     "duration": 0.365715,
     "end_time": "2024-10-04T16:55:40.765365",
     "exception": false,
     "start_time": "2024-10-04T16:55:40.399650",
     "status": "completed"
    },
    "tags": []
   },
   "outputs": [
    {
     "data": {
      "text/plain": [
       "[<matplotlib.lines.Line2D at 0x7b6290a3c9d0>]"
      ]
     },
     "execution_count": 7,
     "metadata": {},
     "output_type": "execute_result"
    },
    {
     "data": {
      "image/png": "[encoded data removed]",
      "text/plain": [
       "<Figure size 640x480 with 1 Axes>"
      ]
     },
     "metadata": {},
     "output_type": "display_data"
    }
   ],
   "source": [
    "import matplotlib.pyplot as plt\n",
    "plt.plot(shifted_df[-90000:].time,shifted_df[-90000:].data)"
   ]
  },
  {
   "cell_type": "code",
   "execution_count": 8,
   "id": "0f3750a8",
   "metadata": {
    "execution": {
     "iopub.execute_input": "2024-10-04T16:55:40.791402Z",
     "iopub.status.busy": "2024-10-04T16:55:40.790606Z",
     "iopub.status.idle": "2024-10-04T16:55:40.797810Z",
     "shell.execute_reply": "2024-10-04T16:55:40.796866Z"
    },
    "id": "yWcD1tHjfAU-",
    "outputId": "e10f8cdf-7b44-4c1a-d0a2-9007aac1685c",
    "papermill": {
     "duration": 0.022585,
     "end_time": "2024-10-04T16:55:40.800035",
     "exception": false,
     "start_time": "2024-10-04T16:55:40.777450",
     "status": "completed"
    },
    "tags": []
   },
   "outputs": [
    {
     "data": {
      "text/plain": [
       "array([[ 3.00000000e+02,  0.00000000e+00,  1.15641236e-02],\n",
       "       [ 3.00000000e+02,  2.50000000e-01,  1.26982391e-02],\n",
       "       [ 3.00000000e+02,  5.00000000e-01,  1.21591066e-02],\n",
       "       ...,\n",
       "       [ 2.98526675e+06,  2.98491925e+06, -6.00114964e-02],\n",
       "       [ 2.98526675e+06,  2.98491950e+06, -5.96572625e-02],\n",
       "       [ 2.98526675e+06,  2.98491975e+06, -6.00802073e-02]])"
      ]
     },
     "execution_count": 8,
     "metadata": {},
     "output_type": "execute_result"
    }
   ],
   "source": [
    "shifted_df_as_np = shifted_df.to_numpy()\n",
    "\n",
    "shifted_df_as_np"
   ]
  },
  {
   "cell_type": "code",
   "execution_count": 9,
   "id": "6a6c77d4",
   "metadata": {
    "execution": {
     "iopub.execute_input": "2024-10-04T16:55:40.827251Z",
     "iopub.status.busy": "2024-10-04T16:55:40.826643Z",
     "iopub.status.idle": "2024-10-04T16:55:40.832826Z",
     "shell.execute_reply": "2024-10-04T16:55:40.831878Z"
    },
    "id": "Pq2p3opGELA_",
    "outputId": "5cb2ff07-5d8f-4117-eafd-6a3c5663c6ff",
    "papermill": {
     "duration": 0.022015,
     "end_time": "2024-10-04T16:55:40.835016",
     "exception": false,
     "start_time": "2024-10-04T16:55:40.813001",
     "status": "completed"
    },
    "tags": []
   },
   "outputs": [
    {
     "data": {
      "text/plain": [
       "(11939680, 3)"
      ]
     },
     "execution_count": 9,
     "metadata": {},
     "output_type": "execute_result"
    }
   ],
   "source": [
    "shifted_df_as_np.shape"
   ]
  },
  {
   "cell_type": "code",
   "execution_count": 10,
   "id": "f1a907e0",
   "metadata": {
    "execution": {
     "iopub.execute_input": "2024-10-04T16:55:40.860541Z",
     "iopub.status.busy": "2024-10-04T16:55:40.860135Z",
     "iopub.status.idle": "2024-10-04T16:55:40.864332Z",
     "shell.execute_reply": "2024-10-04T16:55:40.863454Z"
    },
    "id": "pXHkuFeafNUU",
    "outputId": "a67d1f79-d279-4c96-e40f-0d9a5f9f7d7d",
    "papermill": {
     "duration": 0.019474,
     "end_time": "2024-10-04T16:55:40.866445",
     "exception": false,
     "start_time": "2024-10-04T16:55:40.846971",
     "status": "completed"
    },
    "tags": []
   },
   "outputs": [],
   "source": [
    "# from sklearn.preprocessing import MinMaxScaler\n",
    "\n",
    "# scaler = MinMaxScaler(feature_range=(-1, 1))\n",
    "# shifted_df_as_np = scaler.fit_transform(shifted_df_as_np)\n",
    "\n",
    "# shifted_df_as_np"
   ]
  },
  {
   "cell_type": "code",
   "execution_count": 11,
   "id": "4d1b10a2",
   "metadata": {
    "execution": {
     "iopub.execute_input": "2024-10-04T16:55:40.891732Z",
     "iopub.status.busy": "2024-10-04T16:55:40.891397Z",
     "iopub.status.idle": "2024-10-04T16:55:40.898047Z",
     "shell.execute_reply": "2024-10-04T16:55:40.897087Z"
    },
    "id": "Iui9unuTfxOe",
    "outputId": "642f093d-5071-43ef-fb9c-4c54061aec3e",
    "papermill": {
     "duration": 0.021681,
     "end_time": "2024-10-04T16:55:40.900197",
     "exception": false,
     "start_time": "2024-10-04T16:55:40.878516",
     "status": "completed"
    },
    "tags": []
   },
   "outputs": [
    {
     "data": {
      "text/plain": [
       "((11939680, 2), (11939680,))"
      ]
     },
     "execution_count": 11,
     "metadata": {},
     "output_type": "execute_result"
    }
   ],
   "source": [
    "X = shifted_df_as_np[:, 1:]\n",
    "y = shifted_df_as_np[:, 0]\n",
    "\n",
    "X.shape, y.shape"
   ]
  },
  {
   "cell_type": "code",
   "execution_count": 12,
   "id": "69651b0b",
   "metadata": {
    "execution": {
     "iopub.execute_input": "2024-10-04T16:55:40.927026Z",
     "iopub.status.busy": "2024-10-04T16:55:40.926686Z",
     "iopub.status.idle": "2024-10-04T16:55:40.961025Z",
     "shell.execute_reply": "2024-10-04T16:55:40.960032Z"
    },
    "papermill": {
     "duration": 0.050431,
     "end_time": "2024-10-04T16:55:40.963384",
     "exception": false,
     "start_time": "2024-10-04T16:55:40.912953",
     "status": "completed"
    },
    "tags": []
   },
   "outputs": [
    {
     "data": {
      "text/plain": [
       "-0.0029941329537829693"
      ]
     },
     "execution_count": 12,
     "metadata": {},
     "output_type": "execute_result"
    }
   ],
   "source": [
    "shifted_df.data.mean()"
   ]
  },
  {
   "cell_type": "code",
   "execution_count": 13,
   "id": "f0086bf1",
   "metadata": {
    "execution": {
     "iopub.execute_input": "2024-10-04T16:55:40.989611Z",
     "iopub.status.busy": "2024-10-04T16:55:40.988780Z",
     "iopub.status.idle": "2024-10-04T17:04:41.429377Z",
     "shell.execute_reply": "2024-10-04T17:04:41.428225Z"
    },
    "papermill": {
     "duration": 540.456464,
     "end_time": "2024-10-04T17:04:41.432034",
     "exception": false,
     "start_time": "2024-10-04T16:55:40.975570",
     "status": "completed"
    },
    "tags": []
   },
   "outputs": [
    {
     "name": "stderr",
     "output_type": "stream",
     "text": [
      "100%|██████████| 11939680/11939680 [09:00<00:00, 22102.16it/s]\n"
     ]
    },
    {
     "data": {
      "text/plain": [
       "[array([[ 1.49245988e+06, -2.99413295e-03],\n",
       "        [ 1.49245988e+06, -2.99413295e-03],\n",
       "        [ 1.49245988e+06, -2.99413295e-03],\n",
       "        [ 1.49245988e+06, -2.99413295e-03],\n",
       "        [ 1.49245988e+06, -2.99413295e-03],\n",
       "        [ 0.00000000e+00,  1.15641236e-02],\n",
       "        [ 2.50000000e+00,  1.85285384e-02],\n",
       "        [ 5.00000000e+00,  2.97249802e-02],\n",
       "        [ 7.50000000e+00,  3.14332120e-02],\n",
       "        [ 1.00000000e+01,  1.98817498e-02],\n",
       "        [ 1.25000000e+01,  4.43481773e-03],\n",
       "        [ 1.50000000e+01, -4.50887217e-03],\n",
       "        [ 1.75000000e+01, -7.15322368e-03],\n",
       "        [ 2.00000000e+01, -9.70326338e-03],\n",
       "        [ 2.25000000e+01, -8.49193914e-03],\n",
       "        [ 2.50000000e+01,  3.33931677e-03],\n",
       "        [ 2.75000000e+01,  1.16137572e-03],\n",
       "        [ 3.00000000e+01, -9.81153763e-03],\n",
       "        [ 3.25000000e+01,  8.45319047e-04],\n",
       "        [ 3.50000000e+01,  1.63188193e-02],\n",
       "        [ 3.75000000e+01,  1.56519156e-02],\n",
       "        [ 4.00000000e+01,  3.19614891e-02],\n",
       "        [ 4.25000000e+01,  4.51826453e-02],\n",
       "        [ 4.50000000e+01,  5.15341367e-02],\n",
       "        [ 4.75000000e+01,  3.77765317e-02],\n",
       "        [ 5.00000000e+01,  1.83767007e-02]]),\n",
       " array([[ 1.49245988e+06, -2.99413295e-03],\n",
       "        [ 1.49245988e+06, -2.99413295e-03],\n",
       "        [ 1.49245988e+06, -2.99413295e-03],\n",
       "        [ 1.49245988e+06, -2.99413295e-03],\n",
       "        [ 1.49245988e+06, -2.99413295e-03],\n",
       "        [ 2.50000000e-01,  1.26982391e-02],\n",
       "        [ 2.75000000e+00,  2.13667941e-02],\n",
       "        [ 5.25000000e+00,  3.22608942e-02],\n",
       "        [ 7.75000000e+00,  3.22882162e-02],\n",
       "        [ 1.02500000e+01,  1.94240636e-02],\n",
       "        [ 1.27500000e+01,  3.83202639e-03],\n",
       "        [ 1.52500000e+01, -4.37104663e-03],\n",
       "        [ 1.77500000e+01, -7.61025310e-03],\n",
       "        [ 2.02500000e+01, -1.01904855e-02],\n",
       "        [ 2.27500000e+01, -8.22878227e-03],\n",
       "        [ 2.52500000e+01,  3.57997793e-03],\n",
       "        [ 2.77500000e+01,  8.66185046e-04],\n",
       "        [ 3.02500000e+01, -8.48984470e-03],\n",
       "        [ 3.27500000e+01,  5.15847491e-03],\n",
       "        [ 3.52500000e+01,  1.88477045e-02],\n",
       "        [ 3.77500000e+01,  1.88382500e-02],\n",
       "        [ 4.02500000e+01,  3.44594698e-02],\n",
       "        [ 4.27500000e+01,  4.66568878e-02],\n",
       "        [ 4.52500000e+01,  5.01042052e-02],\n",
       "        [ 4.77500000e+01,  3.43665816e-02],\n",
       "        [ 5.02500000e+01,  1.49534122e-02]])]"
      ]
     },
     "execution_count": 13,
     "metadata": {},
     "output_type": "execute_result"
    }
   ],
   "source": [
    "prev = 5\n",
    "nxt = 20\n",
    "mul = 10\n",
    "ln = len(X)\n",
    "ls = []\n",
    "for i in tqdm(range(len(X))):\n",
    "    tem = []\n",
    "    for j in range(1,prev+1):\n",
    "        vl = i-mul*j\n",
    "        if(vl>-1):\n",
    "            tem.append(X[vl])\n",
    "        else:\n",
    "            tem.append([shifted_df.time.mean(),shifted_df.data.mean()])\n",
    "    tem = tem[::-1]\n",
    "    tem.append(X[i])\n",
    "    for j in range(1,nxt+1):\n",
    "        vl = i+mul*j\n",
    "        if(vl<ln):\n",
    "            tem.append(X[vl])\n",
    "        else:\n",
    "            tem.append([shifted_df.time.mean(),shifted_df.data.mean()])\n",
    "    ls.append(np.array(tem))\n",
    "ls[:2]"
   ]
  },
  {
   "cell_type": "code",
   "execution_count": 14,
   "id": "1f2fe001",
   "metadata": {
    "execution": {
     "iopub.execute_input": "2024-10-04T17:04:42.216927Z",
     "iopub.status.busy": "2024-10-04T17:04:42.216500Z",
     "iopub.status.idle": "2024-10-04T17:04:51.701455Z",
     "shell.execute_reply": "2024-10-04T17:04:51.700346Z"
    },
    "id": "XmbIqwj-E0cv",
    "outputId": "48ccc3a1-1b5c-49fd-ae2f-3f8b143fbb4c",
    "papermill": {
     "duration": 9.862615,
     "end_time": "2024-10-04T17:04:51.703736",
     "exception": false,
     "start_time": "2024-10-04T17:04:41.841121",
     "status": "completed"
    },
    "tags": []
   },
   "outputs": [
    {
     "data": {
      "text/plain": [
       "array([300., 300., 300., 300., 300., 300., 300., 300., 300., 300.])"
      ]
     },
     "execution_count": 14,
     "metadata": {},
     "output_type": "execute_result"
    }
   ],
   "source": [
    "from copy import deepcopy as dc\n",
    "# X = dc(np.flip(X, axis=1))\n",
    "X = np.array(ls)\n",
    "y[:10]"
   ]
  },
  {
   "cell_type": "code",
   "execution_count": 15,
   "id": "5bbdf7aa",
   "metadata": {
    "execution": {
     "iopub.execute_input": "2024-10-04T17:04:52.576448Z",
     "iopub.status.busy": "2024-10-04T17:04:52.575881Z",
     "iopub.status.idle": "2024-10-04T17:04:52.582746Z",
     "shell.execute_reply": "2024-10-04T17:04:52.581798Z"
    },
    "id": "GCHslawXgE21",
    "outputId": "a2e50719-a1fb-460e-9ce4-9dd873642765",
    "papermill": {
     "duration": 0.427603,
     "end_time": "2024-10-04T17:04:52.585190",
     "exception": false,
     "start_time": "2024-10-04T17:04:52.157587",
     "status": "completed"
    },
    "tags": []
   },
   "outputs": [
    {
     "data": {
      "text/plain": [
       "11342696"
      ]
     },
     "execution_count": 15,
     "metadata": {},
     "output_type": "execute_result"
    }
   ],
   "source": [
    "split_index = int(len(X) * 0.95)\n",
    "\n",
    "split_index"
   ]
  },
  {
   "cell_type": "code",
   "execution_count": 16,
   "id": "bdec568c",
   "metadata": {
    "execution": {
     "iopub.execute_input": "2024-10-04T17:04:53.371010Z",
     "iopub.status.busy": "2024-10-04T17:04:53.370055Z",
     "iopub.status.idle": "2024-10-04T17:04:53.378584Z",
     "shell.execute_reply": "2024-10-04T17:04:53.377368Z"
    },
    "id": "hhGMh_nAgiST",
    "outputId": "aeb231ef-e124-4821-f4ee-dbb2275c0f98",
    "papermill": {
     "duration": 0.401781,
     "end_time": "2024-10-04T17:04:53.380783",
     "exception": false,
     "start_time": "2024-10-04T17:04:52.979002",
     "status": "completed"
    },
    "tags": []
   },
   "outputs": [
    {
     "data": {
      "text/plain": [
       "((11342696, 26, 2), (596984, 26, 2), (11342696,), (596984,))"
      ]
     },
     "execution_count": 16,
     "metadata": {},
     "output_type": "execute_result"
    }
   ],
   "source": [
    "X_train = X[:split_index]\n",
    "X_test = X[split_index:]\n",
    "\n",
    "y_train = y[:split_index]\n",
    "y_test = y[split_index:]\n",
    "\n",
    "X_train.shape, X_test.shape, y_train.shape, y_test.shape"
   ]
  },
  {
   "cell_type": "code",
   "execution_count": 17,
   "id": "561e08f7",
   "metadata": {
    "execution": {
     "iopub.execute_input": "2024-10-04T17:04:54.219317Z",
     "iopub.status.busy": "2024-10-04T17:04:54.218861Z",
     "iopub.status.idle": "2024-10-04T17:04:54.227167Z",
     "shell.execute_reply": "2024-10-04T17:04:54.226167Z"
    },
    "id": "Muqs9hKYhMUS",
    "outputId": "d35136a0-5855-4bfb-b66b-b8f7a1a8ea96",
    "papermill": {
     "duration": 0.451742,
     "end_time": "2024-10-04T17:04:54.229540",
     "exception": false,
     "start_time": "2024-10-04T17:04:53.777798",
     "status": "completed"
    },
    "tags": []
   },
   "outputs": [
    {
     "data": {
      "text/plain": [
       "((11342696, 26, 2), (596984, 26, 2), (11342696, 1), (596984, 1))"
      ]
     },
     "execution_count": 17,
     "metadata": {},
     "output_type": "execute_result"
    }
   ],
   "source": [
    "# lookback=2\n",
    "# X_train = X_train.reshape((-1, lookback, 1))\n",
    "# X_test = X_test.reshape((-1, lookback, 1))\n",
    "\n",
    "y_train = y_train.reshape((-1, 1))\n",
    "y_test = y_test.reshape((-1, 1))\n",
    "\n",
    "X_train.shape, X_test.shape, y_train.shape, y_test.shape"
   ]
  },
  {
   "cell_type": "code",
   "execution_count": 18,
   "id": "84186fa2",
   "metadata": {
    "execution": {
     "iopub.execute_input": "2024-10-04T17:04:55.014882Z",
     "iopub.status.busy": "2024-10-04T17:04:55.014494Z",
     "iopub.status.idle": "2024-10-04T17:04:58.583214Z",
     "shell.execute_reply": "2024-10-04T17:04:58.581871Z"
    },
    "id": "i7-PBcrMhR7z",
    "outputId": "b01a297a-75d6-4573-e450-a3545360112e",
    "papermill": {
     "duration": 3.958114,
     "end_time": "2024-10-04T17:04:58.586449",
     "exception": false,
     "start_time": "2024-10-04T17:04:54.628335",
     "status": "completed"
    },
    "tags": []
   },
   "outputs": [
    {
     "data": {
      "text/plain": [
       "(torch.Size([11342696, 26, 2]),\n",
       " torch.Size([596984, 26, 2]),\n",
       " torch.Size([11342696, 1]),\n",
       " torch.Size([596984, 1]))"
      ]
     },
     "execution_count": 18,
     "metadata": {},
     "output_type": "execute_result"
    }
   ],
   "source": [
    "X_train = torch.tensor(X_train).float()\n",
    "y_train = torch.tensor(y_train).float()\n",
    "X_test = torch.tensor(X_test).float()\n",
    "y_test = torch.tensor(y_test).float()\n",
    "\n",
    "X_train.shape, X_test.shape, y_train.shape, y_test.shape"
   ]
  },
  {
   "cell_type": "code",
   "execution_count": 19,
   "id": "3d631587",
   "metadata": {
    "execution": {
     "iopub.execute_input": "2024-10-04T17:04:59.381136Z",
     "iopub.status.busy": "2024-10-04T17:04:59.380704Z",
     "iopub.status.idle": "2024-10-04T17:04:59.387618Z",
     "shell.execute_reply": "2024-10-04T17:04:59.386520Z"
    },
    "id": "DWutCAGKhdqU",
    "papermill": {
     "duration": 0.402691,
     "end_time": "2024-10-04T17:04:59.389883",
     "exception": false,
     "start_time": "2024-10-04T17:04:58.987192",
     "status": "completed"
    },
    "tags": []
   },
   "outputs": [],
   "source": [
    "from torch.utils.data import Dataset\n",
    "\n",
    "class TimeSeriesDataset(Dataset):\n",
    "    def __init__(self, X, y):\n",
    "        self.X = X\n",
    "        self.y = y\n",
    "\n",
    "    def __len__(self):\n",
    "        return len(self.X)\n",
    "\n",
    "    def __getitem__(self, i):\n",
    "        return self.X[i], self.y[i]\n",
    "\n",
    "train_dataset = TimeSeriesDataset(X_train, y_train)\n",
    "test_dataset = TimeSeriesDataset(X_test, y_test)"
   ]
  },
  {
   "cell_type": "code",
   "execution_count": 20,
   "id": "eb5ddb74",
   "metadata": {
    "execution": {
     "iopub.execute_input": "2024-10-04T17:05:00.164897Z",
     "iopub.status.busy": "2024-10-04T17:05:00.164488Z",
     "iopub.status.idle": "2024-10-04T17:05:00.171115Z",
     "shell.execute_reply": "2024-10-04T17:05:00.170069Z"
    },
    "id": "12OWUTa5ijoq",
    "outputId": "0928d3c2-d181-4035-cc57-a2ac6ce38075",
    "papermill": {
     "duration": 0.394462,
     "end_time": "2024-10-04T17:05:00.173551",
     "exception": false,
     "start_time": "2024-10-04T17:04:59.779089",
     "status": "completed"
    },
    "tags": []
   },
   "outputs": [
    {
     "data": {
      "text/plain": [
       "<__main__.TimeSeriesDataset at 0x7b6290aafdf0>"
      ]
     },
     "execution_count": 20,
     "metadata": {},
     "output_type": "execute_result"
    }
   ],
   "source": [
    "train_dataset"
   ]
  },
  {
   "cell_type": "code",
   "execution_count": 21,
   "id": "a24e427f",
   "metadata": {
    "execution": {
     "iopub.execute_input": "2024-10-04T17:05:01.017334Z",
     "iopub.status.busy": "2024-10-04T17:05:01.016597Z",
     "iopub.status.idle": "2024-10-04T17:05:01.022733Z",
     "shell.execute_reply": "2024-10-04T17:05:01.021676Z"
    },
    "id": "XYsUmPl3ik46",
    "papermill": {
     "duration": 0.456658,
     "end_time": "2024-10-04T17:05:01.024916",
     "exception": false,
     "start_time": "2024-10-04T17:05:00.568258",
     "status": "completed"
    },
    "tags": []
   },
   "outputs": [],
   "source": [
    "from torch.utils.data import DataLoader\n",
    "\n",
    "batch_size = 128\n",
    "\n",
    "train_loader = DataLoader(train_dataset, batch_size=batch_size, shuffle=True)\n",
    "test_loader = DataLoader(test_dataset, batch_size=batch_size, shuffle=False)"
   ]
  },
  {
   "cell_type": "code",
   "execution_count": 22,
   "id": "6cfa6c54",
   "metadata": {
    "execution": {
     "iopub.execute_input": "2024-10-04T17:05:01.819758Z",
     "iopub.status.busy": "2024-10-04T17:05:01.818788Z",
     "iopub.status.idle": "2024-10-04T17:05:03.705108Z",
     "shell.execute_reply": "2024-10-04T17:05:03.704047Z"
    },
    "id": "TJTnbgBDjOSK",
    "outputId": "51226616-d4de-4a22-f4d9-576fd3e8bfba",
    "papermill": {
     "duration": 2.28464,
     "end_time": "2024-10-04T17:05:03.707552",
     "exception": false,
     "start_time": "2024-10-04T17:05:01.422912",
     "status": "completed"
    },
    "tags": []
   },
   "outputs": [
    {
     "name": "stdout",
     "output_type": "stream",
     "text": [
      "torch.Size([128, 26, 2]) torch.Size([128, 1])\n"
     ]
    }
   ],
   "source": [
    "for _, batch in enumerate(train_loader):\n",
    "    x_batch, y_batch = batch[0].to(device), batch[1].to(device)\n",
    "    print(x_batch.shape, y_batch.shape)\n",
    "    break"
   ]
  },
  {
   "cell_type": "code",
   "execution_count": 23,
   "id": "941e9860",
   "metadata": {
    "execution": {
     "iopub.execute_input": "2024-10-04T17:05:04.496513Z",
     "iopub.status.busy": "2024-10-04T17:05:04.495422Z",
     "iopub.status.idle": "2024-10-04T17:05:05.205217Z",
     "shell.execute_reply": "2024-10-04T17:05:05.203931Z"
    },
    "papermill": {
     "duration": 1.109034,
     "end_time": "2024-10-04T17:05:05.207607",
     "exception": false,
     "start_time": "2024-10-04T17:05:04.098573",
     "status": "completed"
    },
    "tags": []
   },
   "outputs": [
    {
     "name": "stdout",
     "output_type": "stream",
     "text": [
      "torch.Size([128, 1])\n"
     ]
    }
   ],
   "source": [
    "import torch\n",
    "import torch.nn as nn\n",
    "\n",
    "class FullyConnectedNNWithCNN(nn.Module):\n",
    "    def __init__(self, timesteps):\n",
    "        super(FullyConnectedNNWithCNN, self).__init__()\n",
    "        \n",
    "        \n",
    "        self.timesteps = timesteps\n",
    "        # Dropout layer with 0.1 probability\n",
    "        self.dropout = nn.Dropout(p=0.1)\n",
    "        \n",
    "        # Define the fully connected layers\n",
    "        self.fc1 = nn.Linear(self.timesteps * 2, 256)  # Flatten input: timesteps * 2 features\n",
    "        self.fc2 = nn.Linear(256, 512 * self.timesteps)  # Ensure output has the correct size for reshaping\n",
    "        \n",
    "        # 1D Convolutional Layers\n",
    "        self.conv1d_1 = nn.Conv1d(in_channels=512, out_channels=256, kernel_size=3, padding=1)  # Kernel size 3\n",
    "        self.conv1d_2 = nn.Conv1d(in_channels=256, out_channels=128, kernel_size=5, padding=2)  # Kernel size 5\n",
    "        \n",
    "        # Fully connected layers after convolutions\n",
    "        self.fc3 = nn.Linear(128 * self.timesteps, 256)  # After Conv1d, we flatten it again\n",
    "        self.fc4 = nn.Linear(256, 64)\n",
    "        self.fc5 = nn.Linear(64, 8)\n",
    "        self.fc6 = nn.Linear(8, 1)  # Output layer for regression\n",
    "        \n",
    "        # Activation function\n",
    "        self.relu = nn.ReLU()\n",
    "\n",
    "    def forward(self, x):\n",
    "        # Flatten the input from (batch_size, timesteps, 2) to (batch_size, timesteps * 2)\n",
    "        x = x.view(x.size(0), -1)\n",
    "        \n",
    "        # Pass through the first two fully connected layers with ReLU activations\n",
    "        x = self.relu(self.fc1(x))  # Input -> 256 neurons\n",
    "        \n",
    "        x = self.relu(self.fc2(x))  # 256 -> 512 * timesteps neurons\n",
    "        \n",
    "        \n",
    "        # Reshape for 1D convolution: (batch_size, 512, timesteps)\n",
    "        x = x.view(x.size(0), 512, self.timesteps)\n",
    "        \n",
    "        # Pass through the first Conv1d layer\n",
    "        x = self.relu(self.conv1d_1(x))  # (batch_size, 512, timesteps) -> (batch_size, 256, timesteps)\n",
    "        \n",
    "        \n",
    "        # Pass through the second Conv1d layer\n",
    "        x = self.relu(self.conv1d_2(x))  # (batch_size, 256, timesteps) -> (batch_size, 128, timesteps)\n",
    "        \n",
    "        \n",
    "        # Flatten again after Conv1d to pass to fully connected layers\n",
    "        x = x.view(x.size(0), -1)  # (batch_size, 128 * timesteps)\n",
    "        \n",
    "        # Continue through the rest of the fully connected layers\n",
    "        x = self.relu(self.fc3(x))  # 128 * timesteps -> 256 neurons\n",
    "        \n",
    "        x = self.relu(self.fc4(x))  # 256 -> 64 neurons\n",
    "        \n",
    "        x = self.relu(self.fc5(x))  # 64 -> 8 neurons\n",
    "        \n",
    "        x = self.fc6(x)  # 8 -> 1 neuron (output layer, no activation for regression)\n",
    "        \n",
    "        return x\n",
    "\n",
    "\n",
    "# Example usage\n",
    "timesteps = 26\n",
    "device = torch.device(\"cuda\" if torch.cuda.is_available() else \"cpu\")\n",
    "model = FullyConnectedNNWithCNN(timesteps).to(device)\n",
    "\n",
    "# Input: Batch of 128 samples, each with 26 timesteps, 2 features\n",
    "input_data = torch.randn(128, 26, 2).to(device)\n",
    "output = model(input_data)\n",
    "print(output.size())  # Expected output size: [128, 1]"
   ]
  },
  {
   "cell_type": "code",
   "execution_count": 24,
   "id": "c55d6d8c",
   "metadata": {
    "execution": {
     "iopub.execute_input": "2024-10-04T17:05:06.049371Z",
     "iopub.status.busy": "2024-10-04T17:05:06.048951Z",
     "iopub.status.idle": "2024-10-04T17:05:06.055332Z",
     "shell.execute_reply": "2024-10-04T17:05:06.054318Z"
    },
    "papermill": {
     "duration": 0.401014,
     "end_time": "2024-10-04T17:05:06.057519",
     "exception": false,
     "start_time": "2024-10-04T17:05:05.656505",
     "status": "completed"
    },
    "tags": []
   },
   "outputs": [],
   "source": [
    "def save_checkpoint(checkpoint,filename):\n",
    "    print(f\"=> Saving checkpoint {filename}\")\n",
    "    print('')\n",
    "    torch.save(checkpoint,filename)\n",
    "    \n",
    "\n",
    "def load_model(checkpoint):\n",
    "    print(\"=> Loading checkpoint\")\n",
    "    print('')\n",
    "    model.load_state_dict(checkpoint['state_dict'])\n",
    "    optimizer.load_state_dict(checkpoint['optimizer'])"
   ]
  },
  {
   "cell_type": "code",
   "execution_count": 25,
   "id": "d2fc6cb9",
   "metadata": {
    "execution": {
     "iopub.execute_input": "2024-10-04T17:05:06.853539Z",
     "iopub.status.busy": "2024-10-04T17:05:06.853070Z",
     "iopub.status.idle": "2024-10-04T17:05:06.860280Z",
     "shell.execute_reply": "2024-10-04T17:05:06.859323Z"
    },
    "id": "iue5WvTxmVKB",
    "papermill": {
     "duration": 0.408338,
     "end_time": "2024-10-04T17:05:06.862499",
     "exception": false,
     "start_time": "2024-10-04T17:05:06.454161",
     "status": "completed"
    },
    "tags": []
   },
   "outputs": [],
   "source": [
    "def train_one_epoch():\n",
    "    model.train(True)\n",
    "    print(f'Epoch: {epoch + 1}')\n",
    "    running_loss = 0.0\n",
    "    for batch_index, batch in tqdm(enumerate(train_loader)):\n",
    "        x_batch, y_batch = batch[0].to(device), batch[1].to(device)\n",
    "\n",
    "        output = model(x_batch)\n",
    "        loss = loss_function(output, y_batch)\n",
    "        running_loss += loss.item()\n",
    "\n",
    "        optimizer.zero_grad()\n",
    "        loss.backward()\n",
    "        optimizer.step()\n",
    "\n",
    "    print(f'Loss : {running_loss/len(train_loader)}')\n",
    "    print()"
   ]
  },
  {
   "cell_type": "code",
   "execution_count": 26,
   "id": "7076578e",
   "metadata": {
    "execution": {
     "iopub.execute_input": "2024-10-04T17:05:07.696367Z",
     "iopub.status.busy": "2024-10-04T17:05:07.695653Z",
     "iopub.status.idle": "2024-10-04T17:05:07.703084Z",
     "shell.execute_reply": "2024-10-04T17:05:07.702032Z"
    },
    "id": "gRmNuV3cmy-t",
    "papermill": {
     "duration": 0.455148,
     "end_time": "2024-10-04T17:05:07.705586",
     "exception": false,
     "start_time": "2024-10-04T17:05:07.250438",
     "status": "completed"
    },
    "tags": []
   },
   "outputs": [],
   "source": [
    "def validate_one_epoch():\n",
    "    model.train(False)\n",
    "    running_loss = 0.0\n",
    "\n",
    "    for batch_index, batch in tqdm(enumerate(test_loader)):\n",
    "        x_batch, y_batch = batch[0].to(device), batch[1].to(device)\n",
    "\n",
    "        with torch.no_grad():\n",
    "            output = model(x_batch)\n",
    "            loss = loss_function(output, y_batch)\n",
    "            running_loss += loss.item()\n",
    "\n",
    "    avg_loss_across_batches = running_loss / len(test_loader)\n",
    "\n",
    "    print('Val Loss: {0:.3f}'.format(avg_loss_across_batches))\n",
    "    print('***************************************************')\n",
    "    print()"
   ]
  },
  {
   "cell_type": "code",
   "execution_count": 27,
   "id": "43e77182",
   "metadata": {
    "execution": {
     "iopub.execute_input": "2024-10-04T17:05:08.503338Z",
     "iopub.status.busy": "2024-10-04T17:05:08.502924Z",
     "iopub.status.idle": "2024-10-04T17:05:10.417104Z",
     "shell.execute_reply": "2024-10-04T17:05:10.416178Z"
    },
    "papermill": {
     "duration": 2.320076,
     "end_time": "2024-10-04T17:05:10.419728",
     "exception": false,
     "start_time": "2024-10-04T17:05:08.099652",
     "status": "completed"
    },
    "tags": []
   },
   "outputs": [],
   "source": [
    "learning_rate = 0.001\n",
    "num_epochs = 50\n",
    "loss_function = nn.MSELoss()\n",
    "optimizer = torch.optim.Adam(model.parameters(), lr=learning_rate)"
   ]
  },
  {
   "cell_type": "code",
   "execution_count": 28,
   "id": "ad639455",
   "metadata": {
    "execution": {
     "iopub.execute_input": "2024-10-04T17:05:11.214397Z",
     "iopub.status.busy": "2024-10-04T17:05:11.213787Z",
     "iopub.status.idle": "2024-10-04T17:05:11.861066Z",
     "shell.execute_reply": "2024-10-04T17:05:11.859955Z"
    },
    "papermill": {
     "duration": 1.0466,
     "end_time": "2024-10-04T17:05:11.863649",
     "exception": false,
     "start_time": "2024-10-04T17:05:10.817049",
     "status": "completed"
    },
    "tags": []
   },
   "outputs": [
    {
     "name": "stdout",
     "output_type": "stream",
     "text": [
      "Loading The Model form : /kaggle/input/2n-2c-4n-fold1-epoch10/checkpoint10\n"
     ]
    },
    {
     "name": "stderr",
     "output_type": "stream",
     "text": [
      "/tmp/ipykernel_23/1421676001.py:6: FutureWarning: You are using `torch.load` with `weights_only=False` (the current default value), which uses the default pickle module implicitly. It is possible to construct malicious pickle data which will execute arbitrary code during unpickling (See https://github.com/pytorch/pytorch/blob/main/SECURITY.md#untrusted-models for more details). In a future release, the default value for `weights_only` will be flipped to `True`. This limits the functions that could be executed during unpickling. Arbitrary objects will no longer be allowed to be loaded via this mode unless they are explicitly allowlisted by the user via `torch.serialization.add_safe_globals`. We recommend you start setting `weights_only=True` for any use case where you don't have full control of the loaded file. Please open an issue on GitHub for any issues related to this experimental feature.\n",
      "  checkpoint = torch.load(checkpointpath)\n"
     ]
    },
    {
     "name": "stdout",
     "output_type": "stream",
     "text": [
      "=> Loading checkpoint\n",
      "\n"
     ]
    }
   ],
   "source": [
    "load_model_from_prev = True\n",
    "checkpointpath = '/kaggle/input/2n-2c-4n-fold1-epoch10/checkpoint10'\n",
    "\n",
    "if(load_model_from_prev):\n",
    "    print(f'Loading The Model form : {checkpointpath}')\n",
    "    checkpoint = torch.load(checkpointpath)\n",
    "    load_model(checkpoint)"
   ]
  },
  {
   "cell_type": "code",
   "execution_count": 29,
   "id": "bbee3a50",
   "metadata": {
    "execution": {
     "iopub.execute_input": "2024-10-04T17:05:12.696120Z",
     "iopub.status.busy": "2024-10-04T17:05:12.695728Z",
     "iopub.status.idle": "2024-10-05T00:34:28.311785Z",
     "shell.execute_reply": "2024-10-05T00:34:28.310636Z"
    },
    "id": "1jgb1aJ3lxlQ",
    "outputId": "2a25db36-4872-44e4-feca-4d26bad49f96",
    "papermill": {
     "duration": 26956.041422,
     "end_time": "2024-10-05T00:34:28.313948",
     "exception": false,
     "start_time": "2024-10-04T17:05:12.272526",
     "status": "completed"
    },
    "tags": []
   },
   "outputs": [
    {
     "name": "stdout",
     "output_type": "stream",
     "text": [
      "Epoch: 1\n"
     ]
    },
    {
     "name": "stderr",
     "output_type": "stream",
     "text": [
      "88615it [08:52, 166.29it/s]\n"
     ]
    },
    {
     "name": "stdout",
     "output_type": "stream",
     "text": [
      "Loss : 27359703.95708966\n",
      "\n"
     ]
    },
    {
     "name": "stderr",
     "output_type": "stream",
     "text": [
      "4664it [00:10, 449.64it/s]\n"
     ]
    },
    {
     "name": "stdout",
     "output_type": "stream",
     "text": [
      "Val Loss: 259882635.763\n",
      "***************************************************\n",
      "\n",
      "Epoch: 2\n"
     ]
    },
    {
     "name": "stderr",
     "output_type": "stream",
     "text": [
      "88615it [08:54, 165.87it/s]\n"
     ]
    },
    {
     "name": "stdout",
     "output_type": "stream",
     "text": [
      "Loss : 53636062.313073404\n",
      "\n"
     ]
    },
    {
     "name": "stderr",
     "output_type": "stream",
     "text": [
      "4664it [00:10, 458.90it/s]\n"
     ]
    },
    {
     "name": "stdout",
     "output_type": "stream",
     "text": [
      "Val Loss: 347807448.684\n",
      "***************************************************\n",
      "\n",
      "Epoch: 3\n"
     ]
    },
    {
     "name": "stderr",
     "output_type": "stream",
     "text": [
      "88615it [08:53, 166.22it/s]\n"
     ]
    },
    {
     "name": "stdout",
     "output_type": "stream",
     "text": [
      "Loss : 47467904.41716414\n",
      "\n"
     ]
    },
    {
     "name": "stderr",
     "output_type": "stream",
     "text": [
      "4664it [00:10, 457.43it/s]\n"
     ]
    },
    {
     "name": "stdout",
     "output_type": "stream",
     "text": [
      "Val Loss: 349618063.945\n",
      "***************************************************\n",
      "\n",
      "Epoch: 4\n"
     ]
    },
    {
     "name": "stderr",
     "output_type": "stream",
     "text": [
      "88615it [08:50, 167.04it/s]\n"
     ]
    },
    {
     "name": "stdout",
     "output_type": "stream",
     "text": [
      "Loss : 17538762.414342944\n",
      "\n"
     ]
    },
    {
     "name": "stderr",
     "output_type": "stream",
     "text": [
      "4664it [00:10, 462.64it/s]\n"
     ]
    },
    {
     "name": "stdout",
     "output_type": "stream",
     "text": [
      "Val Loss: 245409268.919\n",
      "***************************************************\n",
      "\n",
      "Epoch: 5\n"
     ]
    },
    {
     "name": "stderr",
     "output_type": "stream",
     "text": [
      "88615it [08:49, 167.32it/s]\n"
     ]
    },
    {
     "name": "stdout",
     "output_type": "stream",
     "text": [
      "Loss : 28619266.931346275\n",
      "\n"
     ]
    },
    {
     "name": "stderr",
     "output_type": "stream",
     "text": [
      "4664it [00:10, 463.73it/s]\n"
     ]
    },
    {
     "name": "stdout",
     "output_type": "stream",
     "text": [
      "Val Loss: 250321755.093\n",
      "***************************************************\n",
      "\n",
      "=> Saving checkpoint checkpoint5\n",
      "\n",
      "Epoch: 6\n"
     ]
    },
    {
     "name": "stderr",
     "output_type": "stream",
     "text": [
      "88615it [08:47, 168.14it/s]\n"
     ]
    },
    {
     "name": "stdout",
     "output_type": "stream",
     "text": [
      "Loss : 20321131.341426395\n",
      "\n"
     ]
    },
    {
     "name": "stderr",
     "output_type": "stream",
     "text": [
      "4664it [00:10, 456.94it/s]\n"
     ]
    },
    {
     "name": "stdout",
     "output_type": "stream",
     "text": [
      "Val Loss: 272774376.338\n",
      "***************************************************\n",
      "\n",
      "Epoch: 7\n"
     ]
    },
    {
     "name": "stderr",
     "output_type": "stream",
     "text": [
      "88615it [08:45, 168.62it/s]\n"
     ]
    },
    {
     "name": "stdout",
     "output_type": "stream",
     "text": [
      "Loss : 31676891.241877787\n",
      "\n"
     ]
    },
    {
     "name": "stderr",
     "output_type": "stream",
     "text": [
      "4664it [00:09, 467.27it/s]\n"
     ]
    },
    {
     "name": "stdout",
     "output_type": "stream",
     "text": [
      "Val Loss: 280612340.829\n",
      "***************************************************\n",
      "\n",
      "Epoch: 8\n"
     ]
    },
    {
     "name": "stderr",
     "output_type": "stream",
     "text": [
      "88615it [08:47, 168.07it/s]\n"
     ]
    },
    {
     "name": "stdout",
     "output_type": "stream",
     "text": [
      "Loss : 46939589.669931725\n",
      "\n"
     ]
    },
    {
     "name": "stderr",
     "output_type": "stream",
     "text": [
      "4664it [00:09, 468.19it/s]\n"
     ]
    },
    {
     "name": "stdout",
     "output_type": "stream",
     "text": [
      "Val Loss: 301178100.356\n",
      "***************************************************\n",
      "\n",
      "Epoch: 9\n"
     ]
    },
    {
     "name": "stderr",
     "output_type": "stream",
     "text": [
      "88615it [08:51, 166.86it/s]\n"
     ]
    },
    {
     "name": "stdout",
     "output_type": "stream",
     "text": [
      "Loss : 40413496.373452574\n",
      "\n"
     ]
    },
    {
     "name": "stderr",
     "output_type": "stream",
     "text": [
      "4664it [00:10, 453.50it/s]\n"
     ]
    },
    {
     "name": "stdout",
     "output_type": "stream",
     "text": [
      "Val Loss: 315004602.789\n",
      "***************************************************\n",
      "\n",
      "Epoch: 10\n"
     ]
    },
    {
     "name": "stderr",
     "output_type": "stream",
     "text": [
      "88615it [08:52, 166.42it/s]\n"
     ]
    },
    {
     "name": "stdout",
     "output_type": "stream",
     "text": [
      "Loss : 22589474.61334424\n",
      "\n"
     ]
    },
    {
     "name": "stderr",
     "output_type": "stream",
     "text": [
      "4664it [00:10, 451.92it/s]\n"
     ]
    },
    {
     "name": "stdout",
     "output_type": "stream",
     "text": [
      "Val Loss: 304902987.230\n",
      "***************************************************\n",
      "\n",
      "=> Saving checkpoint checkpoint10\n",
      "\n",
      "Epoch: 11\n"
     ]
    },
    {
     "name": "stderr",
     "output_type": "stream",
     "text": [
      "88615it [08:51, 166.59it/s]\n"
     ]
    },
    {
     "name": "stdout",
     "output_type": "stream",
     "text": [
      "Loss : 18933941.209699262\n",
      "\n"
     ]
    },
    {
     "name": "stderr",
     "output_type": "stream",
     "text": [
      "4664it [00:10, 446.79it/s]\n"
     ]
    },
    {
     "name": "stdout",
     "output_type": "stream",
     "text": [
      "Val Loss: 272621008.276\n",
      "***************************************************\n",
      "\n",
      "Epoch: 12\n"
     ]
    },
    {
     "name": "stderr",
     "output_type": "stream",
     "text": [
      "88615it [08:52, 166.41it/s]\n"
     ]
    },
    {
     "name": "stdout",
     "output_type": "stream",
     "text": [
      "Loss : 29046507.356542345\n",
      "\n"
     ]
    },
    {
     "name": "stderr",
     "output_type": "stream",
     "text": [
      "4664it [00:10, 454.60it/s]\n"
     ]
    },
    {
     "name": "stdout",
     "output_type": "stream",
     "text": [
      "Val Loss: 240840717.203\n",
      "***************************************************\n",
      "\n",
      "Epoch: 13\n"
     ]
    },
    {
     "name": "stderr",
     "output_type": "stream",
     "text": [
      "88615it [08:51, 166.73it/s]\n"
     ]
    },
    {
     "name": "stdout",
     "output_type": "stream",
     "text": [
      "Loss : 17598220.670098178\n",
      "\n"
     ]
    },
    {
     "name": "stderr",
     "output_type": "stream",
     "text": [
      "4664it [00:10, 460.37it/s]\n"
     ]
    },
    {
     "name": "stdout",
     "output_type": "stream",
     "text": [
      "Val Loss: 274328050.834\n",
      "***************************************************\n",
      "\n",
      "Epoch: 14\n"
     ]
    },
    {
     "name": "stderr",
     "output_type": "stream",
     "text": [
      "88615it [08:46, 168.34it/s]\n"
     ]
    },
    {
     "name": "stdout",
     "output_type": "stream",
     "text": [
      "Loss : 29801779.29652429\n",
      "\n"
     ]
    },
    {
     "name": "stderr",
     "output_type": "stream",
     "text": [
      "4664it [00:10, 463.51it/s]\n"
     ]
    },
    {
     "name": "stdout",
     "output_type": "stream",
     "text": [
      "Val Loss: 219493402.651\n",
      "***************************************************\n",
      "\n",
      "Epoch: 15\n"
     ]
    },
    {
     "name": "stderr",
     "output_type": "stream",
     "text": [
      "88615it [08:45, 168.69it/s]\n"
     ]
    },
    {
     "name": "stdout",
     "output_type": "stream",
     "text": [
      "Loss : 18693303.184246458\n",
      "\n"
     ]
    },
    {
     "name": "stderr",
     "output_type": "stream",
     "text": [
      "4664it [00:09, 475.24it/s]\n"
     ]
    },
    {
     "name": "stdout",
     "output_type": "stream",
     "text": [
      "Val Loss: 251821205.840\n",
      "***************************************************\n",
      "\n",
      "=> Saving checkpoint checkpoint15\n",
      "\n",
      "Epoch: 16\n"
     ]
    },
    {
     "name": "stderr",
     "output_type": "stream",
     "text": [
      "88615it [08:44, 169.06it/s]\n"
     ]
    },
    {
     "name": "stdout",
     "output_type": "stream",
     "text": [
      "Loss : 14911347.121821927\n",
      "\n"
     ]
    },
    {
     "name": "stderr",
     "output_type": "stream",
     "text": [
      "4664it [00:10, 458.52it/s]\n"
     ]
    },
    {
     "name": "stdout",
     "output_type": "stream",
     "text": [
      "Val Loss: 347688329.255\n",
      "***************************************************\n",
      "\n",
      "Epoch: 17\n"
     ]
    },
    {
     "name": "stderr",
     "output_type": "stream",
     "text": [
      "88615it [08:47, 167.90it/s]\n"
     ]
    },
    {
     "name": "stdout",
     "output_type": "stream",
     "text": [
      "Loss : 14394657.579944141\n",
      "\n"
     ]
    },
    {
     "name": "stderr",
     "output_type": "stream",
     "text": [
      "4664it [00:10, 457.75it/s]\n"
     ]
    },
    {
     "name": "stdout",
     "output_type": "stream",
     "text": [
      "Val Loss: 436264627.129\n",
      "***************************************************\n",
      "\n",
      "Epoch: 18\n"
     ]
    },
    {
     "name": "stderr",
     "output_type": "stream",
     "text": [
      "88615it [08:44, 168.91it/s]\n"
     ]
    },
    {
     "name": "stdout",
     "output_type": "stream",
     "text": [
      "Loss : 15108800.970371833\n",
      "\n"
     ]
    },
    {
     "name": "stderr",
     "output_type": "stream",
     "text": [
      "4664it [00:10, 462.11it/s]\n"
     ]
    },
    {
     "name": "stdout",
     "output_type": "stream",
     "text": [
      "Val Loss: 218030763.345\n",
      "***************************************************\n",
      "\n",
      "Epoch: 19\n"
     ]
    },
    {
     "name": "stderr",
     "output_type": "stream",
     "text": [
      "88615it [08:44, 169.05it/s]\n"
     ]
    },
    {
     "name": "stdout",
     "output_type": "stream",
     "text": [
      "Loss : 14349139.788847825\n",
      "\n"
     ]
    },
    {
     "name": "stderr",
     "output_type": "stream",
     "text": [
      "4664it [00:09, 474.58it/s]\n"
     ]
    },
    {
     "name": "stdout",
     "output_type": "stream",
     "text": [
      "Val Loss: 230845743.719\n",
      "***************************************************\n",
      "\n",
      "Epoch: 20\n"
     ]
    },
    {
     "name": "stderr",
     "output_type": "stream",
     "text": [
      "88615it [08:48, 167.72it/s]\n"
     ]
    },
    {
     "name": "stdout",
     "output_type": "stream",
     "text": [
      "Loss : 13247376.30187045\n",
      "\n"
     ]
    },
    {
     "name": "stderr",
     "output_type": "stream",
     "text": [
      "4664it [00:10, 460.70it/s]\n"
     ]
    },
    {
     "name": "stdout",
     "output_type": "stream",
     "text": [
      "Val Loss: 222884013.998\n",
      "***************************************************\n",
      "\n",
      "=> Saving checkpoint checkpoint20\n",
      "\n",
      "Epoch: 21\n"
     ]
    },
    {
     "name": "stderr",
     "output_type": "stream",
     "text": [
      "88615it [08:46, 168.42it/s]\n"
     ]
    },
    {
     "name": "stdout",
     "output_type": "stream",
     "text": [
      "Loss : 12822891.261095751\n",
      "\n"
     ]
    },
    {
     "name": "stderr",
     "output_type": "stream",
     "text": [
      "4664it [00:10, 462.97it/s]\n"
     ]
    },
    {
     "name": "stdout",
     "output_type": "stream",
     "text": [
      "Val Loss: 203517303.519\n",
      "***************************************************\n",
      "\n",
      "Epoch: 22\n"
     ]
    },
    {
     "name": "stderr",
     "output_type": "stream",
     "text": [
      "88615it [08:46, 168.18it/s]\n"
     ]
    },
    {
     "name": "stdout",
     "output_type": "stream",
     "text": [
      "Loss : 14468661.192580262\n",
      "\n"
     ]
    },
    {
     "name": "stderr",
     "output_type": "stream",
     "text": [
      "4664it [00:10, 463.22it/s]\n"
     ]
    },
    {
     "name": "stdout",
     "output_type": "stream",
     "text": [
      "Val Loss: 187926701.699\n",
      "***************************************************\n",
      "\n",
      "Epoch: 23\n"
     ]
    },
    {
     "name": "stderr",
     "output_type": "stream",
     "text": [
      "88615it [08:48, 167.61it/s]\n"
     ]
    },
    {
     "name": "stdout",
     "output_type": "stream",
     "text": [
      "Loss : 22440627.574428707\n",
      "\n"
     ]
    },
    {
     "name": "stderr",
     "output_type": "stream",
     "text": [
      "4664it [00:10, 457.10it/s]\n"
     ]
    },
    {
     "name": "stdout",
     "output_type": "stream",
     "text": [
      "Val Loss: 230166570.518\n",
      "***************************************************\n",
      "\n",
      "Epoch: 24\n"
     ]
    },
    {
     "name": "stderr",
     "output_type": "stream",
     "text": [
      "88615it [08:48, 167.58it/s]\n"
     ]
    },
    {
     "name": "stdout",
     "output_type": "stream",
     "text": [
      "Loss : 20367040.04871636\n",
      "\n"
     ]
    },
    {
     "name": "stderr",
     "output_type": "stream",
     "text": [
      "4664it [00:10, 454.93it/s]\n"
     ]
    },
    {
     "name": "stdout",
     "output_type": "stream",
     "text": [
      "Val Loss: 262401417.078\n",
      "***************************************************\n",
      "\n",
      "Epoch: 25\n"
     ]
    },
    {
     "name": "stderr",
     "output_type": "stream",
     "text": [
      "88615it [08:49, 167.44it/s]\n"
     ]
    },
    {
     "name": "stdout",
     "output_type": "stream",
     "text": [
      "Loss : 25361273.428008802\n",
      "\n"
     ]
    },
    {
     "name": "stderr",
     "output_type": "stream",
     "text": [
      "4664it [00:10, 464.62it/s]\n"
     ]
    },
    {
     "name": "stdout",
     "output_type": "stream",
     "text": [
      "Val Loss: 269538951.853\n",
      "***************************************************\n",
      "\n",
      "=> Saving checkpoint checkpoint25\n",
      "\n",
      "Epoch: 26\n"
     ]
    },
    {
     "name": "stderr",
     "output_type": "stream",
     "text": [
      "88615it [08:47, 168.09it/s]\n"
     ]
    },
    {
     "name": "stdout",
     "output_type": "stream",
     "text": [
      "Loss : 24838918.450414717\n",
      "\n"
     ]
    },
    {
     "name": "stderr",
     "output_type": "stream",
     "text": [
      "4664it [00:10, 461.98it/s]\n"
     ]
    },
    {
     "name": "stdout",
     "output_type": "stream",
     "text": [
      "Val Loss: 300258215.546\n",
      "***************************************************\n",
      "\n",
      "Epoch: 27\n"
     ]
    },
    {
     "name": "stderr",
     "output_type": "stream",
     "text": [
      "88615it [08:45, 168.66it/s]\n"
     ]
    },
    {
     "name": "stdout",
     "output_type": "stream",
     "text": [
      "Loss : 15022552.859493313\n",
      "\n"
     ]
    },
    {
     "name": "stderr",
     "output_type": "stream",
     "text": [
      "4664it [00:10, 464.05it/s]\n"
     ]
    },
    {
     "name": "stdout",
     "output_type": "stream",
     "text": [
      "Val Loss: 244990251.638\n",
      "***************************************************\n",
      "\n",
      "Epoch: 28\n"
     ]
    },
    {
     "name": "stderr",
     "output_type": "stream",
     "text": [
      "88615it [08:46, 168.44it/s]\n"
     ]
    },
    {
     "name": "stdout",
     "output_type": "stream",
     "text": [
      "Loss : 54684025.41801896\n",
      "\n"
     ]
    },
    {
     "name": "stderr",
     "output_type": "stream",
     "text": [
      "4664it [00:09, 468.66it/s]\n"
     ]
    },
    {
     "name": "stdout",
     "output_type": "stream",
     "text": [
      "Val Loss: 257416349.150\n",
      "***************************************************\n",
      "\n",
      "Epoch: 29\n"
     ]
    },
    {
     "name": "stderr",
     "output_type": "stream",
     "text": [
      "88615it [08:44, 169.02it/s]\n"
     ]
    },
    {
     "name": "stdout",
     "output_type": "stream",
     "text": [
      "Loss : 31114459.57469108\n",
      "\n"
     ]
    },
    {
     "name": "stderr",
     "output_type": "stream",
     "text": [
      "4664it [00:09, 472.55it/s]\n"
     ]
    },
    {
     "name": "stdout",
     "output_type": "stream",
     "text": [
      "Val Loss: 496222500.234\n",
      "***************************************************\n",
      "\n",
      "Epoch: 30\n"
     ]
    },
    {
     "name": "stderr",
     "output_type": "stream",
     "text": [
      "88615it [08:47, 168.00it/s]\n"
     ]
    },
    {
     "name": "stdout",
     "output_type": "stream",
     "text": [
      "Loss : 30084385.703783218\n",
      "\n"
     ]
    },
    {
     "name": "stderr",
     "output_type": "stream",
     "text": [
      "4664it [00:10, 454.73it/s]\n"
     ]
    },
    {
     "name": "stdout",
     "output_type": "stream",
     "text": [
      "Val Loss: 558730996.774\n",
      "***************************************************\n",
      "\n",
      "=> Saving checkpoint checkpoint30\n",
      "\n",
      "Epoch: 31\n"
     ]
    },
    {
     "name": "stderr",
     "output_type": "stream",
     "text": [
      "88615it [08:50, 166.93it/s]\n"
     ]
    },
    {
     "name": "stdout",
     "output_type": "stream",
     "text": [
      "Loss : 18797502.535558313\n",
      "\n"
     ]
    },
    {
     "name": "stderr",
     "output_type": "stream",
     "text": [
      "4664it [00:10, 460.98it/s]\n"
     ]
    },
    {
     "name": "stdout",
     "output_type": "stream",
     "text": [
      "Val Loss: 376572627.629\n",
      "***************************************************\n",
      "\n",
      "Epoch: 32\n"
     ]
    },
    {
     "name": "stderr",
     "output_type": "stream",
     "text": [
      "88615it [08:54, 165.94it/s]\n"
     ]
    },
    {
     "name": "stdout",
     "output_type": "stream",
     "text": [
      "Loss : 16623662.915635051\n",
      "\n"
     ]
    },
    {
     "name": "stderr",
     "output_type": "stream",
     "text": [
      "4664it [00:10, 453.84it/s]\n"
     ]
    },
    {
     "name": "stdout",
     "output_type": "stream",
     "text": [
      "Val Loss: 399139364.721\n",
      "***************************************************\n",
      "\n",
      "Epoch: 33\n"
     ]
    },
    {
     "name": "stderr",
     "output_type": "stream",
     "text": [
      "88615it [08:55, 165.35it/s]\n"
     ]
    },
    {
     "name": "stdout",
     "output_type": "stream",
     "text": [
      "Loss : 15845953.67273317\n",
      "\n"
     ]
    },
    {
     "name": "stderr",
     "output_type": "stream",
     "text": [
      "4664it [00:10, 448.49it/s]\n"
     ]
    },
    {
     "name": "stdout",
     "output_type": "stream",
     "text": [
      "Val Loss: 362684157.579\n",
      "***************************************************\n",
      "\n",
      "Epoch: 34\n"
     ]
    },
    {
     "name": "stderr",
     "output_type": "stream",
     "text": [
      "88615it [08:51, 166.76it/s]\n"
     ]
    },
    {
     "name": "stdout",
     "output_type": "stream",
     "text": [
      "Loss : 15452425.64678102\n",
      "\n"
     ]
    },
    {
     "name": "stderr",
     "output_type": "stream",
     "text": [
      "4664it [00:10, 454.69it/s]\n"
     ]
    },
    {
     "name": "stdout",
     "output_type": "stream",
     "text": [
      "Val Loss: 435422838.766\n",
      "***************************************************\n",
      "\n",
      "Epoch: 35\n"
     ]
    },
    {
     "name": "stderr",
     "output_type": "stream",
     "text": [
      "88615it [08:49, 167.34it/s]\n"
     ]
    },
    {
     "name": "stdout",
     "output_type": "stream",
     "text": [
      "Loss : 14852191.723717768\n",
      "\n"
     ]
    },
    {
     "name": "stderr",
     "output_type": "stream",
     "text": [
      "4664it [00:10, 453.94it/s]\n"
     ]
    },
    {
     "name": "stdout",
     "output_type": "stream",
     "text": [
      "Val Loss: 392578030.857\n",
      "***************************************************\n",
      "\n",
      "=> Saving checkpoint checkpoint35\n",
      "\n",
      "Epoch: 36\n"
     ]
    },
    {
     "name": "stderr",
     "output_type": "stream",
     "text": [
      "88615it [08:50, 167.07it/s]\n"
     ]
    },
    {
     "name": "stdout",
     "output_type": "stream",
     "text": [
      "Loss : 14327149.526451504\n",
      "\n"
     ]
    },
    {
     "name": "stderr",
     "output_type": "stream",
     "text": [
      "4664it [00:10, 450.95it/s]\n"
     ]
    },
    {
     "name": "stdout",
     "output_type": "stream",
     "text": [
      "Val Loss: 400514061.390\n",
      "***************************************************\n",
      "\n",
      "Epoch: 37\n"
     ]
    },
    {
     "name": "stderr",
     "output_type": "stream",
     "text": [
      "88615it [08:50, 167.06it/s]\n"
     ]
    },
    {
     "name": "stdout",
     "output_type": "stream",
     "text": [
      "Loss : 14076835.475134006\n",
      "\n"
     ]
    },
    {
     "name": "stderr",
     "output_type": "stream",
     "text": [
      "4664it [00:10, 455.25it/s]\n"
     ]
    },
    {
     "name": "stdout",
     "output_type": "stream",
     "text": [
      "Val Loss: 376845607.770\n",
      "***************************************************\n",
      "\n",
      "Epoch: 38\n"
     ]
    },
    {
     "name": "stderr",
     "output_type": "stream",
     "text": [
      "88615it [08:46, 168.18it/s]\n"
     ]
    },
    {
     "name": "stdout",
     "output_type": "stream",
     "text": [
      "Loss : 13857044.233481916\n",
      "\n"
     ]
    },
    {
     "name": "stderr",
     "output_type": "stream",
     "text": [
      "4664it [00:10, 459.93it/s]\n"
     ]
    },
    {
     "name": "stdout",
     "output_type": "stream",
     "text": [
      "Val Loss: 362121491.373\n",
      "***************************************************\n",
      "\n",
      "Epoch: 39\n"
     ]
    },
    {
     "name": "stderr",
     "output_type": "stream",
     "text": [
      "88615it [08:49, 167.37it/s]\n"
     ]
    },
    {
     "name": "stdout",
     "output_type": "stream",
     "text": [
      "Loss : 13567843.820890933\n",
      "\n"
     ]
    },
    {
     "name": "stderr",
     "output_type": "stream",
     "text": [
      "4664it [00:10, 453.78it/s]\n"
     ]
    },
    {
     "name": "stdout",
     "output_type": "stream",
     "text": [
      "Val Loss: 376734414.997\n",
      "***************************************************\n",
      "\n",
      "Epoch: 40\n"
     ]
    },
    {
     "name": "stderr",
     "output_type": "stream",
     "text": [
      "88615it [08:48, 167.59it/s]\n"
     ]
    },
    {
     "name": "stdout",
     "output_type": "stream",
     "text": [
      "Loss : 13183567.100220053\n",
      "\n"
     ]
    },
    {
     "name": "stderr",
     "output_type": "stream",
     "text": [
      "4664it [00:10, 446.81it/s]\n"
     ]
    },
    {
     "name": "stdout",
     "output_type": "stream",
     "text": [
      "Val Loss: 337687860.473\n",
      "***************************************************\n",
      "\n",
      "=> Saving checkpoint checkpoint40\n",
      "\n",
      "Epoch: 41\n"
     ]
    },
    {
     "name": "stderr",
     "output_type": "stream",
     "text": [
      "88615it [08:48, 167.62it/s]\n"
     ]
    },
    {
     "name": "stdout",
     "output_type": "stream",
     "text": [
      "Loss : 13571356.037778594\n",
      "\n"
     ]
    },
    {
     "name": "stderr",
     "output_type": "stream",
     "text": [
      "4664it [00:10, 458.80it/s]\n"
     ]
    },
    {
     "name": "stdout",
     "output_type": "stream",
     "text": [
      "Val Loss: 457689590.818\n",
      "***************************************************\n",
      "\n",
      "Epoch: 42\n"
     ]
    },
    {
     "name": "stderr",
     "output_type": "stream",
     "text": [
      "88615it [08:47, 167.86it/s]\n"
     ]
    },
    {
     "name": "stdout",
     "output_type": "stream",
     "text": [
      "Loss : 12891534.66828415\n",
      "\n"
     ]
    },
    {
     "name": "stderr",
     "output_type": "stream",
     "text": [
      "4664it [00:10, 456.10it/s]\n"
     ]
    },
    {
     "name": "stdout",
     "output_type": "stream",
     "text": [
      "Val Loss: 417956054.102\n",
      "***************************************************\n",
      "\n",
      "Epoch: 43\n"
     ]
    },
    {
     "name": "stderr",
     "output_type": "stream",
     "text": [
      "88615it [08:49, 167.33it/s]\n"
     ]
    },
    {
     "name": "stdout",
     "output_type": "stream",
     "text": [
      "Loss : 12644535.813821023\n",
      "\n"
     ]
    },
    {
     "name": "stderr",
     "output_type": "stream",
     "text": [
      "4664it [00:10, 459.66it/s]\n"
     ]
    },
    {
     "name": "stdout",
     "output_type": "stream",
     "text": [
      "Val Loss: 436149420.091\n",
      "***************************************************\n",
      "\n",
      "Epoch: 44\n"
     ]
    },
    {
     "name": "stderr",
     "output_type": "stream",
     "text": [
      "88615it [08:47, 167.95it/s]\n"
     ]
    },
    {
     "name": "stdout",
     "output_type": "stream",
     "text": [
      "Loss : 12608292.547322689\n",
      "\n"
     ]
    },
    {
     "name": "stderr",
     "output_type": "stream",
     "text": [
      "4664it [00:10, 460.22it/s]\n"
     ]
    },
    {
     "name": "stdout",
     "output_type": "stream",
     "text": [
      "Val Loss: 395008187.880\n",
      "***************************************************\n",
      "\n",
      "Epoch: 45\n"
     ]
    },
    {
     "name": "stderr",
     "output_type": "stream",
     "text": [
      "88615it [08:48, 167.53it/s]\n"
     ]
    },
    {
     "name": "stdout",
     "output_type": "stream",
     "text": [
      "Loss : 14522405.018411104\n",
      "\n"
     ]
    },
    {
     "name": "stderr",
     "output_type": "stream",
     "text": [
      "4664it [00:10, 438.79it/s]\n"
     ]
    },
    {
     "name": "stdout",
     "output_type": "stream",
     "text": [
      "Val Loss: 380178279.800\n",
      "***************************************************\n",
      "\n",
      "=> Saving checkpoint checkpoint45\n",
      "\n",
      "Epoch: 46\n"
     ]
    },
    {
     "name": "stderr",
     "output_type": "stream",
     "text": [
      "88615it [08:47, 168.02it/s]\n"
     ]
    },
    {
     "name": "stdout",
     "output_type": "stream",
     "text": [
      "Loss : 12299672.263567116\n",
      "\n"
     ]
    },
    {
     "name": "stderr",
     "output_type": "stream",
     "text": [
      "4664it [00:10, 455.89it/s]\n"
     ]
    },
    {
     "name": "stdout",
     "output_type": "stream",
     "text": [
      "Val Loss: 364834148.953\n",
      "***************************************************\n",
      "\n",
      "Epoch: 47\n"
     ]
    },
    {
     "name": "stderr",
     "output_type": "stream",
     "text": [
      "88615it [08:46, 168.16it/s]\n"
     ]
    },
    {
     "name": "stdout",
     "output_type": "stream",
     "text": [
      "Loss : 15108506.280528128\n",
      "\n"
     ]
    },
    {
     "name": "stderr",
     "output_type": "stream",
     "text": [
      "4664it [00:10, 461.81it/s]\n"
     ]
    },
    {
     "name": "stdout",
     "output_type": "stream",
     "text": [
      "Val Loss: 342312247.924\n",
      "***************************************************\n",
      "\n",
      "Epoch: 48\n"
     ]
    },
    {
     "name": "stderr",
     "output_type": "stream",
     "text": [
      "88615it [08:54, 165.89it/s]\n"
     ]
    },
    {
     "name": "stdout",
     "output_type": "stream",
     "text": [
      "Loss : 12734619.115984878\n",
      "\n"
     ]
    },
    {
     "name": "stderr",
     "output_type": "stream",
     "text": [
      "4664it [00:10, 447.06it/s]\n"
     ]
    },
    {
     "name": "stdout",
     "output_type": "stream",
     "text": [
      "Val Loss: 403861316.575\n",
      "***************************************************\n",
      "\n",
      "Epoch: 49\n"
     ]
    },
    {
     "name": "stderr",
     "output_type": "stream",
     "text": [
      "88615it [08:48, 167.62it/s]\n"
     ]
    },
    {
     "name": "stdout",
     "output_type": "stream",
     "text": [
      "Loss : 11892244.871297184\n",
      "\n"
     ]
    },
    {
     "name": "stderr",
     "output_type": "stream",
     "text": [
      "4664it [00:10, 445.46it/s]\n"
     ]
    },
    {
     "name": "stdout",
     "output_type": "stream",
     "text": [
      "Val Loss: 326588805.836\n",
      "***************************************************\n",
      "\n",
      "Epoch: 50\n"
     ]
    },
    {
     "name": "stderr",
     "output_type": "stream",
     "text": [
      "88615it [08:46, 168.22it/s]\n"
     ]
    },
    {
     "name": "stdout",
     "output_type": "stream",
     "text": [
      "Loss : 12738403.329814365\n",
      "\n"
     ]
    },
    {
     "name": "stderr",
     "output_type": "stream",
     "text": [
      "4664it [00:10, 457.31it/s]\n"
     ]
    },
    {
     "name": "stdout",
     "output_type": "stream",
     "text": [
      "Val Loss: 267705978.653\n",
      "***************************************************\n",
      "\n",
      "=> Saving checkpoint checkpoint50\n",
      "\n"
     ]
    }
   ],
   "source": [
    "for epoch in range(num_epochs):\n",
    "    \n",
    "    train_one_epoch()\n",
    "    validate_one_epoch()\n",
    "    \n",
    "    if((epoch+1)%5==0):\n",
    "        checkpoint = {'state_dict' : model.state_dict(), 'optimizer' : optimizer.state_dict()}\n",
    "        save_checkpoint(checkpoint,f'checkpoint{epoch+1}')"
   ]
  },
  {
   "cell_type": "code",
   "execution_count": null,
   "id": "ca7bab48",
   "metadata": {
    "papermill": {
     "duration": 24.424584,
     "end_time": "2024-10-05T00:35:16.661025",
     "exception": false,
     "start_time": "2024-10-05T00:34:52.236441",
     "status": "completed"
    },
    "tags": []
   },
   "outputs": [],
   "source": []
  },
  {
   "cell_type": "code",
   "execution_count": 30,
   "id": "1c598784",
   "metadata": {
    "execution": {
     "iopub.execute_input": "2024-10-05T00:36:04.966299Z",
     "iopub.status.busy": "2024-10-05T00:36:04.965421Z",
     "iopub.status.idle": "2024-10-05T00:36:04.978096Z",
     "shell.execute_reply": "2024-10-05T00:36:04.977012Z"
    },
    "id": "-CuelDg2seDP",
    "papermill": {
     "duration": 24.074329,
     "end_time": "2024-10-05T00:36:04.980525",
     "exception": false,
     "start_time": "2024-10-05T00:35:40.906196",
     "status": "completed"
    },
    "tags": []
   },
   "outputs": [],
   "source": [
    "import pandas as pd\n",
    "import torch\n",
    "from tqdm import tqdm\n",
    "\n",
    "# Test function with DataFrame creation\n",
    "def evaluate_model(loader, model):\n",
    "    model.train(False)  # Set model to evaluation mode\n",
    "    running_loss = 0.0\n",
    "\n",
    "    # Lists to store the test data, actual, and predicted p_wave_arrival\n",
    "    time_list = []\n",
    "    velocity_list = []\n",
    "    actual_p_wave_arrival_list = []\n",
    "    predicted_p_wave_arrival_list = []\n",
    "\n",
    "    with torch.no_grad():\n",
    "        for batch_index, batch in tqdm(enumerate(loader)):\n",
    "            data, targets = batch[0].to(device), batch[1].to(device)\n",
    "\n",
    "            # Reshape input for LSTM (batch_size, sequence_length, input_size)\n",
    "            data = data.squeeze(1)  # Remove extra dimensions if any\n",
    "\n",
    "            if data.dim() == 2:  # Add sequence length dimension if it's missing\n",
    "                data = data.unsqueeze(1)\n",
    "\n",
    "            # Forward pass\n",
    "            outputs = model(data)\n",
    "\n",
    "            # Calculate loss\n",
    "            loss = loss_function(outputs.squeeze(), targets)\n",
    "            running_loss += loss.item()\n",
    "\n",
    "            # Move data back to CPU and convert to numpy\n",
    "            data_cpu = data.squeeze().cpu().numpy()  # Get the time and velocity data\n",
    "            targets_cpu = targets.cpu().numpy()  # Actual p_wave_arrival\n",
    "            preds_cpu = outputs.squeeze().cpu().numpy()  # Predicted p_wave_arrival\n",
    "\n",
    "            # Append data to lists\n",
    "            time_list.extend(data_cpu[:, 0])  # Extract the 'time' column\n",
    "            velocity_list.extend(data_cpu[:, 1])  # Extract the 'velocity' column\n",
    "            actual_p_wave_arrival_list.extend(targets_cpu)\n",
    "            predicted_p_wave_arrival_list.extend(preds_cpu)\n",
    "\n",
    "    # Create DataFrame\n",
    "    df_results = pd.DataFrame({\n",
    "        'Time': time_list,\n",
    "        'Velocity': velocity_list,\n",
    "        'Actual_p_wave_arrival': actual_p_wave_arrival_list,\n",
    "        'Predicted_p_wave_arrival': predicted_p_wave_arrival_list\n",
    "    })\n",
    "\n",
    "    # Calculate average loss across all batches\n",
    "    avg_loss_across_batches = running_loss / len(loader)\n",
    "\n",
    "    # Print results\n",
    "    print(f'Average Test Loss: {avg_loss_across_batches:.4f}')\n",
    "    print('***************************************************')\n",
    "\n",
    "    return df_results\n"
   ]
  },
  {
   "cell_type": "code",
   "execution_count": 31,
   "id": "a976e1bd",
   "metadata": {
    "execution": {
     "iopub.execute_input": "2024-10-05T00:36:53.481431Z",
     "iopub.status.busy": "2024-10-05T00:36:53.480563Z",
     "iopub.status.idle": "2024-10-05T00:37:05.644255Z",
     "shell.execute_reply": "2024-10-05T00:37:05.643119Z"
    },
    "papermill": {
     "duration": 36.204374,
     "end_time": "2024-10-05T00:37:05.646510",
     "exception": false,
     "start_time": "2024-10-05T00:36:29.442136",
     "status": "completed"
    },
    "tags": []
   },
   "outputs": [
    {
     "name": "stderr",
     "output_type": "stream",
     "text": [
      "0it [00:00, ?it/s]/opt/conda/lib/python3.10/site-packages/torch/nn/modules/loss.py:538: UserWarning: Using a target size (torch.Size([128, 1])) that is different to the input size (torch.Size([128])). This will likely lead to incorrect results due to broadcasting. Please ensure they have the same size.\n",
      "  return F.mse_loss(input, target, reduction=self.reduction)\n",
      "4663it [00:11, 407.76it/s]/opt/conda/lib/python3.10/site-packages/torch/nn/modules/loss.py:538: UserWarning: Using a target size (torch.Size([120, 1])) that is different to the input size (torch.Size([120])). This will likely lead to incorrect results due to broadcasting. Please ensure they have the same size.\n",
      "  return F.mse_loss(input, target, reduction=self.reduction)\n",
      "4664it [00:11, 403.05it/s]\n"
     ]
    },
    {
     "name": "stdout",
     "output_type": "stream",
     "text": [
      "Average Test Loss: 267706134.7204\n",
      "***************************************************\n"
     ]
    }
   ],
   "source": [
    "# Evaluate the model on the test set\n",
    "tem = evaluate_model(test_loader, model)"
   ]
  },
  {
   "cell_type": "code",
   "execution_count": 32,
   "id": "26d59e96",
   "metadata": {
    "execution": {
     "iopub.execute_input": "2024-10-05T00:37:52.853926Z",
     "iopub.status.busy": "2024-10-05T00:37:52.852969Z",
     "iopub.status.idle": "2024-10-05T00:37:52.881884Z",
     "shell.execute_reply": "2024-10-05T00:37:52.880770Z"
    },
    "papermill": {
     "duration": 23.432964,
     "end_time": "2024-10-05T00:37:52.884527",
     "exception": false,
     "start_time": "2024-10-05T00:37:29.451563",
     "status": "completed"
    },
    "tags": []
   },
   "outputs": [
    {
     "data": {
      "text/html": [
       "<div>\n",
       "<style scoped>\n",
       "    .dataframe tbody tr th:only-of-type {\n",
       "        vertical-align: middle;\n",
       "    }\n",
       "\n",
       "    .dataframe tbody tr th {\n",
       "        vertical-align: top;\n",
       "    }\n",
       "\n",
       "    .dataframe thead th {\n",
       "        text-align: right;\n",
       "    }\n",
       "</style>\n",
       "<table border=\"1\" class=\"dataframe\">\n",
       "  <thead>\n",
       "    <tr style=\"text-align: right;\">\n",
       "      <th></th>\n",
       "      <th>Time</th>\n",
       "      <th>Velocity</th>\n",
       "      <th>Actual_p_wave_arrival</th>\n",
       "      <th>Predicted_p_wave_arrival</th>\n",
       "    </tr>\n",
       "  </thead>\n",
       "  <tbody>\n",
       "    <tr>\n",
       "      <th>0</th>\n",
       "      <td>[2835661.5, 0.46060288]</td>\n",
       "      <td>[2835664.0, -1.1068829]</td>\n",
       "      <td>[2841766.8]</td>\n",
       "      <td>2836846.750</td>\n",
       "    </tr>\n",
       "    <tr>\n",
       "      <th>1</th>\n",
       "      <td>[2835661.8, 1.1317414]</td>\n",
       "      <td>[2835664.2, -0.69407684]</td>\n",
       "      <td>[2841766.8]</td>\n",
       "      <td>2836852.750</td>\n",
       "    </tr>\n",
       "    <tr>\n",
       "      <th>2</th>\n",
       "      <td>[2835662.0, 1.7190607]</td>\n",
       "      <td>[2835664.5, -0.9319031]</td>\n",
       "      <td>[2841766.8]</td>\n",
       "      <td>2836855.750</td>\n",
       "    </tr>\n",
       "    <tr>\n",
       "      <th>3</th>\n",
       "      <td>[2835662.2, 2.3524396]</td>\n",
       "      <td>[2835664.8, -1.572397]</td>\n",
       "      <td>[2841766.8]</td>\n",
       "      <td>2836863.000</td>\n",
       "    </tr>\n",
       "    <tr>\n",
       "      <th>4</th>\n",
       "      <td>[2835662.5, 2.2955623]</td>\n",
       "      <td>[2835665.0, -1.342719]</td>\n",
       "      <td>[2841766.8]</td>\n",
       "      <td>2836844.000</td>\n",
       "    </tr>\n",
       "    <tr>\n",
       "      <th>...</th>\n",
       "      <td>...</td>\n",
       "      <td>...</td>\n",
       "      <td>...</td>\n",
       "      <td>...</td>\n",
       "    </tr>\n",
       "    <tr>\n",
       "      <th>596979</th>\n",
       "      <td>[2984906.2, -0.061606523]</td>\n",
       "      <td>[2984908.8, -0.06255388]</td>\n",
       "      <td>[2985266.8]</td>\n",
       "      <td>1669111.500</td>\n",
       "    </tr>\n",
       "    <tr>\n",
       "      <th>596980</th>\n",
       "      <td>[2984906.5, -0.061203223]</td>\n",
       "      <td>[2984909.0, -0.061748184]</td>\n",
       "      <td>[2985266.8]</td>\n",
       "      <td>1669107.125</td>\n",
       "    </tr>\n",
       "    <tr>\n",
       "      <th>596981</th>\n",
       "      <td>[2984906.8, -0.061728444]</td>\n",
       "      <td>[2984909.2, -0.062295854]</td>\n",
       "      <td>[2985266.8]</td>\n",
       "      <td>1669108.125</td>\n",
       "    </tr>\n",
       "    <tr>\n",
       "      <th>596982</th>\n",
       "      <td>[2984907.0, -0.061574385]</td>\n",
       "      <td>[2984909.5, -0.062080987]</td>\n",
       "      <td>[2985266.8]</td>\n",
       "      <td>1669106.875</td>\n",
       "    </tr>\n",
       "    <tr>\n",
       "      <th>596983</th>\n",
       "      <td>[2984907.2, -0.061664876]</td>\n",
       "      <td>[2984909.8, -0.062593564]</td>\n",
       "      <td>[2985266.8]</td>\n",
       "      <td>1669107.000</td>\n",
       "    </tr>\n",
       "  </tbody>\n",
       "</table>\n",
       "<p>596984 rows × 4 columns</p>\n",
       "</div>"
      ],
      "text/plain": [
       "                             Time                   Velocity  \\\n",
       "0         [2835661.5, 0.46060288]    [2835664.0, -1.1068829]   \n",
       "1          [2835661.8, 1.1317414]   [2835664.2, -0.69407684]   \n",
       "2          [2835662.0, 1.7190607]    [2835664.5, -0.9319031]   \n",
       "3          [2835662.2, 2.3524396]     [2835664.8, -1.572397]   \n",
       "4          [2835662.5, 2.2955623]     [2835665.0, -1.342719]   \n",
       "...                           ...                        ...   \n",
       "596979  [2984906.2, -0.061606523]   [2984908.8, -0.06255388]   \n",
       "596980  [2984906.5, -0.061203223]  [2984909.0, -0.061748184]   \n",
       "596981  [2984906.8, -0.061728444]  [2984909.2, -0.062295854]   \n",
       "596982  [2984907.0, -0.061574385]  [2984909.5, -0.062080987]   \n",
       "596983  [2984907.2, -0.061664876]  [2984909.8, -0.062593564]   \n",
       "\n",
       "       Actual_p_wave_arrival  Predicted_p_wave_arrival  \n",
       "0                [2841766.8]               2836846.750  \n",
       "1                [2841766.8]               2836852.750  \n",
       "2                [2841766.8]               2836855.750  \n",
       "3                [2841766.8]               2836863.000  \n",
       "4                [2841766.8]               2836844.000  \n",
       "...                      ...                       ...  \n",
       "596979           [2985266.8]               1669111.500  \n",
       "596980           [2985266.8]               1669107.125  \n",
       "596981           [2985266.8]               1669108.125  \n",
       "596982           [2985266.8]               1669106.875  \n",
       "596983           [2985266.8]               1669107.000  \n",
       "\n",
       "[596984 rows x 4 columns]"
      ]
     },
     "execution_count": 32,
     "metadata": {},
     "output_type": "execute_result"
    }
   ],
   "source": [
    "# x = tem.Time.values\n",
    "# y = tem.Velocity.values\n",
    "# p = tem.Actual_p_wave_arrival.unique()\n",
    "# z = tem.Predicted_p_wave_arrival.unique()\n",
    "# print(len(p),len(z))\n",
    "tem"
   ]
  },
  {
   "cell_type": "code",
   "execution_count": null,
   "id": "c765db86",
   "metadata": {
    "papermill": {
     "duration": 24.159279,
     "end_time": "2024-10-05T00:38:41.197492",
     "exception": false,
     "start_time": "2024-10-05T00:38:17.038213",
     "status": "completed"
    },
    "tags": []
   },
   "outputs": [],
   "source": []
  }
 ],
 "metadata": {
  "colab": {
   "gpuType": "T4",
   "provenance": []
  },
  "gpuClass": "standard",
  "kaggle": {
   "accelerator": "gpu",
   "dataSources": [
    {
     "datasetId": 5814873,
     "sourceId": 9544784,
     "sourceType": "datasetVersion"
    },
    {
     "datasetId": 5817646,
     "sourceId": 9548510,
     "sourceType": "datasetVersion"
    }
   ],
   "dockerImageVersionId": 30787,
   "isGpuEnabled": true,
   "isInternetEnabled": true,
   "language": "python",
   "sourceType": "notebook"
  },
  "kernelspec": {
   "display_name": "Python 3",
   "language": "python",
   "name": "python3"
  },
  "language_info": {
   "codemirror_mode": {
    "name": "ipython",
    "version": 3
   },
   "file_extension": ".py",
   "mimetype": "text/x-python",
   "name": "python",
   "nbconvert_exporter": "python",
   "pygments_lexer": "ipython3",
   "version": "3.10.14"
  },
  "papermill": {
   "default_parameters": {},
   "duration": 27872.381247,
   "end_time": "2024-10-05T00:39:07.603437",
   "environment_variables": {},
   "exception": null,
   "input_path": "__notebook__.ipynb",
   "output_path": "__notebook__.ipynb",
   "parameters": {},
   "start_time": "2024-10-04T16:54:35.222190",
   "version": "2.6.0"
  }
 },
 "nbformat": 4,
 "nbformat_minor": 5
}
