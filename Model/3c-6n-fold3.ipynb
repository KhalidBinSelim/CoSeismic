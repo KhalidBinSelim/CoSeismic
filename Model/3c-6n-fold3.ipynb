{
 "cells": [
  {
   "cell_type": "code",
   "execution_count": 1,
   "id": "d6cc877c",
   "metadata": {
    "execution": {
     "iopub.execute_input": "2024-10-04T17:00:42.126140Z",
     "iopub.status.busy": "2024-10-04T17:00:42.125681Z",
     "iopub.status.idle": "2024-10-04T17:01:44.664344Z",
     "shell.execute_reply": "2024-10-04T17:01:44.663307Z"
    },
    "id": "2a4fdd0f",
    "outputId": "d758fb02-8b42-4705-d4bd-bcaa6df69ea7",
    "papermill": {
     "duration": 62.564868,
     "end_time": "2024-10-04T17:01:44.678549",
     "exception": false,
     "start_time": "2024-10-04T17:00:42.113681",
     "status": "completed"
    },
    "tags": []
   },
   "outputs": [
    {
     "data": {
      "text/html": [
       "<div>\n",
       "<style scoped>\n",
       "    .dataframe tbody tr th:only-of-type {\n",
       "        vertical-align: middle;\n",
       "    }\n",
       "\n",
       "    .dataframe tbody tr th {\n",
       "        vertical-align: top;\n",
       "    }\n",
       "\n",
       "    .dataframe thead th {\n",
       "        text-align: right;\n",
       "    }\n",
       "</style>\n",
       "<table border=\"1\" class=\"dataframe\">\n",
       "  <thead>\n",
       "    <tr style=\"text-align: right;\">\n",
       "      <th></th>\n",
       "      <th>data</th>\n",
       "      <th>p_wave_arrival</th>\n",
       "      <th>time</th>\n",
       "    </tr>\n",
       "  </thead>\n",
       "  <tbody>\n",
       "    <tr>\n",
       "      <th>0</th>\n",
       "      <td>0.011564</td>\n",
       "      <td>300.0</td>\n",
       "      <td>0.00</td>\n",
       "    </tr>\n",
       "    <tr>\n",
       "      <th>1</th>\n",
       "      <td>0.012698</td>\n",
       "      <td>300.0</td>\n",
       "      <td>0.25</td>\n",
       "    </tr>\n",
       "    <tr>\n",
       "      <th>2</th>\n",
       "      <td>0.012159</td>\n",
       "      <td>300.0</td>\n",
       "      <td>0.50</td>\n",
       "    </tr>\n",
       "    <tr>\n",
       "      <th>3</th>\n",
       "      <td>0.013744</td>\n",
       "      <td>300.0</td>\n",
       "      <td>0.75</td>\n",
       "    </tr>\n",
       "    <tr>\n",
       "      <th>4</th>\n",
       "      <td>0.013187</td>\n",
       "      <td>300.0</td>\n",
       "      <td>1.00</td>\n",
       "    </tr>\n",
       "    <tr>\n",
       "      <th>...</th>\n",
       "      <td>...</td>\n",
       "      <td>...</td>\n",
       "      <td>...</td>\n",
       "    </tr>\n",
       "    <tr>\n",
       "      <th>59698396</th>\n",
       "      <td>0.005810</td>\n",
       "      <td>0.0</td>\n",
       "      <td>14924599.00</td>\n",
       "    </tr>\n",
       "    <tr>\n",
       "      <th>59698397</th>\n",
       "      <td>0.009254</td>\n",
       "      <td>0.0</td>\n",
       "      <td>14924599.25</td>\n",
       "    </tr>\n",
       "    <tr>\n",
       "      <th>59698398</th>\n",
       "      <td>0.005633</td>\n",
       "      <td>0.0</td>\n",
       "      <td>14924599.50</td>\n",
       "    </tr>\n",
       "    <tr>\n",
       "      <th>59698399</th>\n",
       "      <td>0.008816</td>\n",
       "      <td>0.0</td>\n",
       "      <td>14924599.75</td>\n",
       "    </tr>\n",
       "    <tr>\n",
       "      <th>59698400</th>\n",
       "      <td>0.005421</td>\n",
       "      <td>0.0</td>\n",
       "      <td>14924600.00</td>\n",
       "    </tr>\n",
       "  </tbody>\n",
       "</table>\n",
       "<p>59698401 rows × 3 columns</p>\n",
       "</div>"
      ],
      "text/plain": [
       "              data  p_wave_arrival         time\n",
       "0         0.011564           300.0         0.00\n",
       "1         0.012698           300.0         0.25\n",
       "2         0.012159           300.0         0.50\n",
       "3         0.013744           300.0         0.75\n",
       "4         0.013187           300.0         1.00\n",
       "...            ...             ...          ...\n",
       "59698396  0.005810             0.0  14924599.00\n",
       "59698397  0.009254             0.0  14924599.25\n",
       "59698398  0.005633             0.0  14924599.50\n",
       "59698399  0.008816             0.0  14924599.75\n",
       "59698400  0.005421             0.0  14924600.00\n",
       "\n",
       "[59698401 rows x 3 columns]"
      ]
     },
     "execution_count": 1,
     "metadata": {},
     "output_type": "execute_result"
    }
   ],
   "source": [
    "import pandas as pd\n",
    "import numpy as np\n",
    "import matplotlib.pyplot as plt\n",
    "\n",
    "import torch\n",
    "import torch.nn as nn\n",
    "\n",
    "from tqdm import tqdm\n",
    "\n",
    "data = pd.read_csv('/kaggle/input/earthquake-time-vs-velocity-dataset/space_app_not_continuous.csv')\n",
    "\n",
    "data"
   ]
  },
  {
   "cell_type": "code",
   "execution_count": 2,
   "id": "7c1a9780",
   "metadata": {
    "execution": {
     "iopub.execute_input": "2024-10-04T17:01:44.701345Z",
     "iopub.status.busy": "2024-10-04T17:01:44.700945Z",
     "iopub.status.idle": "2024-10-04T17:01:44.763061Z",
     "shell.execute_reply": "2024-10-04T17:01:44.762041Z"
    },
    "id": "9akB333XcFJ6",
    "outputId": "2e8630de-1369-4281-d87c-9634ed90ba97",
    "papermill": {
     "duration": 0.075899,
     "end_time": "2024-10-04T17:01:44.765302",
     "exception": false,
     "start_time": "2024-10-04T17:01:44.689403",
     "status": "completed"
    },
    "tags": []
   },
   "outputs": [
    {
     "data": {
      "text/plain": [
       "'cuda:0'"
      ]
     },
     "execution_count": 2,
     "metadata": {},
     "output_type": "execute_result"
    }
   ],
   "source": [
    "device = 'cuda:0' if torch.cuda.is_available() else 'cpu'\n",
    "device"
   ]
  },
  {
   "cell_type": "code",
   "execution_count": 3,
   "id": "dde0033f",
   "metadata": {
    "execution": {
     "iopub.execute_input": "2024-10-04T17:01:44.787541Z",
     "iopub.status.busy": "2024-10-04T17:01:44.787186Z",
     "iopub.status.idle": "2024-10-04T17:01:45.243930Z",
     "shell.execute_reply": "2024-10-04T17:01:45.242913Z"
    },
    "papermill": {
     "duration": 0.470481,
     "end_time": "2024-10-04T17:01:45.246175",
     "exception": false,
     "start_time": "2024-10-04T17:01:44.775694",
     "status": "completed"
    },
    "tags": []
   },
   "outputs": [
    {
     "data": {
      "text/html": [
       "<div>\n",
       "<style scoped>\n",
       "    .dataframe tbody tr th:only-of-type {\n",
       "        vertical-align: middle;\n",
       "    }\n",
       "\n",
       "    .dataframe tbody tr th {\n",
       "        vertical-align: top;\n",
       "    }\n",
       "\n",
       "    .dataframe thead th {\n",
       "        text-align: right;\n",
       "    }\n",
       "</style>\n",
       "<table border=\"1\" class=\"dataframe\">\n",
       "  <thead>\n",
       "    <tr style=\"text-align: right;\">\n",
       "      <th></th>\n",
       "      <th>p_wave_arrival</th>\n",
       "      <th>time</th>\n",
       "      <th>data</th>\n",
       "    </tr>\n",
       "  </thead>\n",
       "  <tbody>\n",
       "    <tr>\n",
       "      <th>0</th>\n",
       "      <td>300.0</td>\n",
       "      <td>0.00</td>\n",
       "      <td>0.011564</td>\n",
       "    </tr>\n",
       "    <tr>\n",
       "      <th>1</th>\n",
       "      <td>300.0</td>\n",
       "      <td>0.25</td>\n",
       "      <td>0.012698</td>\n",
       "    </tr>\n",
       "    <tr>\n",
       "      <th>2</th>\n",
       "      <td>300.0</td>\n",
       "      <td>0.50</td>\n",
       "      <td>0.012159</td>\n",
       "    </tr>\n",
       "    <tr>\n",
       "      <th>3</th>\n",
       "      <td>300.0</td>\n",
       "      <td>0.75</td>\n",
       "      <td>0.013744</td>\n",
       "    </tr>\n",
       "    <tr>\n",
       "      <th>4</th>\n",
       "      <td>300.0</td>\n",
       "      <td>1.00</td>\n",
       "      <td>0.013187</td>\n",
       "    </tr>\n",
       "    <tr>\n",
       "      <th>...</th>\n",
       "      <td>...</td>\n",
       "      <td>...</td>\n",
       "      <td>...</td>\n",
       "    </tr>\n",
       "    <tr>\n",
       "      <th>59698396</th>\n",
       "      <td>0.0</td>\n",
       "      <td>14924599.00</td>\n",
       "      <td>0.005810</td>\n",
       "    </tr>\n",
       "    <tr>\n",
       "      <th>59698397</th>\n",
       "      <td>0.0</td>\n",
       "      <td>14924599.25</td>\n",
       "      <td>0.009254</td>\n",
       "    </tr>\n",
       "    <tr>\n",
       "      <th>59698398</th>\n",
       "      <td>0.0</td>\n",
       "      <td>14924599.50</td>\n",
       "      <td>0.005633</td>\n",
       "    </tr>\n",
       "    <tr>\n",
       "      <th>59698399</th>\n",
       "      <td>0.0</td>\n",
       "      <td>14924599.75</td>\n",
       "      <td>0.008816</td>\n",
       "    </tr>\n",
       "    <tr>\n",
       "      <th>59698400</th>\n",
       "      <td>0.0</td>\n",
       "      <td>14924600.00</td>\n",
       "      <td>0.005421</td>\n",
       "    </tr>\n",
       "  </tbody>\n",
       "</table>\n",
       "<p>59698401 rows × 3 columns</p>\n",
       "</div>"
      ],
      "text/plain": [
       "          p_wave_arrival         time      data\n",
       "0                  300.0         0.00  0.011564\n",
       "1                  300.0         0.25  0.012698\n",
       "2                  300.0         0.50  0.012159\n",
       "3                  300.0         0.75  0.013744\n",
       "4                  300.0         1.00  0.013187\n",
       "...                  ...          ...       ...\n",
       "59698396             0.0  14924599.00  0.005810\n",
       "59698397             0.0  14924599.25  0.009254\n",
       "59698398             0.0  14924599.50  0.005633\n",
       "59698399             0.0  14924599.75  0.008816\n",
       "59698400             0.0  14924600.00  0.005421\n",
       "\n",
       "[59698401 rows x 3 columns]"
      ]
     },
     "execution_count": 3,
     "metadata": {},
     "output_type": "execute_result"
    }
   ],
   "source": [
    "data = data[['p_wave_arrival','time','data']]\n",
    "data"
   ]
  },
  {
   "cell_type": "code",
   "execution_count": 4,
   "id": "8c2eabb3",
   "metadata": {
    "execution": {
     "iopub.execute_input": "2024-10-04T17:01:45.269374Z",
     "iopub.status.busy": "2024-10-04T17:01:45.269036Z",
     "iopub.status.idle": "2024-10-04T17:01:45.275068Z",
     "shell.execute_reply": "2024-10-04T17:01:45.274206Z"
    },
    "papermill": {
     "duration": 0.020148,
     "end_time": "2024-10-04T17:01:45.277094",
     "exception": false,
     "start_time": "2024-10-04T17:01:45.256946",
     "status": "completed"
    },
    "tags": []
   },
   "outputs": [
    {
     "data": {
      "text/plain": [
       "11939680"
      ]
     },
     "execution_count": 4,
     "metadata": {},
     "output_type": "execute_result"
    }
   ],
   "source": [
    "idx = int(59698401/5)\n",
    "idx"
   ]
  },
  {
   "cell_type": "code",
   "execution_count": 5,
   "id": "eb39e1d0",
   "metadata": {
    "execution": {
     "iopub.execute_input": "2024-10-04T17:01:45.299577Z",
     "iopub.status.busy": "2024-10-04T17:01:45.299262Z",
     "iopub.status.idle": "2024-10-04T17:01:45.304015Z",
     "shell.execute_reply": "2024-10-04T17:01:45.303068Z"
    },
    "papermill": {
     "duration": 0.018253,
     "end_time": "2024-10-04T17:01:45.306054",
     "exception": false,
     "start_time": "2024-10-04T17:01:45.287801",
     "status": "completed"
    },
    "tags": []
   },
   "outputs": [],
   "source": [
    "shifted_df = data[idx:2*idx]"
   ]
  },
  {
   "cell_type": "code",
   "execution_count": 6,
   "id": "7cd7d7d0",
   "metadata": {
    "execution": {
     "iopub.execute_input": "2024-10-04T17:01:45.329335Z",
     "iopub.status.busy": "2024-10-04T17:01:45.329003Z",
     "iopub.status.idle": "2024-10-04T17:01:45.342778Z",
     "shell.execute_reply": "2024-10-04T17:01:45.341764Z"
    },
    "papermill": {
     "duration": 0.027963,
     "end_time": "2024-10-04T17:01:45.344896",
     "exception": false,
     "start_time": "2024-10-04T17:01:45.316933",
     "status": "completed"
    },
    "tags": []
   },
   "outputs": [
    {
     "data": {
      "text/html": [
       "<div>\n",
       "<style scoped>\n",
       "    .dataframe tbody tr th:only-of-type {\n",
       "        vertical-align: middle;\n",
       "    }\n",
       "\n",
       "    .dataframe tbody tr th {\n",
       "        vertical-align: top;\n",
       "    }\n",
       "\n",
       "    .dataframe thead th {\n",
       "        text-align: right;\n",
       "    }\n",
       "</style>\n",
       "<table border=\"1\" class=\"dataframe\">\n",
       "  <thead>\n",
       "    <tr style=\"text-align: right;\">\n",
       "      <th></th>\n",
       "      <th>p_wave_arrival</th>\n",
       "      <th>time</th>\n",
       "      <th>data</th>\n",
       "    </tr>\n",
       "  </thead>\n",
       "  <tbody>\n",
       "    <tr>\n",
       "      <th>23819360</th>\n",
       "      <td>5957216.25</td>\n",
       "      <td>5954840.00</td>\n",
       "      <td>0.021539</td>\n",
       "    </tr>\n",
       "    <tr>\n",
       "      <th>23819361</th>\n",
       "      <td>5957216.25</td>\n",
       "      <td>5954840.25</td>\n",
       "      <td>0.003940</td>\n",
       "    </tr>\n",
       "    <tr>\n",
       "      <th>23819362</th>\n",
       "      <td>5957216.25</td>\n",
       "      <td>5954840.50</td>\n",
       "      <td>-0.020444</td>\n",
       "    </tr>\n",
       "    <tr>\n",
       "      <th>23819363</th>\n",
       "      <td>5957216.25</td>\n",
       "      <td>5954840.75</td>\n",
       "      <td>-0.028070</td>\n",
       "    </tr>\n",
       "    <tr>\n",
       "      <th>23819364</th>\n",
       "      <td>5957216.25</td>\n",
       "      <td>5954841.00</td>\n",
       "      <td>-0.008044</td>\n",
       "    </tr>\n",
       "    <tr>\n",
       "      <th>...</th>\n",
       "      <td>...</td>\n",
       "      <td>...</td>\n",
       "      <td>...</td>\n",
       "    </tr>\n",
       "    <tr>\n",
       "      <th>23879355</th>\n",
       "      <td>5972916.25</td>\n",
       "      <td>5969838.75</td>\n",
       "      <td>-0.043591</td>\n",
       "    </tr>\n",
       "    <tr>\n",
       "      <th>23879356</th>\n",
       "      <td>5972916.25</td>\n",
       "      <td>5969839.00</td>\n",
       "      <td>-0.069628</td>\n",
       "    </tr>\n",
       "    <tr>\n",
       "      <th>23879357</th>\n",
       "      <td>5972916.25</td>\n",
       "      <td>5969839.25</td>\n",
       "      <td>-0.081359</td>\n",
       "    </tr>\n",
       "    <tr>\n",
       "      <th>23879358</th>\n",
       "      <td>5972916.25</td>\n",
       "      <td>5969839.50</td>\n",
       "      <td>-0.103934</td>\n",
       "    </tr>\n",
       "    <tr>\n",
       "      <th>23879359</th>\n",
       "      <td>5972916.25</td>\n",
       "      <td>5969839.75</td>\n",
       "      <td>-0.118743</td>\n",
       "    </tr>\n",
       "  </tbody>\n",
       "</table>\n",
       "<p>60000 rows × 3 columns</p>\n",
       "</div>"
      ],
      "text/plain": [
       "          p_wave_arrival        time      data\n",
       "23819360      5957216.25  5954840.00  0.021539\n",
       "23819361      5957216.25  5954840.25  0.003940\n",
       "23819362      5957216.25  5954840.50 -0.020444\n",
       "23819363      5957216.25  5954840.75 -0.028070\n",
       "23819364      5957216.25  5954841.00 -0.008044\n",
       "...                  ...         ...       ...\n",
       "23879355      5972916.25  5969838.75 -0.043591\n",
       "23879356      5972916.25  5969839.00 -0.069628\n",
       "23879357      5972916.25  5969839.25 -0.081359\n",
       "23879358      5972916.25  5969839.50 -0.103934\n",
       "23879359      5972916.25  5969839.75 -0.118743\n",
       "\n",
       "[60000 rows x 3 columns]"
      ]
     },
     "execution_count": 6,
     "metadata": {},
     "output_type": "execute_result"
    }
   ],
   "source": [
    "shifted_df[-60000:]"
   ]
  },
  {
   "cell_type": "code",
   "execution_count": 7,
   "id": "2def3d2a",
   "metadata": {
    "execution": {
     "iopub.execute_input": "2024-10-04T17:01:45.369475Z",
     "iopub.status.busy": "2024-10-04T17:01:45.368585Z",
     "iopub.status.idle": "2024-10-04T17:01:45.667710Z",
     "shell.execute_reply": "2024-10-04T17:01:45.666716Z"
    },
    "papermill": {
     "duration": 0.314112,
     "end_time": "2024-10-04T17:01:45.670144",
     "exception": false,
     "start_time": "2024-10-04T17:01:45.356032",
     "status": "completed"
    },
    "tags": []
   },
   "outputs": [
    {
     "data": {
      "text/plain": [
       "[<matplotlib.lines.Line2D at 0x7bd420438940>]"
      ]
     },
     "execution_count": 7,
     "metadata": {},
     "output_type": "execute_result"
    },
    {
     "data": {
      "image/png": "[encoded data removed]",
      "text/plain": [
       "<Figure size 640x480 with 1 Axes>"
      ]
     },
     "metadata": {},
     "output_type": "display_data"
    }
   ],
   "source": [
    "import matplotlib.pyplot as plt\n",
    "plt.plot(shifted_df[-90000:].time,shifted_df[-90000:].data)"
   ]
  },
  {
   "cell_type": "code",
   "execution_count": 8,
   "id": "c7ad1040",
   "metadata": {
    "execution": {
     "iopub.execute_input": "2024-10-04T17:01:45.697213Z",
     "iopub.status.busy": "2024-10-04T17:01:45.696370Z",
     "iopub.status.idle": "2024-10-04T17:01:45.704092Z",
     "shell.execute_reply": "2024-10-04T17:01:45.702959Z"
    },
    "id": "yWcD1tHjfAU-",
    "outputId": "e10f8cdf-7b44-4c1a-d0a2-9007aac1685c",
    "papermill": {
     "duration": 0.023882,
     "end_time": "2024-10-04T17:01:45.706262",
     "exception": false,
     "start_time": "2024-10-04T17:01:45.682380",
     "status": "completed"
    },
    "tags": []
   },
   "outputs": [
    {
     "data": {
      "text/plain": [
       "array([[ 2.98526675e+06,  2.98492000e+06, -5.96323171e-02],\n",
       "       [ 2.98526675e+06,  2.98492025e+06, -5.99027585e-02],\n",
       "       [ 2.98526675e+06,  2.98492050e+06, -5.97429950e-02],\n",
       "       ...,\n",
       "       [ 5.97291625e+06,  5.96983925e+06, -8.13586557e-02],\n",
       "       [ 5.97291625e+06,  5.96983950e+06, -1.03934247e-01],\n",
       "       [ 5.97291625e+06,  5.96983975e+06, -1.18742597e-01]])"
      ]
     },
     "execution_count": 8,
     "metadata": {},
     "output_type": "execute_result"
    }
   ],
   "source": [
    "shifted_df_as_np = shifted_df.to_numpy()\n",
    "\n",
    "shifted_df_as_np"
   ]
  },
  {
   "cell_type": "code",
   "execution_count": 9,
   "id": "c2adc909",
   "metadata": {
    "execution": {
     "iopub.execute_input": "2024-10-04T17:01:45.732641Z",
     "iopub.status.busy": "2024-10-04T17:01:45.732223Z",
     "iopub.status.idle": "2024-10-04T17:01:45.738722Z",
     "shell.execute_reply": "2024-10-04T17:01:45.737751Z"
    },
    "id": "Pq2p3opGELA_",
    "outputId": "5cb2ff07-5d8f-4117-eafd-6a3c5663c6ff",
    "papermill": {
     "duration": 0.022007,
     "end_time": "2024-10-04T17:01:45.740830",
     "exception": false,
     "start_time": "2024-10-04T17:01:45.718823",
     "status": "completed"
    },
    "tags": []
   },
   "outputs": [
    {
     "data": {
      "text/plain": [
       "(11939680, 3)"
      ]
     },
     "execution_count": 9,
     "metadata": {},
     "output_type": "execute_result"
    }
   ],
   "source": [
    "shifted_df_as_np.shape"
   ]
  },
  {
   "cell_type": "code",
   "execution_count": 10,
   "id": "4d98e8dd",
   "metadata": {
    "execution": {
     "iopub.execute_input": "2024-10-04T17:01:45.768636Z",
     "iopub.status.busy": "2024-10-04T17:01:45.767757Z",
     "iopub.status.idle": "2024-10-04T17:01:45.772448Z",
     "shell.execute_reply": "2024-10-04T17:01:45.771456Z"
    },
    "id": "pXHkuFeafNUU",
    "outputId": "a67d1f79-d279-4c96-e40f-0d9a5f9f7d7d",
    "papermill": {
     "duration": 0.021123,
     "end_time": "2024-10-04T17:01:45.774790",
     "exception": false,
     "start_time": "2024-10-04T17:01:45.753667",
     "status": "completed"
    },
    "tags": []
   },
   "outputs": [],
   "source": [
    "# from sklearn.preprocessing import MinMaxScaler\n",
    "\n",
    "# scaler = MinMaxScaler(feature_range=(-1, 1))\n",
    "# shifted_df_as_np = scaler.fit_transform(shifted_df_as_np)\n",
    "\n",
    "# shifted_df_as_np"
   ]
  },
  {
   "cell_type": "code",
   "execution_count": 11,
   "id": "d484506f",
   "metadata": {
    "execution": {
     "iopub.execute_input": "2024-10-04T17:01:45.801776Z",
     "iopub.status.busy": "2024-10-04T17:01:45.801380Z",
     "iopub.status.idle": "2024-10-04T17:01:45.808489Z",
     "shell.execute_reply": "2024-10-04T17:01:45.807526Z"
    },
    "id": "Iui9unuTfxOe",
    "outputId": "642f093d-5071-43ef-fb9c-4c54061aec3e",
    "papermill": {
     "duration": 0.023208,
     "end_time": "2024-10-04T17:01:45.810726",
     "exception": false,
     "start_time": "2024-10-04T17:01:45.787518",
     "status": "completed"
    },
    "tags": []
   },
   "outputs": [
    {
     "data": {
      "text/plain": [
       "((11939680, 2), (11939680,))"
      ]
     },
     "execution_count": 11,
     "metadata": {},
     "output_type": "execute_result"
    }
   ],
   "source": [
    "X = shifted_df_as_np[:, 1:]\n",
    "y = shifted_df_as_np[:, 0]\n",
    "\n",
    "X.shape, y.shape"
   ]
  },
  {
   "cell_type": "code",
   "execution_count": 12,
   "id": "7e10f5aa",
   "metadata": {
    "execution": {
     "iopub.execute_input": "2024-10-04T17:01:45.837810Z",
     "iopub.status.busy": "2024-10-04T17:01:45.837444Z",
     "iopub.status.idle": "2024-10-04T17:01:45.872938Z",
     "shell.execute_reply": "2024-10-04T17:01:45.871934Z"
    },
    "papermill": {
     "duration": 0.051601,
     "end_time": "2024-10-04T17:01:45.875460",
     "exception": false,
     "start_time": "2024-10-04T17:01:45.823859",
     "status": "completed"
    },
    "tags": []
   },
   "outputs": [
    {
     "data": {
      "text/plain": [
       "0.007134493976596636"
      ]
     },
     "execution_count": 12,
     "metadata": {},
     "output_type": "execute_result"
    }
   ],
   "source": [
    "shifted_df.data.mean()"
   ]
  },
  {
   "cell_type": "code",
   "execution_count": 13,
   "id": "6a8257ce",
   "metadata": {
    "execution": {
     "iopub.execute_input": "2024-10-04T17:01:45.903639Z",
     "iopub.status.busy": "2024-10-04T17:01:45.902985Z",
     "iopub.status.idle": "2024-10-04T17:10:48.875788Z",
     "shell.execute_reply": "2024-10-04T17:10:48.874442Z"
    },
    "papermill": {
     "duration": 542.98937,
     "end_time": "2024-10-04T17:10:48.878343",
     "exception": false,
     "start_time": "2024-10-04T17:01:45.888973",
     "status": "completed"
    },
    "tags": []
   },
   "outputs": [
    {
     "name": "stderr",
     "output_type": "stream",
     "text": [
      "100%|██████████| 11939680/11939680 [09:02<00:00, 21990.08it/s]\n"
     ]
    }
   ],
   "source": [
    "prev = 5\n",
    "nxt = 20\n",
    "mul = 10\n",
    "ln = len(X)\n",
    "ls = []\n",
    "for i in tqdm(range(len(X))):\n",
    "    tem = []\n",
    "    for j in range(1,prev+1):\n",
    "        vl = i-mul*j\n",
    "        if(vl>-1):\n",
    "            tem.append(X[vl])\n",
    "        else:\n",
    "            tem.append([shifted_df.time.mean(),shifted_df.data.mean()])\n",
    "    tem = tem[::-1]\n",
    "    tem.append(X[i])\n",
    "    for j in range(1,nxt+1):\n",
    "        vl = i+mul*j\n",
    "        if(vl<ln):\n",
    "            tem.append(X[vl])\n",
    "        else:\n",
    "            tem.append([shifted_df.time.mean(),shifted_df.data.mean()])\n",
    "    ls.append(np.array(tem))\n",
    "    ls[:2]"
   ]
  },
  {
   "cell_type": "code",
   "execution_count": 14,
   "id": "ab086021",
   "metadata": {
    "execution": {
     "iopub.execute_input": "2024-10-04T17:10:49.640890Z",
     "iopub.status.busy": "2024-10-04T17:10:49.640464Z",
     "iopub.status.idle": "2024-10-04T17:10:59.001937Z",
     "shell.execute_reply": "2024-10-04T17:10:59.000821Z"
    },
    "id": "XmbIqwj-E0cv",
    "outputId": "48ccc3a1-1b5c-49fd-ae2f-3f8b143fbb4c",
    "papermill": {
     "duration": 9.751434,
     "end_time": "2024-10-04T17:10:59.004464",
     "exception": false,
     "start_time": "2024-10-04T17:10:49.253030",
     "status": "completed"
    },
    "tags": []
   },
   "outputs": [
    {
     "data": {
      "text/plain": [
       "array([2985266.75, 2985266.75, 2985266.75, 2985266.75, 2985266.75,\n",
       "       2985266.75, 2985266.75, 2985266.75, 2985266.75, 2985266.75])"
      ]
     },
     "execution_count": 14,
     "metadata": {},
     "output_type": "execute_result"
    }
   ],
   "source": [
    "from copy import deepcopy as dc\n",
    "# X = dc(np.flip(X, axis=1))\n",
    "X = np.array(ls)\n",
    "y[:10]"
   ]
  },
  {
   "cell_type": "code",
   "execution_count": 15,
   "id": "fcbaee84",
   "metadata": {
    "execution": {
     "iopub.execute_input": "2024-10-04T17:10:59.851960Z",
     "iopub.status.busy": "2024-10-04T17:10:59.851525Z",
     "iopub.status.idle": "2024-10-04T17:10:59.858585Z",
     "shell.execute_reply": "2024-10-04T17:10:59.857566Z"
    },
    "id": "GCHslawXgE21",
    "outputId": "a2e50719-a1fb-460e-9ce4-9dd873642765",
    "papermill": {
     "duration": 0.420939,
     "end_time": "2024-10-04T17:10:59.861022",
     "exception": false,
     "start_time": "2024-10-04T17:10:59.440083",
     "status": "completed"
    },
    "tags": []
   },
   "outputs": [
    {
     "data": {
      "text/plain": [
       "11342696"
      ]
     },
     "execution_count": 15,
     "metadata": {},
     "output_type": "execute_result"
    }
   ],
   "source": [
    "split_index = int(len(X) * 0.95)\n",
    "\n",
    "split_index"
   ]
  },
  {
   "cell_type": "code",
   "execution_count": 16,
   "id": "d20264eb",
   "metadata": {
    "execution": {
     "iopub.execute_input": "2024-10-04T17:11:00.680757Z",
     "iopub.status.busy": "2024-10-04T17:11:00.679754Z",
     "iopub.status.idle": "2024-10-04T17:11:00.688069Z",
     "shell.execute_reply": "2024-10-04T17:11:00.687098Z"
    },
    "id": "hhGMh_nAgiST",
    "outputId": "aeb231ef-e124-4821-f4ee-dbb2275c0f98",
    "papermill": {
     "duration": 0.423451,
     "end_time": "2024-10-04T17:11:00.690515",
     "exception": false,
     "start_time": "2024-10-04T17:11:00.267064",
     "status": "completed"
    },
    "tags": []
   },
   "outputs": [
    {
     "data": {
      "text/plain": [
       "((11342696, 26, 2), (596984, 26, 2), (11342696,), (596984,))"
      ]
     },
     "execution_count": 16,
     "metadata": {},
     "output_type": "execute_result"
    }
   ],
   "source": [
    "X_train = X[:split_index]\n",
    "X_test = X[split_index:]\n",
    "\n",
    "y_train = y[:split_index]\n",
    "y_test = y[split_index:]\n",
    "\n",
    "X_train.shape, X_test.shape, y_train.shape, y_test.shape"
   ]
  },
  {
   "cell_type": "code",
   "execution_count": 17,
   "id": "67329a36",
   "metadata": {
    "execution": {
     "iopub.execute_input": "2024-10-04T17:11:01.535584Z",
     "iopub.status.busy": "2024-10-04T17:11:01.535129Z",
     "iopub.status.idle": "2024-10-04T17:11:01.543236Z",
     "shell.execute_reply": "2024-10-04T17:11:01.542282Z"
    },
    "id": "Muqs9hKYhMUS",
    "outputId": "d35136a0-5855-4bfb-b66b-b8f7a1a8ea96",
    "papermill": {
     "duration": 0.458588,
     "end_time": "2024-10-04T17:11:01.545436",
     "exception": false,
     "start_time": "2024-10-04T17:11:01.086848",
     "status": "completed"
    },
    "tags": []
   },
   "outputs": [
    {
     "data": {
      "text/plain": [
       "((11342696, 26, 2), (596984, 26, 2), (11342696, 1), (596984, 1))"
      ]
     },
     "execution_count": 17,
     "metadata": {},
     "output_type": "execute_result"
    }
   ],
   "source": [
    "# lookback=2\n",
    "# X_train = X_train.reshape((-1, lookback, 1))\n",
    "# X_test = X_test.reshape((-1, lookback, 1))\n",
    "\n",
    "y_train = y_train.reshape((-1, 1))\n",
    "y_test = y_test.reshape((-1, 1))\n",
    "\n",
    "X_train.shape, X_test.shape, y_train.shape, y_test.shape"
   ]
  },
  {
   "cell_type": "code",
   "execution_count": 18,
   "id": "a2673c57",
   "metadata": {
    "execution": {
     "iopub.execute_input": "2024-10-04T17:11:02.404827Z",
     "iopub.status.busy": "2024-10-04T17:11:02.404406Z",
     "iopub.status.idle": "2024-10-04T17:11:06.045749Z",
     "shell.execute_reply": "2024-10-04T17:11:06.044650Z"
    },
    "id": "i7-PBcrMhR7z",
    "outputId": "b01a297a-75d6-4573-e450-a3545360112e",
    "papermill": {
     "duration": 4.10042,
     "end_time": "2024-10-04T17:11:06.048376",
     "exception": false,
     "start_time": "2024-10-04T17:11:01.947956",
     "status": "completed"
    },
    "tags": []
   },
   "outputs": [
    {
     "data": {
      "text/plain": [
       "(torch.Size([11342696, 26, 2]),\n",
       " torch.Size([596984, 26, 2]),\n",
       " torch.Size([11342696, 1]),\n",
       " torch.Size([596984, 1]))"
      ]
     },
     "execution_count": 18,
     "metadata": {},
     "output_type": "execute_result"
    }
   ],
   "source": [
    "X_train = torch.tensor(X_train).float()\n",
    "y_train = torch.tensor(y_train).float()\n",
    "X_test = torch.tensor(X_test).float()\n",
    "y_test = torch.tensor(y_test).float()\n",
    "\n",
    "X_train.shape, X_test.shape, y_train.shape, y_test.shape"
   ]
  },
  {
   "cell_type": "code",
   "execution_count": 19,
   "id": "cc5caea9",
   "metadata": {
    "execution": {
     "iopub.execute_input": "2024-10-04T17:11:06.895121Z",
     "iopub.status.busy": "2024-10-04T17:11:06.894678Z",
     "iopub.status.idle": "2024-10-04T17:11:06.901758Z",
     "shell.execute_reply": "2024-10-04T17:11:06.900774Z"
    },
    "id": "DWutCAGKhdqU",
    "papermill": {
     "duration": 0.417085,
     "end_time": "2024-10-04T17:11:06.903909",
     "exception": false,
     "start_time": "2024-10-04T17:11:06.486824",
     "status": "completed"
    },
    "tags": []
   },
   "outputs": [],
   "source": [
    "from torch.utils.data import Dataset\n",
    "\n",
    "class TimeSeriesDataset(Dataset):\n",
    "    def __init__(self, X, y):\n",
    "        self.X = X\n",
    "        self.y = y\n",
    "\n",
    "    def __len__(self):\n",
    "        return len(self.X)\n",
    "\n",
    "    def __getitem__(self, i):\n",
    "        return self.X[i], self.y[i]\n",
    "\n",
    "train_dataset = TimeSeriesDataset(X_train, y_train)\n",
    "test_dataset = TimeSeriesDataset(X_test, y_test)"
   ]
  },
  {
   "cell_type": "code",
   "execution_count": 20,
   "id": "f99ddbf9",
   "metadata": {
    "execution": {
     "iopub.execute_input": "2024-10-04T17:11:07.718435Z",
     "iopub.status.busy": "2024-10-04T17:11:07.717988Z",
     "iopub.status.idle": "2024-10-04T17:11:07.724769Z",
     "shell.execute_reply": "2024-10-04T17:11:07.723750Z"
    },
    "id": "12OWUTa5ijoq",
    "outputId": "0928d3c2-d181-4035-cc57-a2ac6ce38075",
    "papermill": {
     "duration": 0.41375,
     "end_time": "2024-10-04T17:11:07.727004",
     "exception": false,
     "start_time": "2024-10-04T17:11:07.313254",
     "status": "completed"
    },
    "tags": []
   },
   "outputs": [
    {
     "data": {
      "text/plain": [
       "<__main__.TimeSeriesDataset at 0x7bd41ea9fdf0>"
      ]
     },
     "execution_count": 20,
     "metadata": {},
     "output_type": "execute_result"
    }
   ],
   "source": [
    "train_dataset"
   ]
  },
  {
   "cell_type": "code",
   "execution_count": 21,
   "id": "df9d01d5",
   "metadata": {
    "execution": {
     "iopub.execute_input": "2024-10-04T17:11:08.584721Z",
     "iopub.status.busy": "2024-10-04T17:11:08.583995Z",
     "iopub.status.idle": "2024-10-04T17:11:08.590229Z",
     "shell.execute_reply": "2024-10-04T17:11:08.589200Z"
    },
    "id": "XYsUmPl3ik46",
    "papermill": {
     "duration": 0.465576,
     "end_time": "2024-10-04T17:11:08.592454",
     "exception": false,
     "start_time": "2024-10-04T17:11:08.126878",
     "status": "completed"
    },
    "tags": []
   },
   "outputs": [],
   "source": [
    "from torch.utils.data import DataLoader\n",
    "\n",
    "batch_size = 128\n",
    "\n",
    "train_loader = DataLoader(train_dataset, batch_size=batch_size, shuffle=True)\n",
    "test_loader = DataLoader(test_dataset, batch_size=batch_size, shuffle=False)"
   ]
  },
  {
   "cell_type": "code",
   "execution_count": 22,
   "id": "7e27848a",
   "metadata": {
    "execution": {
     "iopub.execute_input": "2024-10-04T17:11:09.392733Z",
     "iopub.status.busy": "2024-10-04T17:11:09.391985Z",
     "iopub.status.idle": "2024-10-04T17:11:11.235099Z",
     "shell.execute_reply": "2024-10-04T17:11:11.233672Z"
    },
    "id": "TJTnbgBDjOSK",
    "outputId": "51226616-d4de-4a22-f4d9-576fd3e8bfba",
    "papermill": {
     "duration": 2.246263,
     "end_time": "2024-10-04T17:11:11.237660",
     "exception": false,
     "start_time": "2024-10-04T17:11:08.991397",
     "status": "completed"
    },
    "tags": []
   },
   "outputs": [
    {
     "name": "stdout",
     "output_type": "stream",
     "text": [
      "torch.Size([128, 26, 2]) torch.Size([128, 1])\n"
     ]
    }
   ],
   "source": [
    "for _, batch in enumerate(train_loader):\n",
    "    x_batch, y_batch = batch[0].to(device), batch[1].to(device)\n",
    "    print(x_batch.shape, y_batch.shape)\n",
    "    break"
   ]
  },
  {
   "cell_type": "code",
   "execution_count": 23,
   "id": "98055771",
   "metadata": {
    "execution": {
     "iopub.execute_input": "2024-10-04T17:11:12.039631Z",
     "iopub.status.busy": "2024-10-04T17:11:12.039206Z",
     "iopub.status.idle": "2024-10-04T17:11:12.760032Z",
     "shell.execute_reply": "2024-10-04T17:11:12.758749Z"
    },
    "papermill": {
     "duration": 1.124601,
     "end_time": "2024-10-04T17:11:12.762342",
     "exception": false,
     "start_time": "2024-10-04T17:11:11.637741",
     "status": "completed"
    },
    "tags": []
   },
   "outputs": [
    {
     "name": "stdout",
     "output_type": "stream",
     "text": [
      "torch.Size([128, 1])\n"
     ]
    }
   ],
   "source": [
    "import torch\n",
    "import torch.nn as nn\n",
    "\n",
    "class ConvNNForEarthquake(nn.Module):\n",
    "    def __init__(self, timesteps):\n",
    "        super(ConvNNForEarthquake, self).__init__()\n",
    "        \n",
    "        self.timesteps = timesteps\n",
    "        # Dropout layer with 0.1 probability\n",
    "        self.dropout = nn.Dropout(p=0.1)\n",
    "        \n",
    "        # Define convolutional layers\n",
    "        self.conv1 = nn.Conv1d(in_channels=2, out_channels=64, kernel_size=2, padding=1)\n",
    "        self.conv2 = nn.Conv1d(in_channels=64, out_channels=128, kernel_size=3, padding=1)\n",
    "        self.conv3 = nn.Conv1d(in_channels=128, out_channels=256, kernel_size=5, padding=2)\n",
    "        \n",
    "        # Calculate the new timesteps after 3 convolution layers\n",
    "        self.flatten_size = 256 * 27  # Based on the output shape after convolutions\n",
    "        \n",
    "        # Define fully connected layers\n",
    "        self.fc1 = nn.Linear(self.flatten_size, 256)\n",
    "        self.fc2 = nn.Linear(256, 512)\n",
    "        self.fc3 = nn.Linear(512, 128)\n",
    "        self.fc4 = nn.Linear(128, 64)\n",
    "        self.fc5 = nn.Linear(64, 8)\n",
    "        self.fc6 = nn.Linear(8, 1)  # Output layer for regression\n",
    "        \n",
    "        # Activation function\n",
    "        self.relu = nn.ReLU()\n",
    "\n",
    "    def forward(self, x):\n",
    "        # Input shape: (batch_size, timesteps, 2) -> (batch_size, 2, timesteps)\n",
    "        x = x.permute(0, 2, 1)\n",
    "        \n",
    "        # Pass through convolutional layers with ReLU activations\n",
    "        x = self.relu(self.conv1(x))  # Conv1\n",
    "        x = self.relu(self.conv2(x))  # Conv2\n",
    "        x = self.relu(self.conv3(x))  # Conv3\n",
    "        \n",
    "        # Flatten after convolutions\n",
    "        x = x.view(x.size(0), -1)  # (batch_size, 256 * 27 = 6912)\n",
    "        \n",
    "        # Pass through fully connected layers\n",
    "        x = self.relu(self.fc1(x))  # 256 neurons\n",
    "        x = self.relu(self.fc2(x))  # 512 neurons\n",
    "        x = self.relu(self.fc3(x))  # 128 neurons\n",
    "        x = self.relu(self.fc4(x))  # 64 neurons\n",
    "        x = self.relu(self.fc5(x))  # 8 neurons\n",
    "        x = self.fc6(x)  # Output: 1 neuron\n",
    "        \n",
    "        return x\n",
    "\n",
    "# Example usage\n",
    "timesteps = 26\n",
    "device = torch.device(\"cuda\" if torch.cuda.is_available() else \"cpu\")\n",
    "model = ConvNNForEarthquake(timesteps).to(device)\n",
    "\n",
    "# Input: Batch of 128 samples, each with 26 timesteps, 2 features\n",
    "input_data = torch.randn(128, 26, 2).to(device)\n",
    "output = model(input_data)\n",
    "print(output.size())  # Expected output size: [128, 1]\n"
   ]
  },
  {
   "cell_type": "code",
   "execution_count": 24,
   "id": "689cadbf",
   "metadata": {
    "execution": {
     "iopub.execute_input": "2024-10-04T17:11:13.620190Z",
     "iopub.status.busy": "2024-10-04T17:11:13.619747Z",
     "iopub.status.idle": "2024-10-04T17:11:13.626116Z",
     "shell.execute_reply": "2024-10-04T17:11:13.625113Z"
    },
    "papermill": {
     "duration": 0.410198,
     "end_time": "2024-10-04T17:11:13.628527",
     "exception": false,
     "start_time": "2024-10-04T17:11:13.218329",
     "status": "completed"
    },
    "tags": []
   },
   "outputs": [],
   "source": [
    "def save_checkpoint(checkpoint,filename):\n",
    "    print(f\"=> Saving checkpoint {filename}\")\n",
    "    print('')\n",
    "    torch.save(checkpoint,filename)\n",
    "    \n",
    "\n",
    "def load_model(checkpoint):\n",
    "    print(\"=> Loading checkpoint\")\n",
    "    print('')\n",
    "    model.load_state_dict(checkpoint['state_dict'])\n",
    "    optimizer.load_state_dict(checkpoint['optimizer'])"
   ]
  },
  {
   "cell_type": "code",
   "execution_count": 25,
   "id": "e17cf0ae",
   "metadata": {
    "execution": {
     "iopub.execute_input": "2024-10-04T17:11:14.428987Z",
     "iopub.status.busy": "2024-10-04T17:11:14.428538Z",
     "iopub.status.idle": "2024-10-04T17:11:14.435964Z",
     "shell.execute_reply": "2024-10-04T17:11:14.434972Z"
    },
    "id": "iue5WvTxmVKB",
    "papermill": {
     "duration": 0.412995,
     "end_time": "2024-10-04T17:11:14.438234",
     "exception": false,
     "start_time": "2024-10-04T17:11:14.025239",
     "status": "completed"
    },
    "tags": []
   },
   "outputs": [],
   "source": [
    "def train_one_epoch():\n",
    "    model.train(True)\n",
    "    print(f'Epoch: {epoch + 1}')\n",
    "    running_loss = 0.0\n",
    "    for batch_index, batch in tqdm(enumerate(train_loader)):\n",
    "        x_batch, y_batch = batch[0].to(device), batch[1].to(device)\n",
    "\n",
    "        output = model(x_batch)\n",
    "        loss = loss_function(output, y_batch)\n",
    "        running_loss += loss.item()\n",
    "\n",
    "        optimizer.zero_grad()\n",
    "        loss.backward()\n",
    "        optimizer.step()\n",
    "\n",
    "    print(f'Loss : {running_loss/len(train_loader)}')\n",
    "    print()"
   ]
  },
  {
   "cell_type": "code",
   "execution_count": 26,
   "id": "5520edc9",
   "metadata": {
    "execution": {
     "iopub.execute_input": "2024-10-04T17:11:15.300197Z",
     "iopub.status.busy": "2024-10-04T17:11:15.299731Z",
     "iopub.status.idle": "2024-10-04T17:11:15.307186Z",
     "shell.execute_reply": "2024-10-04T17:11:15.306165Z"
    },
    "id": "gRmNuV3cmy-t",
    "papermill": {
     "duration": 0.467673,
     "end_time": "2024-10-04T17:11:15.309549",
     "exception": false,
     "start_time": "2024-10-04T17:11:14.841876",
     "status": "completed"
    },
    "tags": []
   },
   "outputs": [],
   "source": [
    "def validate_one_epoch():\n",
    "    model.train(False)\n",
    "    running_loss = 0.0\n",
    "\n",
    "    for batch_index, batch in tqdm(enumerate(test_loader)):\n",
    "        x_batch, y_batch = batch[0].to(device), batch[1].to(device)\n",
    "\n",
    "        with torch.no_grad():\n",
    "            output = model(x_batch)\n",
    "            loss = loss_function(output, y_batch)\n",
    "            running_loss += loss.item()\n",
    "\n",
    "    avg_loss_across_batches = running_loss / len(test_loader)\n",
    "\n",
    "    print('Val Loss: {0:.3f}'.format(avg_loss_across_batches))\n",
    "    print('***************************************************')\n",
    "    print()"
   ]
  },
  {
   "cell_type": "code",
   "execution_count": 27,
   "id": "3ed8a7fd",
   "metadata": {
    "execution": {
     "iopub.execute_input": "2024-10-04T17:11:16.118660Z",
     "iopub.status.busy": "2024-10-04T17:11:16.118220Z",
     "iopub.status.idle": "2024-10-04T17:11:18.041432Z",
     "shell.execute_reply": "2024-10-04T17:11:18.040323Z"
    },
    "papermill": {
     "duration": 2.334826,
     "end_time": "2024-10-04T17:11:18.044036",
     "exception": false,
     "start_time": "2024-10-04T17:11:15.709210",
     "status": "completed"
    },
    "tags": []
   },
   "outputs": [],
   "source": [
    "learning_rate = 0.001\n",
    "num_epochs = 50\n",
    "loss_function = nn.MSELoss()\n",
    "optimizer = torch.optim.Adam(model.parameters(), lr=learning_rate)"
   ]
  },
  {
   "cell_type": "code",
   "execution_count": 28,
   "id": "d150fedd",
   "metadata": {
    "execution": {
     "iopub.execute_input": "2024-10-04T17:11:18.849160Z",
     "iopub.status.busy": "2024-10-04T17:11:18.847948Z",
     "iopub.status.idle": "2024-10-04T17:11:19.051497Z",
     "shell.execute_reply": "2024-10-04T17:11:19.050334Z"
    },
    "papermill": {
     "duration": 0.611956,
     "end_time": "2024-10-04T17:11:19.054313",
     "exception": false,
     "start_time": "2024-10-04T17:11:18.442357",
     "status": "completed"
    },
    "tags": []
   },
   "outputs": [
    {
     "name": "stdout",
     "output_type": "stream",
     "text": [
      "Loading The Model form : /kaggle/input/3c-6n-fold2-epoch10/checkpoint10\n",
      "=> Loading checkpoint\n",
      "\n"
     ]
    },
    {
     "name": "stderr",
     "output_type": "stream",
     "text": [
      "/tmp/ipykernel_23/223770952.py:6: FutureWarning: You are using `torch.load` with `weights_only=False` (the current default value), which uses the default pickle module implicitly. It is possible to construct malicious pickle data which will execute arbitrary code during unpickling (See https://github.com/pytorch/pytorch/blob/main/SECURITY.md#untrusted-models for more details). In a future release, the default value for `weights_only` will be flipped to `True`. This limits the functions that could be executed during unpickling. Arbitrary objects will no longer be allowed to be loaded via this mode unless they are explicitly allowlisted by the user via `torch.serialization.add_safe_globals`. We recommend you start setting `weights_only=True` for any use case where you don't have full control of the loaded file. Please open an issue on GitHub for any issues related to this experimental feature.\n",
      "  checkpoint = torch.load(checkpointpath)\n"
     ]
    }
   ],
   "source": [
    "load_model_from_prev = True\n",
    "checkpointpath = '/kaggle/input/3c-6n-fold2-epoch10/checkpoint10'\n",
    "\n",
    "if(load_model_from_prev):\n",
    "    print(f'Loading The Model form : {checkpointpath}')\n",
    "    checkpoint = torch.load(checkpointpath)\n",
    "    load_model(checkpoint)"
   ]
  },
  {
   "cell_type": "code",
   "execution_count": 29,
   "id": "b143d6cb",
   "metadata": {
    "execution": {
     "iopub.execute_input": "2024-10-04T17:11:19.851893Z",
     "iopub.status.busy": "2024-10-04T17:11:19.850843Z",
     "iopub.status.idle": "2024-10-04T22:57:22.776860Z",
     "shell.execute_reply": "2024-10-04T22:57:22.775478Z"
    },
    "id": "1jgb1aJ3lxlQ",
    "outputId": "2a25db36-4872-44e4-feca-4d26bad49f96",
    "papermill": {
     "duration": 20763.327238,
     "end_time": "2024-10-04T22:57:22.779832",
     "exception": false,
     "start_time": "2024-10-04T17:11:19.452594",
     "status": "completed"
    },
    "tags": []
   },
   "outputs": [
    {
     "name": "stdout",
     "output_type": "stream",
     "text": [
      "Epoch: 1\n"
     ]
    },
    {
     "name": "stderr",
     "output_type": "stream",
     "text": [
      "88615it [06:40, 221.48it/s]\n"
     ]
    },
    {
     "name": "stdout",
     "output_type": "stream",
     "text": [
      "Loss : 41055671.05927608\n",
      "\n"
     ]
    },
    {
     "name": "stderr",
     "output_type": "stream",
     "text": [
      "4664it [00:09, 505.66it/s]\n"
     ]
    },
    {
     "name": "stdout",
     "output_type": "stream",
     "text": [
      "Val Loss: 67575874.053\n",
      "***************************************************\n",
      "\n",
      "=> Saving checkpoint checkpoint1\n",
      "\n",
      "Epoch: 2\n"
     ]
    },
    {
     "name": "stderr",
     "output_type": "stream",
     "text": [
      "88615it [06:54, 213.63it/s]\n"
     ]
    },
    {
     "name": "stdout",
     "output_type": "stream",
     "text": [
      "Loss : 36798970.73544547\n",
      "\n"
     ]
    },
    {
     "name": "stderr",
     "output_type": "stream",
     "text": [
      "4664it [00:09, 482.09it/s]\n"
     ]
    },
    {
     "name": "stdout",
     "output_type": "stream",
     "text": [
      "Val Loss: 241794526.561\n",
      "***************************************************\n",
      "\n",
      "=> Saving checkpoint checkpoint2\n",
      "\n",
      "Epoch: 3\n"
     ]
    },
    {
     "name": "stderr",
     "output_type": "stream",
     "text": [
      "88615it [06:45, 218.40it/s]\n"
     ]
    },
    {
     "name": "stdout",
     "output_type": "stream",
     "text": [
      "Loss : 35115765.34246177\n",
      "\n"
     ]
    },
    {
     "name": "stderr",
     "output_type": "stream",
     "text": [
      "4664it [00:09, 484.15it/s]\n"
     ]
    },
    {
     "name": "stdout",
     "output_type": "stream",
     "text": [
      "Val Loss: 118352146.089\n",
      "***************************************************\n",
      "\n",
      "=> Saving checkpoint checkpoint3\n",
      "\n",
      "Epoch: 4\n"
     ]
    },
    {
     "name": "stderr",
     "output_type": "stream",
     "text": [
      "88615it [06:51, 215.22it/s]\n"
     ]
    },
    {
     "name": "stdout",
     "output_type": "stream",
     "text": [
      "Loss : 34310352.847144954\n",
      "\n"
     ]
    },
    {
     "name": "stderr",
     "output_type": "stream",
     "text": [
      "4664it [00:09, 479.86it/s]\n"
     ]
    },
    {
     "name": "stdout",
     "output_type": "stream",
     "text": [
      "Val Loss: 78871177.782\n",
      "***************************************************\n",
      "\n",
      "=> Saving checkpoint checkpoint4\n",
      "\n",
      "Epoch: 5\n"
     ]
    },
    {
     "name": "stderr",
     "output_type": "stream",
     "text": [
      "88615it [06:50, 215.82it/s]\n"
     ]
    },
    {
     "name": "stdout",
     "output_type": "stream",
     "text": [
      "Loss : 33715026.33358912\n",
      "\n"
     ]
    },
    {
     "name": "stderr",
     "output_type": "stream",
     "text": [
      "4664it [00:09, 482.13it/s]\n"
     ]
    },
    {
     "name": "stdout",
     "output_type": "stream",
     "text": [
      "Val Loss: 61445280.458\n",
      "***************************************************\n",
      "\n",
      "=> Saving checkpoint checkpoint5\n",
      "\n",
      "Epoch: 6\n"
     ]
    },
    {
     "name": "stderr",
     "output_type": "stream",
     "text": [
      "88615it [06:50, 215.94it/s]\n"
     ]
    },
    {
     "name": "stdout",
     "output_type": "stream",
     "text": [
      "Loss : 32806008.414653275\n",
      "\n"
     ]
    },
    {
     "name": "stderr",
     "output_type": "stream",
     "text": [
      "4664it [00:09, 484.04it/s]\n"
     ]
    },
    {
     "name": "stdout",
     "output_type": "stream",
     "text": [
      "Val Loss: 113867520.513\n",
      "***************************************************\n",
      "\n",
      "=> Saving checkpoint checkpoint6\n",
      "\n",
      "Epoch: 7\n"
     ]
    },
    {
     "name": "stderr",
     "output_type": "stream",
     "text": [
      "88615it [06:45, 218.75it/s]\n"
     ]
    },
    {
     "name": "stdout",
     "output_type": "stream",
     "text": [
      "Loss : 32099123.853929922\n",
      "\n"
     ]
    },
    {
     "name": "stderr",
     "output_type": "stream",
     "text": [
      "4664it [00:09, 486.76it/s]\n"
     ]
    },
    {
     "name": "stdout",
     "output_type": "stream",
     "text": [
      "Val Loss: 86467617.799\n",
      "***************************************************\n",
      "\n",
      "=> Saving checkpoint checkpoint7\n",
      "\n",
      "Epoch: 8\n"
     ]
    },
    {
     "name": "stderr",
     "output_type": "stream",
     "text": [
      "88615it [06:42, 220.41it/s]\n"
     ]
    },
    {
     "name": "stdout",
     "output_type": "stream",
     "text": [
      "Loss : 31651014.12975794\n",
      "\n"
     ]
    },
    {
     "name": "stderr",
     "output_type": "stream",
     "text": [
      "4664it [00:09, 508.26it/s]\n"
     ]
    },
    {
     "name": "stdout",
     "output_type": "stream",
     "text": [
      "Val Loss: 83987926.361\n",
      "***************************************************\n",
      "\n",
      "=> Saving checkpoint checkpoint8\n",
      "\n",
      "Epoch: 9\n"
     ]
    },
    {
     "name": "stderr",
     "output_type": "stream",
     "text": [
      "88615it [06:48, 216.80it/s]\n"
     ]
    },
    {
     "name": "stdout",
     "output_type": "stream",
     "text": [
      "Loss : 31424946.196981322\n",
      "\n"
     ]
    },
    {
     "name": "stderr",
     "output_type": "stream",
     "text": [
      "4664it [00:09, 484.85it/s]\n"
     ]
    },
    {
     "name": "stdout",
     "output_type": "stream",
     "text": [
      "Val Loss: 123205671.991\n",
      "***************************************************\n",
      "\n",
      "=> Saving checkpoint checkpoint9\n",
      "\n",
      "Epoch: 10\n"
     ]
    },
    {
     "name": "stderr",
     "output_type": "stream",
     "text": [
      "88615it [06:42, 220.36it/s]\n"
     ]
    },
    {
     "name": "stdout",
     "output_type": "stream",
     "text": [
      "Loss : 30925560.027517915\n",
      "\n"
     ]
    },
    {
     "name": "stderr",
     "output_type": "stream",
     "text": [
      "4664it [00:09, 486.09it/s]\n"
     ]
    },
    {
     "name": "stdout",
     "output_type": "stream",
     "text": [
      "Val Loss: 147498623.444\n",
      "***************************************************\n",
      "\n",
      "=> Saving checkpoint checkpoint10\n",
      "\n",
      "Epoch: 11\n"
     ]
    },
    {
     "name": "stderr",
     "output_type": "stream",
     "text": [
      "88615it [06:43, 219.48it/s]\n"
     ]
    },
    {
     "name": "stdout",
     "output_type": "stream",
     "text": [
      "Loss : 30781309.59867968\n",
      "\n"
     ]
    },
    {
     "name": "stderr",
     "output_type": "stream",
     "text": [
      "4664it [00:09, 486.93it/s]\n"
     ]
    },
    {
     "name": "stdout",
     "output_type": "stream",
     "text": [
      "Val Loss: 125040637.966\n",
      "***************************************************\n",
      "\n",
      "=> Saving checkpoint checkpoint11\n",
      "\n",
      "Epoch: 12\n"
     ]
    },
    {
     "name": "stderr",
     "output_type": "stream",
     "text": [
      "88615it [06:41, 220.57it/s]\n"
     ]
    },
    {
     "name": "stdout",
     "output_type": "stream",
     "text": [
      "Loss : 30563690.553117417\n",
      "\n"
     ]
    },
    {
     "name": "stderr",
     "output_type": "stream",
     "text": [
      "4664it [00:09, 484.80it/s]\n"
     ]
    },
    {
     "name": "stdout",
     "output_type": "stream",
     "text": [
      "Val Loss: 109107934.880\n",
      "***************************************************\n",
      "\n",
      "=> Saving checkpoint checkpoint12\n",
      "\n",
      "Epoch: 13\n"
     ]
    },
    {
     "name": "stderr",
     "output_type": "stream",
     "text": [
      "88615it [06:52, 215.06it/s]\n"
     ]
    },
    {
     "name": "stdout",
     "output_type": "stream",
     "text": [
      "Loss : 30182742.04780229\n",
      "\n"
     ]
    },
    {
     "name": "stderr",
     "output_type": "stream",
     "text": [
      "4664it [00:09, 476.40it/s]\n"
     ]
    },
    {
     "name": "stdout",
     "output_type": "stream",
     "text": [
      "Val Loss: 143917931.611\n",
      "***************************************************\n",
      "\n",
      "=> Saving checkpoint checkpoint13\n",
      "\n",
      "Epoch: 14\n"
     ]
    },
    {
     "name": "stderr",
     "output_type": "stream",
     "text": [
      "88615it [06:58, 211.83it/s]\n"
     ]
    },
    {
     "name": "stdout",
     "output_type": "stream",
     "text": [
      "Loss : 29780397.81213113\n",
      "\n"
     ]
    },
    {
     "name": "stderr",
     "output_type": "stream",
     "text": [
      "4664it [00:09, 478.53it/s]\n"
     ]
    },
    {
     "name": "stdout",
     "output_type": "stream",
     "text": [
      "Val Loss: 161770696.549\n",
      "***************************************************\n",
      "\n",
      "=> Saving checkpoint checkpoint14\n",
      "\n",
      "Epoch: 15\n"
     ]
    },
    {
     "name": "stderr",
     "output_type": "stream",
     "text": [
      "88615it [06:50, 215.98it/s]\n"
     ]
    },
    {
     "name": "stdout",
     "output_type": "stream",
     "text": [
      "Loss : 29218854.6235626\n",
      "\n"
     ]
    },
    {
     "name": "stderr",
     "output_type": "stream",
     "text": [
      "4664it [00:09, 482.89it/s]\n"
     ]
    },
    {
     "name": "stdout",
     "output_type": "stream",
     "text": [
      "Val Loss: 105284280.303\n",
      "***************************************************\n",
      "\n",
      "=> Saving checkpoint checkpoint15\n",
      "\n",
      "Epoch: 16\n"
     ]
    },
    {
     "name": "stderr",
     "output_type": "stream",
     "text": [
      "88615it [06:47, 217.24it/s]\n"
     ]
    },
    {
     "name": "stdout",
     "output_type": "stream",
     "text": [
      "Loss : 28014469.607538227\n",
      "\n"
     ]
    },
    {
     "name": "stderr",
     "output_type": "stream",
     "text": [
      "4664it [00:09, 485.78it/s]\n"
     ]
    },
    {
     "name": "stdout",
     "output_type": "stream",
     "text": [
      "Val Loss: 92138640.261\n",
      "***************************************************\n",
      "\n",
      "=> Saving checkpoint checkpoint16\n",
      "\n",
      "Epoch: 17\n"
     ]
    },
    {
     "name": "stderr",
     "output_type": "stream",
     "text": [
      "88615it [06:43, 219.39it/s]\n"
     ]
    },
    {
     "name": "stdout",
     "output_type": "stream",
     "text": [
      "Loss : 35746218.43890989\n",
      "\n"
     ]
    },
    {
     "name": "stderr",
     "output_type": "stream",
     "text": [
      "4664it [00:09, 482.58it/s]\n"
     ]
    },
    {
     "name": "stdout",
     "output_type": "stream",
     "text": [
      "Val Loss: 95604556.662\n",
      "***************************************************\n",
      "\n",
      "=> Saving checkpoint checkpoint17\n",
      "\n",
      "Epoch: 18\n"
     ]
    },
    {
     "name": "stderr",
     "output_type": "stream",
     "text": [
      "88615it [06:44, 219.30it/s]\n"
     ]
    },
    {
     "name": "stdout",
     "output_type": "stream",
     "text": [
      "Loss : 26529545.14491339\n",
      "\n"
     ]
    },
    {
     "name": "stderr",
     "output_type": "stream",
     "text": [
      "4664it [00:09, 483.30it/s]\n"
     ]
    },
    {
     "name": "stdout",
     "output_type": "stream",
     "text": [
      "Val Loss: 159012611.004\n",
      "***************************************************\n",
      "\n",
      "=> Saving checkpoint checkpoint18\n",
      "\n",
      "Epoch: 19\n"
     ]
    },
    {
     "name": "stderr",
     "output_type": "stream",
     "text": [
      "88615it [06:49, 216.41it/s]\n"
     ]
    },
    {
     "name": "stdout",
     "output_type": "stream",
     "text": [
      "Loss : 26713456.17171472\n",
      "\n"
     ]
    },
    {
     "name": "stderr",
     "output_type": "stream",
     "text": [
      "4664it [00:09, 484.32it/s]\n"
     ]
    },
    {
     "name": "stdout",
     "output_type": "stream",
     "text": [
      "Val Loss: 140891731.288\n",
      "***************************************************\n",
      "\n",
      "=> Saving checkpoint checkpoint19\n",
      "\n",
      "Epoch: 20\n"
     ]
    },
    {
     "name": "stderr",
     "output_type": "stream",
     "text": [
      "88615it [06:43, 219.42it/s]\n"
     ]
    },
    {
     "name": "stdout",
     "output_type": "stream",
     "text": [
      "Loss : 40777026.02051007\n",
      "\n"
     ]
    },
    {
     "name": "stderr",
     "output_type": "stream",
     "text": [
      "4664it [00:09, 481.70it/s]\n"
     ]
    },
    {
     "name": "stdout",
     "output_type": "stream",
     "text": [
      "Val Loss: 171860578.806\n",
      "***************************************************\n",
      "\n",
      "=> Saving checkpoint checkpoint20\n",
      "\n",
      "Epoch: 21\n"
     ]
    },
    {
     "name": "stderr",
     "output_type": "stream",
     "text": [
      "88615it [06:41, 220.48it/s]\n"
     ]
    },
    {
     "name": "stdout",
     "output_type": "stream",
     "text": [
      "Loss : 26519977.89074649\n",
      "\n"
     ]
    },
    {
     "name": "stderr",
     "output_type": "stream",
     "text": [
      "4664it [00:09, 479.60it/s]\n"
     ]
    },
    {
     "name": "stdout",
     "output_type": "stream",
     "text": [
      "Val Loss: 177065965.580\n",
      "***************************************************\n",
      "\n",
      "=> Saving checkpoint checkpoint21\n",
      "\n",
      "Epoch: 22\n"
     ]
    },
    {
     "name": "stderr",
     "output_type": "stream",
     "text": [
      "88615it [06:51, 215.23it/s]\n"
     ]
    },
    {
     "name": "stdout",
     "output_type": "stream",
     "text": [
      "Loss : 26048879.31719235\n",
      "\n"
     ]
    },
    {
     "name": "stderr",
     "output_type": "stream",
     "text": [
      "4664it [00:09, 482.05it/s]\n"
     ]
    },
    {
     "name": "stdout",
     "output_type": "stream",
     "text": [
      "Val Loss: 140656319.484\n",
      "***************************************************\n",
      "\n",
      "=> Saving checkpoint checkpoint22\n",
      "\n",
      "Epoch: 23\n"
     ]
    },
    {
     "name": "stderr",
     "output_type": "stream",
     "text": [
      "88615it [06:47, 217.64it/s]\n"
     ]
    },
    {
     "name": "stdout",
     "output_type": "stream",
     "text": [
      "Loss : 25879131.692749534\n",
      "\n"
     ]
    },
    {
     "name": "stderr",
     "output_type": "stream",
     "text": [
      "4664it [00:09, 483.14it/s]\n"
     ]
    },
    {
     "name": "stdout",
     "output_type": "stream",
     "text": [
      "Val Loss: 159029089.360\n",
      "***************************************************\n",
      "\n",
      "=> Saving checkpoint checkpoint23\n",
      "\n",
      "Epoch: 24\n"
     ]
    },
    {
     "name": "stderr",
     "output_type": "stream",
     "text": [
      "88615it [06:47, 217.25it/s]\n"
     ]
    },
    {
     "name": "stdout",
     "output_type": "stream",
     "text": [
      "Loss : 25624083.257603116\n",
      "\n"
     ]
    },
    {
     "name": "stderr",
     "output_type": "stream",
     "text": [
      "4664it [00:09, 487.93it/s]\n"
     ]
    },
    {
     "name": "stdout",
     "output_type": "stream",
     "text": [
      "Val Loss: 121989895.690\n",
      "***************************************************\n",
      "\n",
      "=> Saving checkpoint checkpoint24\n",
      "\n",
      "Epoch: 25\n"
     ]
    },
    {
     "name": "stderr",
     "output_type": "stream",
     "text": [
      "88615it [06:44, 218.98it/s]\n"
     ]
    },
    {
     "name": "stdout",
     "output_type": "stream",
     "text": [
      "Loss : 25422840.548891272\n",
      "\n"
     ]
    },
    {
     "name": "stderr",
     "output_type": "stream",
     "text": [
      "4664it [00:09, 484.59it/s]\n"
     ]
    },
    {
     "name": "stdout",
     "output_type": "stream",
     "text": [
      "Val Loss: 236265545.140\n",
      "***************************************************\n",
      "\n",
      "=> Saving checkpoint checkpoint25\n",
      "\n",
      "Epoch: 26\n"
     ]
    },
    {
     "name": "stderr",
     "output_type": "stream",
     "text": [
      "88615it [06:38, 222.17it/s]\n"
     ]
    },
    {
     "name": "stdout",
     "output_type": "stream",
     "text": [
      "Loss : 25324106.77739096\n",
      "\n"
     ]
    },
    {
     "name": "stderr",
     "output_type": "stream",
     "text": [
      "4664it [00:09, 494.05it/s]\n"
     ]
    },
    {
     "name": "stdout",
     "output_type": "stream",
     "text": [
      "Val Loss: 128714244.602\n",
      "***************************************************\n",
      "\n",
      "=> Saving checkpoint checkpoint26\n",
      "\n",
      "Epoch: 27\n"
     ]
    },
    {
     "name": "stderr",
     "output_type": "stream",
     "text": [
      "88615it [06:32, 225.65it/s]\n"
     ]
    },
    {
     "name": "stdout",
     "output_type": "stream",
     "text": [
      "Loss : 25067474.959397394\n",
      "\n"
     ]
    },
    {
     "name": "stderr",
     "output_type": "stream",
     "text": [
      "4664it [00:09, 487.81it/s]\n"
     ]
    },
    {
     "name": "stdout",
     "output_type": "stream",
     "text": [
      "Val Loss: 145356505.708\n",
      "***************************************************\n",
      "\n",
      "=> Saving checkpoint checkpoint27\n",
      "\n",
      "Epoch: 28\n"
     ]
    },
    {
     "name": "stderr",
     "output_type": "stream",
     "text": [
      "88615it [06:46, 217.82it/s]\n"
     ]
    },
    {
     "name": "stdout",
     "output_type": "stream",
     "text": [
      "Loss : 24496754.397077244\n",
      "\n"
     ]
    },
    {
     "name": "stderr",
     "output_type": "stream",
     "text": [
      "4664it [00:09, 475.55it/s]\n"
     ]
    },
    {
     "name": "stdout",
     "output_type": "stream",
     "text": [
      "Val Loss: 177409691.464\n",
      "***************************************************\n",
      "\n",
      "=> Saving checkpoint checkpoint28\n",
      "\n",
      "Epoch: 29\n"
     ]
    },
    {
     "name": "stderr",
     "output_type": "stream",
     "text": [
      "88615it [06:43, 219.46it/s]\n"
     ]
    },
    {
     "name": "stdout",
     "output_type": "stream",
     "text": [
      "Loss : 24097246.123951927\n",
      "\n"
     ]
    },
    {
     "name": "stderr",
     "output_type": "stream",
     "text": [
      "4664it [00:09, 483.17it/s]\n"
     ]
    },
    {
     "name": "stdout",
     "output_type": "stream",
     "text": [
      "Val Loss: 122054175.842\n",
      "***************************************************\n",
      "\n",
      "=> Saving checkpoint checkpoint29\n",
      "\n",
      "Epoch: 30\n"
     ]
    },
    {
     "name": "stderr",
     "output_type": "stream",
     "text": [
      "88615it [06:49, 216.29it/s]\n"
     ]
    },
    {
     "name": "stdout",
     "output_type": "stream",
     "text": [
      "Loss : 23982990.57005586\n",
      "\n"
     ]
    },
    {
     "name": "stderr",
     "output_type": "stream",
     "text": [
      "4664it [00:09, 484.87it/s]\n"
     ]
    },
    {
     "name": "stdout",
     "output_type": "stream",
     "text": [
      "Val Loss: 126938459.882\n",
      "***************************************************\n",
      "\n",
      "=> Saving checkpoint checkpoint30\n",
      "\n",
      "Epoch: 31\n"
     ]
    },
    {
     "name": "stderr",
     "output_type": "stream",
     "text": [
      "88615it [06:40, 221.45it/s]\n"
     ]
    },
    {
     "name": "stdout",
     "output_type": "stream",
     "text": [
      "Loss : 23748490.30791627\n",
      "\n"
     ]
    },
    {
     "name": "stderr",
     "output_type": "stream",
     "text": [
      "4664it [00:09, 487.61it/s]\n"
     ]
    },
    {
     "name": "stdout",
     "output_type": "stream",
     "text": [
      "Val Loss: 179578794.241\n",
      "***************************************************\n",
      "\n",
      "=> Saving checkpoint checkpoint31\n",
      "\n",
      "Epoch: 32\n"
     ]
    },
    {
     "name": "stderr",
     "output_type": "stream",
     "text": [
      "88615it [06:45, 218.56it/s]\n"
     ]
    },
    {
     "name": "stdout",
     "output_type": "stream",
     "text": [
      "Loss : 23560741.850397788\n",
      "\n"
     ]
    },
    {
     "name": "stderr",
     "output_type": "stream",
     "text": [
      "4664it [00:09, 487.82it/s]\n"
     ]
    },
    {
     "name": "stdout",
     "output_type": "stream",
     "text": [
      "Val Loss: 110424886.594\n",
      "***************************************************\n",
      "\n",
      "=> Saving checkpoint checkpoint32\n",
      "\n",
      "Epoch: 33\n"
     ]
    },
    {
     "name": "stderr",
     "output_type": "stream",
     "text": [
      "88615it [06:40, 221.20it/s]\n"
     ]
    },
    {
     "name": "stdout",
     "output_type": "stream",
     "text": [
      "Loss : 23190462.86094905\n",
      "\n"
     ]
    },
    {
     "name": "stderr",
     "output_type": "stream",
     "text": [
      "4664it [00:09, 488.98it/s]\n"
     ]
    },
    {
     "name": "stdout",
     "output_type": "stream",
     "text": [
      "Val Loss: 160436009.940\n",
      "***************************************************\n",
      "\n",
      "=> Saving checkpoint checkpoint33\n",
      "\n",
      "Epoch: 34\n"
     ]
    },
    {
     "name": "stderr",
     "output_type": "stream",
     "text": [
      "88615it [06:45, 218.48it/s]\n"
     ]
    },
    {
     "name": "stdout",
     "output_type": "stream",
     "text": [
      "Loss : 23005459.662071884\n",
      "\n"
     ]
    },
    {
     "name": "stderr",
     "output_type": "stream",
     "text": [
      "4664it [00:09, 487.48it/s]\n"
     ]
    },
    {
     "name": "stdout",
     "output_type": "stream",
     "text": [
      "Val Loss: 205373125.320\n",
      "***************************************************\n",
      "\n",
      "=> Saving checkpoint checkpoint34\n",
      "\n",
      "Epoch: 35\n"
     ]
    },
    {
     "name": "stderr",
     "output_type": "stream",
     "text": [
      "88615it [06:46, 217.77it/s]\n"
     ]
    },
    {
     "name": "stdout",
     "output_type": "stream",
     "text": [
      "Loss : 23014381.882864077\n",
      "\n"
     ]
    },
    {
     "name": "stderr",
     "output_type": "stream",
     "text": [
      "4664it [00:09, 483.10it/s]\n"
     ]
    },
    {
     "name": "stdout",
     "output_type": "stream",
     "text": [
      "Val Loss: 209736804.179\n",
      "***************************************************\n",
      "\n",
      "=> Saving checkpoint checkpoint35\n",
      "\n",
      "Epoch: 36\n"
     ]
    },
    {
     "name": "stderr",
     "output_type": "stream",
     "text": [
      "88615it [06:38, 222.54it/s]\n"
     ]
    },
    {
     "name": "stdout",
     "output_type": "stream",
     "text": [
      "Loss : 22873220.236015346\n",
      "\n"
     ]
    },
    {
     "name": "stderr",
     "output_type": "stream",
     "text": [
      "4664it [00:09, 483.04it/s]\n"
     ]
    },
    {
     "name": "stdout",
     "output_type": "stream",
     "text": [
      "Val Loss: 218892716.252\n",
      "***************************************************\n",
      "\n",
      "=> Saving checkpoint checkpoint36\n",
      "\n",
      "Epoch: 37\n"
     ]
    },
    {
     "name": "stderr",
     "output_type": "stream",
     "text": [
      "88615it [06:48, 217.01it/s]\n"
     ]
    },
    {
     "name": "stdout",
     "output_type": "stream",
     "text": [
      "Loss : 22785402.664774586\n",
      "\n"
     ]
    },
    {
     "name": "stderr",
     "output_type": "stream",
     "text": [
      "4664it [00:09, 488.65it/s]\n"
     ]
    },
    {
     "name": "stdout",
     "output_type": "stream",
     "text": [
      "Val Loss: 183145457.924\n",
      "***************************************************\n",
      "\n",
      "=> Saving checkpoint checkpoint37\n",
      "\n",
      "Epoch: 38\n"
     ]
    },
    {
     "name": "stderr",
     "output_type": "stream",
     "text": [
      "88615it [06:40, 221.41it/s]\n"
     ]
    },
    {
     "name": "stdout",
     "output_type": "stream",
     "text": [
      "Loss : 22698014.1582802\n",
      "\n"
     ]
    },
    {
     "name": "stderr",
     "output_type": "stream",
     "text": [
      "4664it [00:09, 487.14it/s]\n"
     ]
    },
    {
     "name": "stdout",
     "output_type": "stream",
     "text": [
      "Val Loss: 179680838.712\n",
      "***************************************************\n",
      "\n",
      "=> Saving checkpoint checkpoint38\n",
      "\n",
      "Epoch: 39\n"
     ]
    },
    {
     "name": "stderr",
     "output_type": "stream",
     "text": [
      "88615it [06:43, 219.75it/s]\n"
     ]
    },
    {
     "name": "stdout",
     "output_type": "stream",
     "text": [
      "Loss : 22430421.4924787\n",
      "\n"
     ]
    },
    {
     "name": "stderr",
     "output_type": "stream",
     "text": [
      "4664it [00:09, 514.14it/s]\n"
     ]
    },
    {
     "name": "stdout",
     "output_type": "stream",
     "text": [
      "Val Loss: 185042061.155\n",
      "***************************************************\n",
      "\n",
      "=> Saving checkpoint checkpoint39\n",
      "\n",
      "Epoch: 40\n"
     ]
    },
    {
     "name": "stderr",
     "output_type": "stream",
     "text": [
      "88615it [06:46, 217.91it/s]\n"
     ]
    },
    {
     "name": "stdout",
     "output_type": "stream",
     "text": [
      "Loss : 22393053.31507081\n",
      "\n"
     ]
    },
    {
     "name": "stderr",
     "output_type": "stream",
     "text": [
      "4664it [00:09, 486.18it/s]\n"
     ]
    },
    {
     "name": "stdout",
     "output_type": "stream",
     "text": [
      "Val Loss: 173702977.085\n",
      "***************************************************\n",
      "\n",
      "=> Saving checkpoint checkpoint40\n",
      "\n",
      "Epoch: 41\n"
     ]
    },
    {
     "name": "stderr",
     "output_type": "stream",
     "text": [
      "88615it [06:46, 218.15it/s]\n"
     ]
    },
    {
     "name": "stdout",
     "output_type": "stream",
     "text": [
      "Loss : 22216982.014326017\n",
      "\n"
     ]
    },
    {
     "name": "stderr",
     "output_type": "stream",
     "text": [
      "4664it [00:09, 485.11it/s]\n"
     ]
    },
    {
     "name": "stdout",
     "output_type": "stream",
     "text": [
      "Val Loss: 178940443.796\n",
      "***************************************************\n",
      "\n",
      "=> Saving checkpoint checkpoint41\n",
      "\n",
      "Epoch: 42\n"
     ]
    },
    {
     "name": "stderr",
     "output_type": "stream",
     "text": [
      "88615it [06:46, 217.89it/s]\n"
     ]
    },
    {
     "name": "stdout",
     "output_type": "stream",
     "text": [
      "Loss : 22162386.39479772\n",
      "\n"
     ]
    },
    {
     "name": "stderr",
     "output_type": "stream",
     "text": [
      "4664it [00:09, 487.83it/s]\n"
     ]
    },
    {
     "name": "stdout",
     "output_type": "stream",
     "text": [
      "Val Loss: 160750229.801\n",
      "***************************************************\n",
      "\n",
      "=> Saving checkpoint checkpoint42\n",
      "\n",
      "Epoch: 43\n"
     ]
    },
    {
     "name": "stderr",
     "output_type": "stream",
     "text": [
      "88615it [06:43, 219.47it/s]\n"
     ]
    },
    {
     "name": "stdout",
     "output_type": "stream",
     "text": [
      "Loss : 22051537.653461605\n",
      "\n"
     ]
    },
    {
     "name": "stderr",
     "output_type": "stream",
     "text": [
      "4664it [00:09, 479.82it/s]\n"
     ]
    },
    {
     "name": "stdout",
     "output_type": "stream",
     "text": [
      "Val Loss: 182818982.420\n",
      "***************************************************\n",
      "\n",
      "=> Saving checkpoint checkpoint43\n",
      "\n",
      "Epoch: 44\n"
     ]
    },
    {
     "name": "stderr",
     "output_type": "stream",
     "text": [
      "88615it [06:44, 218.97it/s]\n"
     ]
    },
    {
     "name": "stdout",
     "output_type": "stream",
     "text": [
      "Loss : 21854333.128494047\n",
      "\n"
     ]
    },
    {
     "name": "stderr",
     "output_type": "stream",
     "text": [
      "4664it [00:09, 477.54it/s]\n"
     ]
    },
    {
     "name": "stdout",
     "output_type": "stream",
     "text": [
      "Val Loss: 216316537.766\n",
      "***************************************************\n",
      "\n",
      "=> Saving checkpoint checkpoint44\n",
      "\n",
      "Epoch: 45\n"
     ]
    },
    {
     "name": "stderr",
     "output_type": "stream",
     "text": [
      "88615it [06:43, 219.43it/s]\n"
     ]
    },
    {
     "name": "stdout",
     "output_type": "stream",
     "text": [
      "Loss : 22060792.422360774\n",
      "\n"
     ]
    },
    {
     "name": "stderr",
     "output_type": "stream",
     "text": [
      "4664it [00:09, 484.17it/s]\n"
     ]
    },
    {
     "name": "stdout",
     "output_type": "stream",
     "text": [
      "Val Loss: 199346293.974\n",
      "***************************************************\n",
      "\n",
      "=> Saving checkpoint checkpoint45\n",
      "\n",
      "Epoch: 46\n"
     ]
    },
    {
     "name": "stderr",
     "output_type": "stream",
     "text": [
      "88615it [06:42, 219.99it/s]\n"
     ]
    },
    {
     "name": "stdout",
     "output_type": "stream",
     "text": [
      "Loss : 21712940.184305705\n",
      "\n"
     ]
    },
    {
     "name": "stderr",
     "output_type": "stream",
     "text": [
      "4664it [00:09, 481.05it/s]\n"
     ]
    },
    {
     "name": "stdout",
     "output_type": "stream",
     "text": [
      "Val Loss: 198639721.368\n",
      "***************************************************\n",
      "\n",
      "=> Saving checkpoint checkpoint46\n",
      "\n",
      "Epoch: 47\n"
     ]
    },
    {
     "name": "stderr",
     "output_type": "stream",
     "text": [
      "88615it [06:47, 217.66it/s]\n"
     ]
    },
    {
     "name": "stdout",
     "output_type": "stream",
     "text": [
      "Loss : 20796697.432917677\n",
      "\n"
     ]
    },
    {
     "name": "stderr",
     "output_type": "stream",
     "text": [
      "4664it [00:09, 488.76it/s]\n"
     ]
    },
    {
     "name": "stdout",
     "output_type": "stream",
     "text": [
      "Val Loss: 190655404.712\n",
      "***************************************************\n",
      "\n",
      "=> Saving checkpoint checkpoint47\n",
      "\n",
      "Epoch: 48\n"
     ]
    },
    {
     "name": "stderr",
     "output_type": "stream",
     "text": [
      "88615it [06:43, 219.61it/s]\n"
     ]
    },
    {
     "name": "stdout",
     "output_type": "stream",
     "text": [
      "Loss : 20560718.247903854\n",
      "\n"
     ]
    },
    {
     "name": "stderr",
     "output_type": "stream",
     "text": [
      "4664it [00:09, 486.02it/s]\n"
     ]
    },
    {
     "name": "stdout",
     "output_type": "stream",
     "text": [
      "Val Loss: 159006080.317\n",
      "***************************************************\n",
      "\n",
      "=> Saving checkpoint checkpoint48\n",
      "\n",
      "Epoch: 49\n"
     ]
    },
    {
     "name": "stderr",
     "output_type": "stream",
     "text": [
      "88615it [06:45, 218.66it/s]\n"
     ]
    },
    {
     "name": "stdout",
     "output_type": "stream",
     "text": [
      "Loss : 20499887.705848332\n",
      "\n"
     ]
    },
    {
     "name": "stderr",
     "output_type": "stream",
     "text": [
      "4664it [00:09, 484.54it/s]\n"
     ]
    },
    {
     "name": "stdout",
     "output_type": "stream",
     "text": [
      "Val Loss: 184043810.511\n",
      "***************************************************\n",
      "\n",
      "=> Saving checkpoint checkpoint49\n",
      "\n",
      "Epoch: 50\n"
     ]
    },
    {
     "name": "stderr",
     "output_type": "stream",
     "text": [
      "88615it [06:48, 216.83it/s]\n"
     ]
    },
    {
     "name": "stdout",
     "output_type": "stream",
     "text": [
      "Loss : 20576534.587829374\n",
      "\n"
     ]
    },
    {
     "name": "stderr",
     "output_type": "stream",
     "text": [
      "4664it [00:09, 486.80it/s]"
     ]
    },
    {
     "name": "stdout",
     "output_type": "stream",
     "text": [
      "Val Loss: 184600731.576\n",
      "***************************************************\n",
      "\n",
      "=> Saving checkpoint checkpoint50\n",
      "\n"
     ]
    },
    {
     "name": "stderr",
     "output_type": "stream",
     "text": [
      "\n"
     ]
    }
   ],
   "source": [
    "for epoch in range(num_epochs):\n",
    "    \n",
    "    train_one_epoch()\n",
    "    validate_one_epoch()\n",
    "    \n",
    "    if((epoch%1)==0):\n",
    "        checkpoint = {'state_dict' : model.state_dict(), 'optimizer' : optimizer.state_dict()}\n",
    "        save_checkpoint(checkpoint,f'checkpoint{epoch+1}')"
   ]
  },
  {
   "cell_type": "code",
   "execution_count": null,
   "id": "dc4ff4c1",
   "metadata": {
    "papermill": {
     "duration": 19.284721,
     "end_time": "2024-10-04T22:58:01.338516",
     "exception": false,
     "start_time": "2024-10-04T22:57:42.053795",
     "status": "completed"
    },
    "tags": []
   },
   "outputs": [],
   "source": []
  },
  {
   "cell_type": "code",
   "execution_count": 30,
   "id": "9009cedf",
   "metadata": {
    "execution": {
     "iopub.execute_input": "2024-10-04T22:58:39.817568Z",
     "iopub.status.busy": "2024-10-04T22:58:39.817129Z",
     "iopub.status.idle": "2024-10-04T22:58:39.829745Z",
     "shell.execute_reply": "2024-10-04T22:58:39.828819Z"
    },
    "id": "-CuelDg2seDP",
    "papermill": {
     "duration": 19.299461,
     "end_time": "2024-10-04T22:58:39.831858",
     "exception": false,
     "start_time": "2024-10-04T22:58:20.532397",
     "status": "completed"
    },
    "tags": []
   },
   "outputs": [],
   "source": [
    "import pandas as pd\n",
    "import torch\n",
    "from tqdm import tqdm\n",
    "\n",
    "# Test function with DataFrame creation\n",
    "def evaluate_model(loader, model):\n",
    "    model.train(False)  # Set model to evaluation mode\n",
    "    running_loss = 0.0\n",
    "\n",
    "    # Lists to store the test data, actual, and predicted p_wave_arrival\n",
    "    time_list = []\n",
    "    velocity_list = []\n",
    "    actual_p_wave_arrival_list = []\n",
    "    predicted_p_wave_arrival_list = []\n",
    "\n",
    "    with torch.no_grad():\n",
    "        for batch_index, batch in tqdm(enumerate(loader)):\n",
    "            data, targets = batch[0].to(device), batch[1].to(device)\n",
    "\n",
    "            # Reshape input for LSTM (batch_size, sequence_length, input_size)\n",
    "            data = data.squeeze(1)  # Remove extra dimensions if any\n",
    "\n",
    "            if data.dim() == 2:  # Add sequence length dimension if it's missing\n",
    "                data = data.unsqueeze(1)\n",
    "\n",
    "            # Forward pass\n",
    "            outputs = model(data)\n",
    "\n",
    "            # Calculate loss\n",
    "            loss = loss_function(outputs.squeeze(), targets)\n",
    "            running_loss += loss.item()\n",
    "\n",
    "            # Move data back to CPU and convert to numpy\n",
    "            data_cpu = data.squeeze().cpu().numpy()  # Get the time and velocity data\n",
    "            targets_cpu = targets.cpu().numpy()  # Actual p_wave_arrival\n",
    "            preds_cpu = outputs.squeeze().cpu().numpy()  # Predicted p_wave_arrival\n",
    "\n",
    "            # Append data to lists\n",
    "            time_list.extend(data_cpu[:, 0])  # Extract the 'time' column\n",
    "            velocity_list.extend(data_cpu[:, 1])  # Extract the 'velocity' column\n",
    "            actual_p_wave_arrival_list.extend(targets_cpu)\n",
    "            predicted_p_wave_arrival_list.extend(preds_cpu)\n",
    "\n",
    "    # Create DataFrame\n",
    "    df_results = pd.DataFrame({\n",
    "        'Time': time_list,\n",
    "        'Velocity': velocity_list,\n",
    "        'Actual_p_wave_arrival': actual_p_wave_arrival_list,\n",
    "        'Predicted_p_wave_arrival': predicted_p_wave_arrival_list\n",
    "    })\n",
    "\n",
    "    # Calculate average loss across all batches\n",
    "    avg_loss_across_batches = running_loss / len(loader)\n",
    "\n",
    "    # Print results\n",
    "    print(f'Average Test Loss: {avg_loss_across_batches:.4f}')\n",
    "    print('***************************************************')\n",
    "\n",
    "    return df_results\n"
   ]
  },
  {
   "cell_type": "code",
   "execution_count": 31,
   "id": "e4f5b80a",
   "metadata": {
    "execution": {
     "iopub.execute_input": "2024-10-04T22:59:18.139285Z",
     "iopub.status.busy": "2024-10-04T22:59:18.138810Z",
     "iopub.status.idle": "2024-10-04T22:59:29.686045Z",
     "shell.execute_reply": "2024-10-04T22:59:29.684821Z"
    },
    "papermill": {
     "duration": 30.758263,
     "end_time": "2024-10-04T22:59:29.688351",
     "exception": false,
     "start_time": "2024-10-04T22:58:58.930088",
     "status": "completed"
    },
    "tags": []
   },
   "outputs": [
    {
     "name": "stderr",
     "output_type": "stream",
     "text": [
      "0it [00:00, ?it/s]/opt/conda/lib/python3.10/site-packages/torch/nn/modules/loss.py:538: UserWarning: Using a target size (torch.Size([128, 1])) that is different to the input size (torch.Size([128])). This will likely lead to incorrect results due to broadcasting. Please ensure they have the same size.\n",
      "  return F.mse_loss(input, target, reduction=self.reduction)\n",
      "4643it [00:10, 426.39it/s]/opt/conda/lib/python3.10/site-packages/torch/nn/modules/loss.py:538: UserWarning: Using a target size (torch.Size([120, 1])) that is different to the input size (torch.Size([120])). This will likely lead to incorrect results due to broadcasting. Please ensure they have the same size.\n",
      "  return F.mse_loss(input, target, reduction=self.reduction)\n",
      "4664it [00:10, 426.72it/s]\n"
     ]
    },
    {
     "name": "stdout",
     "output_type": "stream",
     "text": [
      "Average Test Loss: 184600876.2002\n",
      "***************************************************\n"
     ]
    }
   ],
   "source": [
    "# Evaluate the model on the test set\n",
    "tem = evaluate_model(test_loader, model)"
   ]
  },
  {
   "cell_type": "code",
   "execution_count": 32,
   "id": "8065070c",
   "metadata": {
    "execution": {
     "iopub.execute_input": "2024-10-04T23:00:08.018498Z",
     "iopub.status.busy": "2024-10-04T23:00:08.017603Z",
     "iopub.status.idle": "2024-10-04T23:00:08.053916Z",
     "shell.execute_reply": "2024-10-04T23:00:08.052716Z"
    },
    "papermill": {
     "duration": 19.114668,
     "end_time": "2024-10-04T23:00:08.056261",
     "exception": false,
     "start_time": "2024-10-04T22:59:48.941593",
     "status": "completed"
    },
    "tags": []
   },
   "outputs": [
    {
     "data": {
      "text/html": [
       "<div>\n",
       "<style scoped>\n",
       "    .dataframe tbody tr th:only-of-type {\n",
       "        vertical-align: middle;\n",
       "    }\n",
       "\n",
       "    .dataframe tbody tr th {\n",
       "        vertical-align: top;\n",
       "    }\n",
       "\n",
       "    .dataframe thead th {\n",
       "        text-align: right;\n",
       "    }\n",
       "</style>\n",
       "<table border=\"1\" class=\"dataframe\">\n",
       "  <thead>\n",
       "    <tr style=\"text-align: right;\">\n",
       "      <th></th>\n",
       "      <th>Time</th>\n",
       "      <th>Velocity</th>\n",
       "      <th>Actual_p_wave_arrival</th>\n",
       "      <th>Predicted_p_wave_arrival</th>\n",
       "    </tr>\n",
       "  </thead>\n",
       "  <tbody>\n",
       "    <tr>\n",
       "      <th>0</th>\n",
       "      <td>[5820581.5, -0.22785658]</td>\n",
       "      <td>[5820584.0, -0.27070826]</td>\n",
       "      <td>[5824516.0]</td>\n",
       "      <td>5829252.5</td>\n",
       "    </tr>\n",
       "    <tr>\n",
       "      <th>1</th>\n",
       "      <td>[5820582.0, -0.24352632]</td>\n",
       "      <td>[5820584.0, -0.30918336]</td>\n",
       "      <td>[5824516.0]</td>\n",
       "      <td>5829253.0</td>\n",
       "    </tr>\n",
       "    <tr>\n",
       "      <th>2</th>\n",
       "      <td>[5820582.0, -0.24034573]</td>\n",
       "      <td>[5820584.5, -0.27582142]</td>\n",
       "      <td>[5824516.0]</td>\n",
       "      <td>5829253.0</td>\n",
       "    </tr>\n",
       "    <tr>\n",
       "      <th>3</th>\n",
       "      <td>[5820582.0, -0.26816294]</td>\n",
       "      <td>[5820585.0, -0.3071969]</td>\n",
       "      <td>[5824516.0]</td>\n",
       "      <td>5829254.5</td>\n",
       "    </tr>\n",
       "    <tr>\n",
       "      <th>4</th>\n",
       "      <td>[5820582.5, -0.26459828]</td>\n",
       "      <td>[5820585.0, -0.25451726]</td>\n",
       "      <td>[5824516.0]</td>\n",
       "      <td>5829253.5</td>\n",
       "    </tr>\n",
       "    <tr>\n",
       "      <th>...</th>\n",
       "      <td>...</td>\n",
       "      <td>...</td>\n",
       "      <td>...</td>\n",
       "      <td>...</td>\n",
       "    </tr>\n",
       "    <tr>\n",
       "      <th>596979</th>\n",
       "      <td>[5969826.0, -0.26705584]</td>\n",
       "      <td>[5969829.0, -0.16836555]</td>\n",
       "      <td>[5972916.0]</td>\n",
       "      <td>4881718.0</td>\n",
       "    </tr>\n",
       "    <tr>\n",
       "      <th>596980</th>\n",
       "      <td>[5969826.5, -0.26867357]</td>\n",
       "      <td>[5969829.0, -0.14888692]</td>\n",
       "      <td>[5972916.0]</td>\n",
       "      <td>4881718.0</td>\n",
       "    </tr>\n",
       "    <tr>\n",
       "      <th>596981</th>\n",
       "      <td>[5969827.0, -0.27110824]</td>\n",
       "      <td>[5969829.0, -0.122428074]</td>\n",
       "      <td>[5972916.0]</td>\n",
       "      <td>4881718.0</td>\n",
       "    </tr>\n",
       "    <tr>\n",
       "      <th>596982</th>\n",
       "      <td>[5969827.0, -0.27776796]</td>\n",
       "      <td>[5969829.5, -0.098767236]</td>\n",
       "      <td>[5972916.0]</td>\n",
       "      <td>4881718.0</td>\n",
       "    </tr>\n",
       "    <tr>\n",
       "      <th>596983</th>\n",
       "      <td>[5969827.0, -0.26943952]</td>\n",
       "      <td>[5969830.0, -0.075239964]</td>\n",
       "      <td>[5972916.0]</td>\n",
       "      <td>4881718.5</td>\n",
       "    </tr>\n",
       "  </tbody>\n",
       "</table>\n",
       "<p>596984 rows × 4 columns</p>\n",
       "</div>"
      ],
      "text/plain": [
       "                            Time                   Velocity  \\\n",
       "0       [5820581.5, -0.22785658]   [5820584.0, -0.27070826]   \n",
       "1       [5820582.0, -0.24352632]   [5820584.0, -0.30918336]   \n",
       "2       [5820582.0, -0.24034573]   [5820584.5, -0.27582142]   \n",
       "3       [5820582.0, -0.26816294]    [5820585.0, -0.3071969]   \n",
       "4       [5820582.5, -0.26459828]   [5820585.0, -0.25451726]   \n",
       "...                          ...                        ...   \n",
       "596979  [5969826.0, -0.26705584]   [5969829.0, -0.16836555]   \n",
       "596980  [5969826.5, -0.26867357]   [5969829.0, -0.14888692]   \n",
       "596981  [5969827.0, -0.27110824]  [5969829.0, -0.122428074]   \n",
       "596982  [5969827.0, -0.27776796]  [5969829.5, -0.098767236]   \n",
       "596983  [5969827.0, -0.26943952]  [5969830.0, -0.075239964]   \n",
       "\n",
       "       Actual_p_wave_arrival  Predicted_p_wave_arrival  \n",
       "0                [5824516.0]                 5829252.5  \n",
       "1                [5824516.0]                 5829253.0  \n",
       "2                [5824516.0]                 5829253.0  \n",
       "3                [5824516.0]                 5829254.5  \n",
       "4                [5824516.0]                 5829253.5  \n",
       "...                      ...                       ...  \n",
       "596979           [5972916.0]                 4881718.0  \n",
       "596980           [5972916.0]                 4881718.0  \n",
       "596981           [5972916.0]                 4881718.0  \n",
       "596982           [5972916.0]                 4881718.0  \n",
       "596983           [5972916.0]                 4881718.5  \n",
       "\n",
       "[596984 rows x 4 columns]"
      ]
     },
     "execution_count": 32,
     "metadata": {},
     "output_type": "execute_result"
    }
   ],
   "source": [
    "# x = tem.Time.values\n",
    "# y = tem.Velocity.values\n",
    "# p = tem.Actual_p_wave_arrival.unique()\n",
    "# z = tem.Predicted_p_wave_arrival.unique()\n",
    "# print(len(p),len(z))\n",
    "tem[:1700000]"
   ]
  },
  {
   "cell_type": "code",
   "execution_count": null,
   "id": "b0e38080",
   "metadata": {
    "papermill": {
     "duration": 17.003428,
     "end_time": "2024-10-04T23:00:42.197744",
     "exception": false,
     "start_time": "2024-10-04T23:00:25.194316",
     "status": "completed"
    },
    "tags": []
   },
   "outputs": [],
   "source": []
  }
 ],
 "metadata": {
  "colab": {
   "gpuType": "T4",
   "provenance": []
  },
  "gpuClass": "standard",
  "kaggle": {
   "accelerator": "gpu",
   "dataSources": [
    {
     "datasetId": 5814873,
     "sourceId": 9544784,
     "sourceType": "datasetVersion"
    },
    {
     "datasetId": 5817341,
     "sourceId": 9548033,
     "sourceType": "datasetVersion"
    },
    {
     "datasetId": 5817684,
     "sourceId": 9548562,
     "sourceType": "datasetVersion"
    }
   ],
   "dockerImageVersionId": 30787,
   "isGpuEnabled": true,
   "isInternetEnabled": true,
   "language": "python",
   "sourceType": "notebook"
  },
  "kernelspec": {
   "display_name": "Python 3",
   "language": "python",
   "name": "python3"
  },
  "language_info": {
   "codemirror_mode": {
    "name": "ipython",
    "version": 3
   },
   "file_extension": ".py",
   "mimetype": "text/x-python",
   "name": "python",
   "nbconvert_exporter": "python",
   "pygments_lexer": "ipython3",
   "version": "3.10.14"
  },
  "papermill": {
   "default_parameters": {},
   "duration": 21622.927392,
   "end_time": "2024-10-04T23:01:02.074781",
   "environment_variables": {},
   "exception": null,
   "input_path": "__notebook__.ipynb",
   "output_path": "__notebook__.ipynb",
   "parameters": {},
   "start_time": "2024-10-04T17:00:39.147389",
   "version": "2.6.0"
  }
 },
 "nbformat": 4,
 "nbformat_minor": 5
}
